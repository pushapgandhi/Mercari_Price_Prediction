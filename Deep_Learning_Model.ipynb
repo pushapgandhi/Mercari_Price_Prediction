{
 "cells": [
  {
   "cell_type": "markdown",
   "metadata": {},
   "source": [
    "## Deep Learning Model"
   ]
  },
  {
   "cell_type": "code",
   "execution_count": 3,
   "metadata": {
    "executionInfo": {
     "elapsed": 3111,
     "status": "ok",
     "timestamp": 1625981200572,
     "user": {
      "displayName": "PUSHAP GANDHI",
      "photoUrl": "https://lh3.googleusercontent.com/a-/AOh14GhtvSq40Q0iR7PAFnCqNljCvZEL0u3Jwy5L59EZTA=s64",
      "userId": "12599792132870778014"
     },
     "user_tz": -330
    },
    "id": "FDfesuvl75tr"
   },
   "outputs": [],
   "source": [
    "# LOADING THE PEQUIERD LIBRARIES\n",
    "\n",
    "import numpy as np\n",
    "import pandas as pd\n",
    "import tensorflow as tf\n",
    "import warnings\n",
    "warnings.filterwarnings('ignore')\n",
    "from  sklearn.model_selection import train_test_split\n",
    "from tensorflow.keras.preprocessing.text import Tokenizer\n",
    "from tensorflow.keras.preprocessing.sequence import pad_sequences\n",
    "from tensorflow.keras import layers\n",
    "from tensorflow.keras import Model"
   ]
  },
  {
   "cell_type": "code",
   "execution_count": 4,
   "metadata": {
    "colab": {
     "base_uri": "https://localhost:8080/",
     "height": 912
    },
    "executionInfo": {
     "elapsed": 13708,
     "status": "ok",
     "timestamp": 1625981246680,
     "user": {
      "displayName": "PUSHAP GANDHI",
      "photoUrl": "https://lh3.googleusercontent.com/a-/AOh14GhtvSq40Q0iR7PAFnCqNljCvZEL0u3Jwy5L59EZTA=s64",
      "userId": "12599792132870778014"
     },
     "user_tz": -330
    },
    "id": "_67C97AB75tx",
    "outputId": "6db7eb84-fbdd-422e-c091-f518e319f0f4"
   },
   "outputs": [
    {
     "data": {
      "text/html": [
       "<div>\n",
       "<style scoped>\n",
       "    .dataframe tbody tr th:only-of-type {\n",
       "        vertical-align: middle;\n",
       "    }\n",
       "\n",
       "    .dataframe tbody tr th {\n",
       "        vertical-align: top;\n",
       "    }\n",
       "\n",
       "    .dataframe thead th {\n",
       "        text-align: right;\n",
       "    }\n",
       "</style>\n",
       "<table border=\"1\" class=\"dataframe\">\n",
       "  <thead>\n",
       "    <tr style=\"text-align: right;\">\n",
       "      <th></th>\n",
       "      <th>name</th>\n",
       "      <th>item_condition_id</th>\n",
       "      <th>category_name</th>\n",
       "      <th>brand_name</th>\n",
       "      <th>price</th>\n",
       "      <th>shipping</th>\n",
       "      <th>item_description</th>\n",
       "      <th>log_price</th>\n",
       "      <th>name_processed</th>\n",
       "      <th>brand_name_processed</th>\n",
       "      <th>category_name_preprocessed</th>\n",
       "      <th>Tier_1</th>\n",
       "      <th>Tier_2</th>\n",
       "      <th>Tier_3</th>\n",
       "      <th>processed_item_description</th>\n",
       "    </tr>\n",
       "    <tr>\n",
       "      <th>train_id</th>\n",
       "      <th></th>\n",
       "      <th></th>\n",
       "      <th></th>\n",
       "      <th></th>\n",
       "      <th></th>\n",
       "      <th></th>\n",
       "      <th></th>\n",
       "      <th></th>\n",
       "      <th></th>\n",
       "      <th></th>\n",
       "      <th></th>\n",
       "      <th></th>\n",
       "      <th></th>\n",
       "      <th></th>\n",
       "      <th></th>\n",
       "    </tr>\n",
       "  </thead>\n",
       "  <tbody>\n",
       "    <tr>\n",
       "      <th>0</th>\n",
       "      <td>MLB Cincinnati Reds T Shirt Size XL</td>\n",
       "      <td>3</td>\n",
       "      <td>Men/Tops/T-shirts</td>\n",
       "      <td>NaN</td>\n",
       "      <td>10.0</td>\n",
       "      <td>1</td>\n",
       "      <td>No description yet</td>\n",
       "      <td>2.397895</td>\n",
       "      <td>mlb cincinnati reds shirt size xl</td>\n",
       "      <td>mlb</td>\n",
       "      <td>men/top/tshirts</td>\n",
       "      <td>men</td>\n",
       "      <td>top</td>\n",
       "      <td>tshirts</td>\n",
       "      <td>description yet</td>\n",
       "    </tr>\n",
       "    <tr>\n",
       "      <th>1</th>\n",
       "      <td>Razer BlackWidow Chroma Keyboard</td>\n",
       "      <td>3</td>\n",
       "      <td>Electronics/Computers &amp; Tablets/Components &amp; P...</td>\n",
       "      <td>Razer</td>\n",
       "      <td>52.0</td>\n",
       "      <td>0</td>\n",
       "      <td>This keyboard is in great condition and works ...</td>\n",
       "      <td>3.970292</td>\n",
       "      <td>razer blackwidow chroma keyboard</td>\n",
       "      <td>razer</td>\n",
       "      <td>electronic/computer tablet/component parts</td>\n",
       "      <td>electronic</td>\n",
       "      <td>computer tablet</td>\n",
       "      <td>component parts</td>\n",
       "      <td>keyboard great condition works like came box p...</td>\n",
       "    </tr>\n",
       "    <tr>\n",
       "      <th>2</th>\n",
       "      <td>AVA-VIV Blouse</td>\n",
       "      <td>1</td>\n",
       "      <td>Women/Tops &amp; Blouses/Blouse</td>\n",
       "      <td>Target</td>\n",
       "      <td>10.0</td>\n",
       "      <td>1</td>\n",
       "      <td>Adorable top with a hint of lace and a key hol...</td>\n",
       "      <td>2.397895</td>\n",
       "      <td>avaviv blouse</td>\n",
       "      <td>target</td>\n",
       "      <td>women/top blouse/blouse</td>\n",
       "      <td>women</td>\n",
       "      <td>top blouse</td>\n",
       "      <td>blouse</td>\n",
       "      <td>adorable top hint lace key hole back pale pink...</td>\n",
       "    </tr>\n",
       "    <tr>\n",
       "      <th>3</th>\n",
       "      <td>Leather Horse Statues</td>\n",
       "      <td>1</td>\n",
       "      <td>Home/Home Décor/Home Décor Accents</td>\n",
       "      <td>NaN</td>\n",
       "      <td>35.0</td>\n",
       "      <td>1</td>\n",
       "      <td>New with tags. Leather horses. Retail for [rm]...</td>\n",
       "      <td>3.583519</td>\n",
       "      <td>leather horse statues</td>\n",
       "      <td>missing</td>\n",
       "      <td>home/home dcor/home dcor accents</td>\n",
       "      <td>home</td>\n",
       "      <td>home dcor</td>\n",
       "      <td>home dcor accents</td>\n",
       "      <td>new tags leather horses retail stand foot high...</td>\n",
       "    </tr>\n",
       "    <tr>\n",
       "      <th>4</th>\n",
       "      <td>24K GOLD plated rose</td>\n",
       "      <td>1</td>\n",
       "      <td>Women/Jewelry/Necklaces</td>\n",
       "      <td>NaN</td>\n",
       "      <td>44.0</td>\n",
       "      <td>0</td>\n",
       "      <td>Complete with certificate of authenticity</td>\n",
       "      <td>3.806662</td>\n",
       "      <td>24k gold plated rose</td>\n",
       "      <td>missing</td>\n",
       "      <td>women/jewelry/necklaces</td>\n",
       "      <td>women</td>\n",
       "      <td>jewelry</td>\n",
       "      <td>necklaces</td>\n",
       "      <td>complete certificate authenticity</td>\n",
       "    </tr>\n",
       "    <tr>\n",
       "      <th>...</th>\n",
       "      <td>...</td>\n",
       "      <td>...</td>\n",
       "      <td>...</td>\n",
       "      <td>...</td>\n",
       "      <td>...</td>\n",
       "      <td>...</td>\n",
       "      <td>...</td>\n",
       "      <td>...</td>\n",
       "      <td>...</td>\n",
       "      <td>...</td>\n",
       "      <td>...</td>\n",
       "      <td>...</td>\n",
       "      <td>...</td>\n",
       "      <td>...</td>\n",
       "      <td>...</td>\n",
       "    </tr>\n",
       "    <tr>\n",
       "      <th>1482530</th>\n",
       "      <td>Free People Inspired Dress</td>\n",
       "      <td>2</td>\n",
       "      <td>Women/Dresses/Mid-Calf</td>\n",
       "      <td>Free People</td>\n",
       "      <td>20.0</td>\n",
       "      <td>1</td>\n",
       "      <td>Lace, says size small but fits medium perfectl...</td>\n",
       "      <td>3.044522</td>\n",
       "      <td>free people inspired dress</td>\n",
       "      <td>free people</td>\n",
       "      <td>women/dresse/midcalf</td>\n",
       "      <td>women</td>\n",
       "      <td>dresse</td>\n",
       "      <td>midcalf</td>\n",
       "      <td>lace says size small fits medium perfectly nev...</td>\n",
       "    </tr>\n",
       "    <tr>\n",
       "      <th>1482531</th>\n",
       "      <td>Little mermaid handmade dress</td>\n",
       "      <td>2</td>\n",
       "      <td>Kids/Girls 2T-5T/Dresses</td>\n",
       "      <td>Disney</td>\n",
       "      <td>14.0</td>\n",
       "      <td>0</td>\n",
       "      <td>Little mermaid handmade dress never worn size 2t</td>\n",
       "      <td>2.708050</td>\n",
       "      <td>little mermaid handmade dress</td>\n",
       "      <td>disney</td>\n",
       "      <td>kid/girl 2t5t/dresses</td>\n",
       "      <td>kid</td>\n",
       "      <td>girl 2t5t</td>\n",
       "      <td>dresses</td>\n",
       "      <td>little mermaid handmade dress never worn size 2t</td>\n",
       "    </tr>\n",
       "    <tr>\n",
       "      <th>1482532</th>\n",
       "      <td>21 day fix containers and eating plan</td>\n",
       "      <td>2</td>\n",
       "      <td>Sports &amp; Outdoors/Exercise/Fitness accessories</td>\n",
       "      <td>NaN</td>\n",
       "      <td>12.0</td>\n",
       "      <td>0</td>\n",
       "      <td>Used once or twice, still in great shape.</td>\n",
       "      <td>2.564949</td>\n",
       "      <td>21 day fix containers eating plan</td>\n",
       "      <td>missing</td>\n",
       "      <td>sport outdoor/exercise/fitnes accessories</td>\n",
       "      <td>sport outdoor</td>\n",
       "      <td>exercise</td>\n",
       "      <td>fitnes accessories</td>\n",
       "      <td>used twice still great shape</td>\n",
       "    </tr>\n",
       "    <tr>\n",
       "      <th>1482533</th>\n",
       "      <td>World markets lanterns</td>\n",
       "      <td>3</td>\n",
       "      <td>Home/Home Décor/Home Décor Accents</td>\n",
       "      <td>NaN</td>\n",
       "      <td>45.0</td>\n",
       "      <td>1</td>\n",
       "      <td>There is 2 of each one that you see! So 2 red ...</td>\n",
       "      <td>3.828641</td>\n",
       "      <td>world markets lanterns</td>\n",
       "      <td>missing</td>\n",
       "      <td>home/home dcor/home dcor accents</td>\n",
       "      <td>home</td>\n",
       "      <td>home dcor</td>\n",
       "      <td>home dcor accents</td>\n",
       "      <td>2 one see 2 red 2 orange 2 big red orange ones...</td>\n",
       "    </tr>\n",
       "    <tr>\n",
       "      <th>1482534</th>\n",
       "      <td>Brand new lux de ville wallet</td>\n",
       "      <td>1</td>\n",
       "      <td>Women/Women's Accessories/Wallets</td>\n",
       "      <td>NaN</td>\n",
       "      <td>22.0</td>\n",
       "      <td>0</td>\n",
       "      <td>New with tag, red with sparkle. Firm price, no...</td>\n",
       "      <td>3.135494</td>\n",
       "      <td>brand new lux de ville wallet</td>\n",
       "      <td>lux</td>\n",
       "      <td>women/women accessorie/wallets</td>\n",
       "      <td>women</td>\n",
       "      <td>women accessorie</td>\n",
       "      <td>wallets</td>\n",
       "      <td>new tag red sparkle firm price free shipping</td>\n",
       "    </tr>\n",
       "  </tbody>\n",
       "</table>\n",
       "<p>1482535 rows × 15 columns</p>\n",
       "</div>"
      ],
      "text/plain": [
       "                                           name  ...                         processed_item_description\n",
       "train_id                                         ...                                                   \n",
       "0           MLB Cincinnati Reds T Shirt Size XL  ...                                    description yet\n",
       "1              Razer BlackWidow Chroma Keyboard  ...  keyboard great condition works like came box p...\n",
       "2                                AVA-VIV Blouse  ...  adorable top hint lace key hole back pale pink...\n",
       "3                         Leather Horse Statues  ...  new tags leather horses retail stand foot high...\n",
       "4                          24K GOLD plated rose  ...                  complete certificate authenticity\n",
       "...                                         ...  ...                                                ...\n",
       "1482530              Free People Inspired Dress  ...  lace says size small fits medium perfectly nev...\n",
       "1482531           Little mermaid handmade dress  ...   little mermaid handmade dress never worn size 2t\n",
       "1482532   21 day fix containers and eating plan  ...                       used twice still great shape\n",
       "1482533                  World markets lanterns  ...  2 one see 2 red 2 orange 2 big red orange ones...\n",
       "1482534           Brand new lux de ville wallet  ...       new tag red sparkle firm price free shipping\n",
       "\n",
       "[1482535 rows x 15 columns]"
      ]
     },
     "execution_count": 4,
     "metadata": {
      "tags": []
     },
     "output_type": "execute_result"
    }
   ],
   "source": [
    "# LOADING THE TRAIN DATASET\n",
    "df= pd.read_csv(\"/content/drive/MyDrive/Colab Notebooks/cs1/actual/train_processed.csv\",index_col = [\"train_id\"])\n",
    "df"
   ]
  },
  {
   "cell_type": "code",
   "execution_count": 5,
   "metadata": {
    "colab": {
     "base_uri": "https://localhost:8080/",
     "height": 861
    },
    "executionInfo": {
     "elapsed": 28628,
     "status": "ok",
     "timestamp": 1625981275293,
     "user": {
      "displayName": "PUSHAP GANDHI",
      "photoUrl": "https://lh3.googleusercontent.com/a-/AOh14GhtvSq40Q0iR7PAFnCqNljCvZEL0u3Jwy5L59EZTA=s64",
      "userId": "12599792132870778014"
     },
     "user_tz": -330
    },
    "id": "SwoKexPO5PYD",
    "outputId": "2c524ef2-8a08-412c-9392-f9f894c365c7"
   },
   "outputs": [
    {
     "data": {
      "text/html": [
       "<div>\n",
       "<style scoped>\n",
       "    .dataframe tbody tr th:only-of-type {\n",
       "        vertical-align: middle;\n",
       "    }\n",
       "\n",
       "    .dataframe tbody tr th {\n",
       "        vertical-align: top;\n",
       "    }\n",
       "\n",
       "    .dataframe thead th {\n",
       "        text-align: right;\n",
       "    }\n",
       "</style>\n",
       "<table border=\"1\" class=\"dataframe\">\n",
       "  <thead>\n",
       "    <tr style=\"text-align: right;\">\n",
       "      <th></th>\n",
       "      <th>name</th>\n",
       "      <th>item_condition_id</th>\n",
       "      <th>category_name</th>\n",
       "      <th>brand_name</th>\n",
       "      <th>shipping</th>\n",
       "      <th>item_description</th>\n",
       "      <th>name_processed</th>\n",
       "      <th>brand_name_processed</th>\n",
       "      <th>category_name_preprocessed</th>\n",
       "      <th>Tier_1</th>\n",
       "      <th>Tier_2</th>\n",
       "      <th>Tier_3</th>\n",
       "      <th>processed_item_description</th>\n",
       "    </tr>\n",
       "    <tr>\n",
       "      <th>test_id</th>\n",
       "      <th></th>\n",
       "      <th></th>\n",
       "      <th></th>\n",
       "      <th></th>\n",
       "      <th></th>\n",
       "      <th></th>\n",
       "      <th></th>\n",
       "      <th></th>\n",
       "      <th></th>\n",
       "      <th></th>\n",
       "      <th></th>\n",
       "      <th></th>\n",
       "      <th></th>\n",
       "    </tr>\n",
       "  </thead>\n",
       "  <tbody>\n",
       "    <tr>\n",
       "      <th>0</th>\n",
       "      <td>Breast cancer \"I fight like a girl\" ring</td>\n",
       "      <td>1</td>\n",
       "      <td>Women/Jewelry/Rings</td>\n",
       "      <td>NaN</td>\n",
       "      <td>1</td>\n",
       "      <td>Size 7</td>\n",
       "      <td>breast cancer fight like girl ring</td>\n",
       "      <td>ring</td>\n",
       "      <td>women/jewelry/rings</td>\n",
       "      <td>women</td>\n",
       "      <td>jewelry</td>\n",
       "      <td>rings</td>\n",
       "      <td>size 7</td>\n",
       "    </tr>\n",
       "    <tr>\n",
       "      <th>1</th>\n",
       "      <td>25 pcs NEW 7.5\"x12\" Kraft Bubble Mailers</td>\n",
       "      <td>1</td>\n",
       "      <td>Other/Office supplies/Shipping Supplies</td>\n",
       "      <td>NaN</td>\n",
       "      <td>1</td>\n",
       "      <td>25 pcs NEW 7.5\"x12\" Kraft Bubble Mailers Lined...</td>\n",
       "      <td>25 pcs new 75x12 kraft bubble mailers</td>\n",
       "      <td>missing</td>\n",
       "      <td>other/office supplie/shipping supplies</td>\n",
       "      <td>other</td>\n",
       "      <td>office supplie</td>\n",
       "      <td>shipping supplies</td>\n",
       "      <td>25 pcs new 75x12 kraft bubble mailers lined bu...</td>\n",
       "    </tr>\n",
       "    <tr>\n",
       "      <th>2</th>\n",
       "      <td>Coach bag</td>\n",
       "      <td>1</td>\n",
       "      <td>Vintage &amp; Collectibles/Bags and Purses/Handbag</td>\n",
       "      <td>Coach</td>\n",
       "      <td>1</td>\n",
       "      <td>Brand new coach bag. Bought for [rm] at a Coac...</td>\n",
       "      <td>coach bag</td>\n",
       "      <td>coach</td>\n",
       "      <td>vintage collectible/bag and purse/handbag</td>\n",
       "      <td>vintage collectible</td>\n",
       "      <td>bag and purse</td>\n",
       "      <td>handbag</td>\n",
       "      <td>brand new coach bag bought coach outlet</td>\n",
       "    </tr>\n",
       "    <tr>\n",
       "      <th>3</th>\n",
       "      <td>Floral Kimono</td>\n",
       "      <td>2</td>\n",
       "      <td>Women/Sweaters/Cardigan</td>\n",
       "      <td>NaN</td>\n",
       "      <td>0</td>\n",
       "      <td>-floral kimono -never worn -lightweight and pe...</td>\n",
       "      <td>floral kimono</td>\n",
       "      <td>missing</td>\n",
       "      <td>women/sweater/cardigan</td>\n",
       "      <td>women</td>\n",
       "      <td>sweater</td>\n",
       "      <td>cardigan</td>\n",
       "      <td>floral kimono never worn lightweight perfect h...</td>\n",
       "    </tr>\n",
       "    <tr>\n",
       "      <th>4</th>\n",
       "      <td>Life after Death</td>\n",
       "      <td>3</td>\n",
       "      <td>Other/Books/Religion &amp; Spirituality</td>\n",
       "      <td>NaN</td>\n",
       "      <td>1</td>\n",
       "      <td>Rediscovering life after the loss of a loved o...</td>\n",
       "      <td>life death</td>\n",
       "      <td>missing</td>\n",
       "      <td>other/book/religion spirituality</td>\n",
       "      <td>other</td>\n",
       "      <td>book</td>\n",
       "      <td>religion spirituality</td>\n",
       "      <td>rediscovering life loss loved one tony cooke p...</td>\n",
       "    </tr>\n",
       "    <tr>\n",
       "      <th>...</th>\n",
       "      <td>...</td>\n",
       "      <td>...</td>\n",
       "      <td>...</td>\n",
       "      <td>...</td>\n",
       "      <td>...</td>\n",
       "      <td>...</td>\n",
       "      <td>...</td>\n",
       "      <td>...</td>\n",
       "      <td>...</td>\n",
       "      <td>...</td>\n",
       "      <td>...</td>\n",
       "      <td>...</td>\n",
       "      <td>...</td>\n",
       "    </tr>\n",
       "    <tr>\n",
       "      <th>3460720</th>\n",
       "      <td>DARK SAMPLE BYE FOUNDATION MOISTURIZER</td>\n",
       "      <td>1</td>\n",
       "      <td>Beauty/Fragrance/Women</td>\n",
       "      <td>NaN</td>\n",
       "      <td>1</td>\n",
       "      <td>It cosmetics Bye Bye Foundation Full Coverage ...</td>\n",
       "      <td>dark sample bye foundation moisturizer</td>\n",
       "      <td>missing</td>\n",
       "      <td>beauty/fragrance/women</td>\n",
       "      <td>beauty</td>\n",
       "      <td>fragrance</td>\n",
       "      <td>women</td>\n",
       "      <td>cosmetics bye bye foundation full coverage moi...</td>\n",
       "    </tr>\n",
       "    <tr>\n",
       "      <th>3460721</th>\n",
       "      <td>bundle for @brandystash</td>\n",
       "      <td>2</td>\n",
       "      <td>Women/Pants/Other</td>\n",
       "      <td>NaN</td>\n",
       "      <td>1</td>\n",
       "      <td>♡2 pairs of omighty trackiez. one m and one s....</td>\n",
       "      <td>bundle brandystash</td>\n",
       "      <td>missing</td>\n",
       "      <td>women/pant/other</td>\n",
       "      <td>women</td>\n",
       "      <td>pant</td>\n",
       "      <td>other</td>\n",
       "      <td>2 pairs omighty trackiez one one prettiest pinks</td>\n",
       "    </tr>\n",
       "    <tr>\n",
       "      <th>3460722</th>\n",
       "      <td>Toddler High-top Converse</td>\n",
       "      <td>3</td>\n",
       "      <td>Kids/Girls 0-24 Mos/Shoes</td>\n",
       "      <td>Nike</td>\n",
       "      <td>0</td>\n",
       "      <td>Size 5 (toddler). Pink high top converse shoes...</td>\n",
       "      <td>toddler hightop converse</td>\n",
       "      <td>nike</td>\n",
       "      <td>kid/girl 024 mo/shoes</td>\n",
       "      <td>kid</td>\n",
       "      <td>girl 024 mo</td>\n",
       "      <td>shoes</td>\n",
       "      <td>size 5 toddler pink high top converse shoes st...</td>\n",
       "    </tr>\n",
       "    <tr>\n",
       "      <th>3460723</th>\n",
       "      <td>Yoga Sling Sandals</td>\n",
       "      <td>1</td>\n",
       "      <td>Women/Shoes/Sandals</td>\n",
       "      <td>Sanuk</td>\n",
       "      <td>1</td>\n",
       "      <td>super super comfy. i have a pair but ordered t...</td>\n",
       "      <td>yoga sling sandals</td>\n",
       "      <td>sanuk</td>\n",
       "      <td>women/shoe/sandals</td>\n",
       "      <td>women</td>\n",
       "      <td>shoe</td>\n",
       "      <td>sandals</td>\n",
       "      <td>super super comfy pair ordered small brand new</td>\n",
       "    </tr>\n",
       "    <tr>\n",
       "      <th>3460724</th>\n",
       "      <td>Stylish ladies M/M insulated brown coat</td>\n",
       "      <td>3</td>\n",
       "      <td>Women/Coats &amp; Jackets/Other</td>\n",
       "      <td>NaN</td>\n",
       "      <td>1</td>\n",
       "      <td>100% Genuine leather and faux fur insulated co...</td>\n",
       "      <td>stylish ladies mm insulated brown coat</td>\n",
       "      <td>mm</td>\n",
       "      <td>women/coat jacket/other</td>\n",
       "      <td>women</td>\n",
       "      <td>coat jacket</td>\n",
       "      <td>other</td>\n",
       "      <td>100 genuine leather faux fur insulated coat ge...</td>\n",
       "    </tr>\n",
       "  </tbody>\n",
       "</table>\n",
       "<p>3460725 rows × 13 columns</p>\n",
       "</div>"
      ],
      "text/plain": [
       "                                             name  ...                         processed_item_description\n",
       "test_id                                            ...                                                   \n",
       "0        Breast cancer \"I fight like a girl\" ring  ...                                             size 7\n",
       "1        25 pcs NEW 7.5\"x12\" Kraft Bubble Mailers  ...  25 pcs new 75x12 kraft bubble mailers lined bu...\n",
       "2                                       Coach bag  ...            brand new coach bag bought coach outlet\n",
       "3                                   Floral Kimono  ...  floral kimono never worn lightweight perfect h...\n",
       "4                                Life after Death  ...  rediscovering life loss loved one tony cooke p...\n",
       "...                                           ...  ...                                                ...\n",
       "3460720    DARK SAMPLE BYE FOUNDATION MOISTURIZER  ...  cosmetics bye bye foundation full coverage moi...\n",
       "3460721                   bundle for @brandystash  ...   2 pairs omighty trackiez one one prettiest pinks\n",
       "3460722                 Toddler High-top Converse  ...  size 5 toddler pink high top converse shoes st...\n",
       "3460723                        Yoga Sling Sandals  ...     super super comfy pair ordered small brand new\n",
       "3460724   Stylish ladies M/M insulated brown coat  ...  100 genuine leather faux fur insulated coat ge...\n",
       "\n",
       "[3460725 rows x 13 columns]"
      ]
     },
     "execution_count": 5,
     "metadata": {
      "tags": []
     },
     "output_type": "execute_result"
    }
   ],
   "source": [
    "# LOADING THE TEST DATASET\n",
    "df_test= pd.read_csv(\"/content/drive/MyDrive/Colab Notebooks/cs1/actual/test_processed.csv\",index_col = [\"test_id\"])\n",
    "df_test"
   ]
  },
  {
   "cell_type": "markdown",
   "metadata": {
    "id": "MbHWfoTL75ty"
   },
   "source": [
    "## train_test_split"
   ]
  },
  {
   "cell_type": "code",
   "execution_count": 6,
   "metadata": {
    "executionInfo": {
     "elapsed": 2357,
     "status": "ok",
     "timestamp": 1625981277634,
     "user": {
      "displayName": "PUSHAP GANDHI",
      "photoUrl": "https://lh3.googleusercontent.com/a-/AOh14GhtvSq40Q0iR7PAFnCqNljCvZEL0u3Jwy5L59EZTA=s64",
      "userId": "12599792132870778014"
     },
     "user_tz": -330
    },
    "id": "puizvJku75tz"
   },
   "outputs": [],
   "source": [
    "'''SPLITTING THE DATASET'''\n",
    "\n",
    "df_train,df_val = train_test_split(df,test_size=0.1,random_state = 3) "
   ]
  },
  {
   "cell_type": "code",
   "execution_count": 7,
   "metadata": {
    "colab": {
     "base_uri": "https://localhost:8080/"
    },
    "executionInfo": {
     "elapsed": 40,
     "status": "ok",
     "timestamp": 1625981277638,
     "user": {
      "displayName": "PUSHAP GANDHI",
      "photoUrl": "https://lh3.googleusercontent.com/a-/AOh14GhtvSq40Q0iR7PAFnCqNljCvZEL0u3Jwy5L59EZTA=s64",
      "userId": "12599792132870778014"
     },
     "user_tz": -330
    },
    "id": "qDpWdcpL75tz",
    "outputId": "84e73825-c4a3-46f2-f8c5-103d1fdb432a"
   },
   "outputs": [
    {
     "name": "stdout",
     "output_type": "stream",
     "text": [
      "Train Shape =  (1334281, 15)\n",
      "Validation Shape =  (148254, 15)\n"
     ]
    }
   ],
   "source": [
    "print(\"Train Shape = \",df_train.shape)\n",
    "print(\"Validation Shape = \",df_val.shape)"
   ]
  },
  {
   "cell_type": "markdown",
   "metadata": {},
   "source": [
    "### Values of Y "
   ]
  },
  {
   "cell_type": "code",
   "execution_count": 8,
   "metadata": {
    "executionInfo": {
     "elapsed": 32,
     "status": "ok",
     "timestamp": 1625981277642,
     "user": {
      "displayName": "PUSHAP GANDHI",
      "photoUrl": "https://lh3.googleusercontent.com/a-/AOh14GhtvSq40Q0iR7PAFnCqNljCvZEL0u3Jwy5L59EZTA=s64",
      "userId": "12599792132870778014"
     },
     "user_tz": -330
    },
    "id": "5O8x_BO075tz"
   },
   "outputs": [],
   "source": [
    "y_train = df_train.log_price\n",
    "y_val = df_val.log_price"
   ]
  },
  {
   "cell_type": "markdown",
   "metadata": {
    "id": "RadC1LFP75t0"
   },
   "source": [
    "## 1. item_condition_id "
   ]
  },
  {
   "cell_type": "code",
   "execution_count": 9,
   "metadata": {
    "executionInfo": {
     "elapsed": 33,
     "status": "ok",
     "timestamp": 1625981277645,
     "user": {
      "displayName": "PUSHAP GANDHI",
      "photoUrl": "https://lh3.googleusercontent.com/a-/AOh14GhtvSq40Q0iR7PAFnCqNljCvZEL0u3Jwy5L59EZTA=s64",
      "userId": "12599792132870778014"
     },
     "user_tz": -330
    },
    "id": "5xwviZTg75t1"
   },
   "outputs": [],
   "source": [
    "'''KEEPING THE ITEM CONDITON IS SAME '''\n",
    "\n",
    "train_item_cond = df_train.item_condition_id\n",
    "val_item_cond = df_val.item_condition_id\n",
    "test_item_cond = df_test.item_condition_id"
   ]
  },
  {
   "cell_type": "markdown",
   "metadata": {
    "id": "kbuhfGfS75t2"
   },
   "source": [
    "## 2. shipping"
   ]
  },
  {
   "cell_type": "code",
   "execution_count": 10,
   "metadata": {
    "executionInfo": {
     "elapsed": 33,
     "status": "ok",
     "timestamp": 1625981277648,
     "user": {
      "displayName": "PUSHAP GANDHI",
      "photoUrl": "https://lh3.googleusercontent.com/a-/AOh14GhtvSq40Q0iR7PAFnCqNljCvZEL0u3Jwy5L59EZTA=s64",
      "userId": "12599792132870778014"
     },
     "user_tz": -330
    },
    "id": "pVC8GtX175t2"
   },
   "outputs": [],
   "source": [
    "'''KEPPING THE SHIPPING SAME'''\n",
    "train_shipping = df_train.shipping\n",
    "val_shipping = df_val.shipping\n",
    "test_shipping = df_test.shipping"
   ]
  },
  {
   "cell_type": "markdown",
   "metadata": {},
   "source": [
    "### FUNCTION FOR TOKENIZING AND PADDING FEATURE"
   ]
  },
  {
   "cell_type": "code",
   "execution_count": 11,
   "metadata": {
    "executionInfo": {
     "elapsed": 34,
     "status": "ok",
     "timestamp": 1625981277650,
     "user": {
      "displayName": "PUSHAP GANDHI",
      "photoUrl": "https://lh3.googleusercontent.com/a-/AOh14GhtvSq40Q0iR7PAFnCqNljCvZEL0u3Jwy5L59EZTA=s64",
      "userId": "12599792132870778014"
     },
     "user_tz": -330
    },
    "id": "w3qPvdCA75t2"
   },
   "outputs": [],
   "source": [
    "'''THIS FUNCTION TOKENIZES AND PADS THE FEATURE'''\n",
    "\n",
    "def text_vectorizer(feature):\n",
    "    # TOKENIZER\n",
    "    tk = Tokenizer()\n",
    "    # FIT ON TRAIN \n",
    "    tk.fit_on_texts(df_train[feature].apply(str))\n",
    "    # TOKENIZES THE TRAIN DATASET\n",
    "    tk_train = tk.texts_to_sequences(df_train[feature].apply(str))\n",
    "    # TOKENIZES THE VALIDATION DATASET\n",
    "    tk_val = tk.texts_to_sequences(df_val[feature].apply(str))\n",
    "    \n",
    "    # COMPUTES THE MAX LENGTH\n",
    "    max_length = df_train[feature].apply(lambda x :len(str(x).split())).max()\n",
    "    \n",
    "    # COMPUTE THE VOCAB SIZE\n",
    "    vocab_size = len(tk.word_index) + 1\n",
    "    \n",
    "    # PADDING THE TRAIN SEQUENCES\n",
    "    train_pad= pad_sequences(tk_train,padding=\"post\",maxlen = max_length)\n",
    "    # PADDING THE VALIDATION SEQUENCES\n",
    "    val_pad = pad_sequences(tk_val,padding = \"post\", maxlen = max_length)\n",
    "    \n",
    "    # RETURN THE TOKENIZER, MAX LENGTH , PADDED TRAIN SEQUENCES , PADDED VALIDATION SEQUENCES \n",
    "    return tk , max_length,vocab_size, train_pad , val_pad "
   ]
  },
  {
   "cell_type": "markdown",
   "metadata": {
    "id": "Tn3jIYYL75t3"
   },
   "source": [
    "## 3.  brand_name"
   ]
  },
  {
   "cell_type": "code",
   "execution_count": 12,
   "metadata": {
    "executionInfo": {
     "elapsed": 27441,
     "status": "ok",
     "timestamp": 1625981305059,
     "user": {
      "displayName": "PUSHAP GANDHI",
      "photoUrl": "https://lh3.googleusercontent.com/a-/AOh14GhtvSq40Q0iR7PAFnCqNljCvZEL0u3Jwy5L59EZTA=s64",
      "userId": "12599792132870778014"
     },
     "user_tz": -330
    },
    "id": "WK4q0qgJ75t3"
   },
   "outputs": [],
   "source": [
    "'''TOKENIZING BRAND NAME AND PADDING '''\n",
    "\n",
    "tk_brand_name,max_length_brand_name,vocab_size_brand_name,train_brand_name_pad , val_brand_name_pad = text_vectorizer(\"brand_name_processed\")"
   ]
  },
  {
   "cell_type": "code",
   "execution_count": 13,
   "metadata": {
    "colab": {
     "base_uri": "https://localhost:8080/"
    },
    "executionInfo": {
     "elapsed": 76,
     "status": "ok",
     "timestamp": 1625981305074,
     "user": {
      "displayName": "PUSHAP GANDHI",
      "photoUrl": "https://lh3.googleusercontent.com/a-/AOh14GhtvSq40Q0iR7PAFnCqNljCvZEL0u3Jwy5L59EZTA=s64",
      "userId": "12599792132870778014"
     },
     "user_tz": -330
    },
    "id": "trtzf0Rw75t3",
    "outputId": "f41fbbd5-05c2-4d69-be7e-7b6a79b1497e"
   },
   "outputs": [
    {
     "name": "stdout",
     "output_type": "stream",
     "text": [
      "Trian Shape =  (1334281, 8)\n",
      "Validation Shape =  (148254, 8)\n"
     ]
    }
   ],
   "source": [
    "print(\"Trian Shape = \",train_brand_name_pad.shape)\n",
    "print(\"Validation Shape = \",val_brand_name_pad.shape )"
   ]
  },
  {
   "cell_type": "code",
   "execution_count": 14,
   "metadata": {
    "colab": {
     "base_uri": "https://localhost:8080/"
    },
    "executionInfo": {
     "elapsed": 27,
     "status": "ok",
     "timestamp": 1625981305075,
     "user": {
      "displayName": "PUSHAP GANDHI",
      "photoUrl": "https://lh3.googleusercontent.com/a-/AOh14GhtvSq40Q0iR7PAFnCqNljCvZEL0u3Jwy5L59EZTA=s64",
      "userId": "12599792132870778014"
     },
     "user_tz": -330
    },
    "id": "8Ut14r2t75t4",
    "outputId": "d0002095-405c-4fe7-8270-8df7a8721a9e"
   },
   "outputs": [
    {
     "name": "stdout",
     "output_type": "stream",
     "text": [
      "Max Length =  8\n",
      "Vocal Size=  5037\n"
     ]
    }
   ],
   "source": [
    "print(\"Max Length = \", max_length_brand_name)\n",
    "print(\"Vocal Size= \",vocab_size_brand_name)"
   ]
  },
  {
   "cell_type": "code",
   "execution_count": 15,
   "metadata": {
    "colab": {
     "base_uri": "https://localhost:8080/"
    },
    "executionInfo": {
     "elapsed": 36422,
     "status": "ok",
     "timestamp": 1625981341477,
     "user": {
      "displayName": "PUSHAP GANDHI",
      "photoUrl": "https://lh3.googleusercontent.com/a-/AOh14GhtvSq40Q0iR7PAFnCqNljCvZEL0u3Jwy5L59EZTA=s64",
      "userId": "12599792132870778014"
     },
     "user_tz": -330
    },
    "id": "Gllq7oAr5sXN",
    "outputId": "789eb731-7183-46b4-d63f-c618f263223d"
   },
   "outputs": [
    {
     "data": {
      "text/plain": [
       "(3460725, 8)"
      ]
     },
     "execution_count": 15,
     "metadata": {
      "tags": []
     },
     "output_type": "execute_result"
    }
   ],
   "source": [
    "'''TOKENIZING BRAND NAME FOR TEST DATA'''\n",
    "\n",
    "test_brand_name_pad = pad_sequences(tk_brand_name.texts_to_sequences(df_test.brand_name_processed),maxlen=max_length_brand_name,padding=\"post\")\n",
    "test_brand_name_pad.shape"
   ]
  },
  {
   "cell_type": "markdown",
   "metadata": {
    "id": "bdonYpNF75t4"
   },
   "source": [
    "## 4. Tier_1"
   ]
  },
  {
   "cell_type": "code",
   "execution_count": 16,
   "metadata": {
    "executionInfo": {
     "elapsed": 26175,
     "status": "ok",
     "timestamp": 1625981367597,
     "user": {
      "displayName": "PUSHAP GANDHI",
      "photoUrl": "https://lh3.googleusercontent.com/a-/AOh14GhtvSq40Q0iR7PAFnCqNljCvZEL0u3Jwy5L59EZTA=s64",
      "userId": "12599792132870778014"
     },
     "user_tz": -330
    },
    "id": "u47DtJ-B75t4"
   },
   "outputs": [],
   "source": [
    "'''TOKENIZING TIER 1 AND PADDING '''\n",
    "\n",
    "tk_tier1 , max_length_tier1 ,vocab_size_tier1,train_tier1_pad , val_tier1_pad = text_vectorizer(\"Tier_1\")"
   ]
  },
  {
   "cell_type": "code",
   "execution_count": 17,
   "metadata": {
    "colab": {
     "base_uri": "https://localhost:8080/"
    },
    "executionInfo": {
     "elapsed": 60,
     "status": "ok",
     "timestamp": 1625981367599,
     "user": {
      "displayName": "PUSHAP GANDHI",
      "photoUrl": "https://lh3.googleusercontent.com/a-/AOh14GhtvSq40Q0iR7PAFnCqNljCvZEL0u3Jwy5L59EZTA=s64",
      "userId": "12599792132870778014"
     },
     "user_tz": -330
    },
    "id": "pWbLHAPH75t4",
    "outputId": "d9b8b382-2422-47fb-93af-fbf9eb02675f"
   },
   "outputs": [
    {
     "name": "stdout",
     "output_type": "stream",
     "text": [
      "Trian Shape =  (1334281, 2)\n",
      "Validation Shape = (148254, 2)\n"
     ]
    }
   ],
   "source": [
    "print(\"Trian Shape = \",train_tier1_pad.shape)\n",
    "\n",
    "print(\"Validation Shape =\",val_tier1_pad.shape)"
   ]
  },
  {
   "cell_type": "code",
   "execution_count": 18,
   "metadata": {
    "colab": {
     "base_uri": "https://localhost:8080/"
    },
    "executionInfo": {
     "elapsed": 53,
     "status": "ok",
     "timestamp": 1625981367600,
     "user": {
      "displayName": "PUSHAP GANDHI",
      "photoUrl": "https://lh3.googleusercontent.com/a-/AOh14GhtvSq40Q0iR7PAFnCqNljCvZEL0u3Jwy5L59EZTA=s64",
      "userId": "12599792132870778014"
     },
     "user_tz": -330
    },
    "id": "DZIBt5wh75t5",
    "outputId": "fb883b5a-1a3e-4012-a9ef-f2084821dd77"
   },
   "outputs": [
    {
     "name": "stdout",
     "output_type": "stream",
     "text": [
      "Max Length =  2\n",
      "Vocal Size=  14\n"
     ]
    }
   ],
   "source": [
    "print(\"Max Length = \", max_length_tier1)\n",
    "print(\"Vocal Size= \",vocab_size_tier1)"
   ]
  },
  {
   "cell_type": "code",
   "execution_count": 19,
   "metadata": {
    "colab": {
     "base_uri": "https://localhost:8080/"
    },
    "executionInfo": {
     "elapsed": 33115,
     "status": "ok",
     "timestamp": 1625981400671,
     "user": {
      "displayName": "PUSHAP GANDHI",
      "photoUrl": "https://lh3.googleusercontent.com/a-/AOh14GhtvSq40Q0iR7PAFnCqNljCvZEL0u3Jwy5L59EZTA=s64",
      "userId": "12599792132870778014"
     },
     "user_tz": -330
    },
    "id": "J8SXAtBQ6W4T",
    "outputId": "d01ec87a-501d-4ecf-c950-1b1ee07e0ddf"
   },
   "outputs": [
    {
     "data": {
      "text/plain": [
       "(3460725, 2)"
      ]
     },
     "execution_count": 19,
     "metadata": {
      "tags": []
     },
     "output_type": "execute_result"
    }
   ],
   "source": [
    "'''TOKEIZING AND PADDING TIER1 FOR TEST DATASET'''\n",
    "\n",
    "test_tier1_pad = pad_sequences(tk_tier1.texts_to_sequences(df_test.Tier_1),maxlen=max_length_tier1,padding=\"post\")\n",
    "test_tier1_pad.shape"
   ]
  },
  {
   "cell_type": "markdown",
   "metadata": {
    "id": "mO615HGZ75t5"
   },
   "source": [
    "## 5. Tier_2"
   ]
  },
  {
   "cell_type": "code",
   "execution_count": 20,
   "metadata": {
    "executionInfo": {
     "elapsed": 29595,
     "status": "ok",
     "timestamp": 1625981430205,
     "user": {
      "displayName": "PUSHAP GANDHI",
      "photoUrl": "https://lh3.googleusercontent.com/a-/AOh14GhtvSq40Q0iR7PAFnCqNljCvZEL0u3Jwy5L59EZTA=s64",
      "userId": "12599792132870778014"
     },
     "user_tz": -330
    },
    "id": "Uxm0NDI175t5"
   },
   "outputs": [],
   "source": [
    "'''TOKEIZING AND PADDING TIER2 FOR TRAIN AND VALIDATION DATASET'''\n",
    "\n",
    "tk_tier2 , max_length_tier2 ,vocab_size_tier2,train_tier2_pad , val_tier2_pad = text_vectorizer(\"Tier_2\")"
   ]
  },
  {
   "cell_type": "code",
   "execution_count": 21,
   "metadata": {
    "colab": {
     "base_uri": "https://localhost:8080/"
    },
    "executionInfo": {
     "elapsed": 21,
     "status": "ok",
     "timestamp": 1625981430206,
     "user": {
      "displayName": "PUSHAP GANDHI",
      "photoUrl": "https://lh3.googleusercontent.com/a-/AOh14GhtvSq40Q0iR7PAFnCqNljCvZEL0u3Jwy5L59EZTA=s64",
      "userId": "12599792132870778014"
     },
     "user_tz": -330
    },
    "id": "I4uHYuuc75t5",
    "outputId": "ee167a9d-e523-4752-b32b-5521802ad209"
   },
   "outputs": [
    {
     "name": "stdout",
     "output_type": "stream",
     "text": [
      "Trian Shape = = (1334281, 4)\n",
      "Validation Shape =  (148254, 4)\n"
     ]
    }
   ],
   "source": [
    "print(\"Trian Shape = =\",train_tier2_pad.shape)\n",
    "\n",
    "print(\"Validation Shape = \",val_tier2_pad.shape)"
   ]
  },
  {
   "cell_type": "code",
   "execution_count": 22,
   "metadata": {
    "colab": {
     "base_uri": "https://localhost:8080/"
    },
    "executionInfo": {
     "elapsed": 17,
     "status": "ok",
     "timestamp": 1625981430207,
     "user": {
      "displayName": "PUSHAP GANDHI",
      "photoUrl": "https://lh3.googleusercontent.com/a-/AOh14GhtvSq40Q0iR7PAFnCqNljCvZEL0u3Jwy5L59EZTA=s64",
      "userId": "12599792132870778014"
     },
     "user_tz": -330
    },
    "id": "QCMZ1Nd775t6",
    "outputId": "a2f93079-bede-4556-e755-6fbc20761b4a"
   },
   "outputs": [
    {
     "name": "stdout",
     "output_type": "stream",
     "text": [
      "Max Length =  4\n",
      "Vocal Size=  138\n"
     ]
    }
   ],
   "source": [
    "print(\"Max Length = \", max_length_tier2)\n",
    "print(\"Vocal Size= \",vocab_size_tier2)"
   ]
  },
  {
   "cell_type": "code",
   "execution_count": 23,
   "metadata": {
    "colab": {
     "base_uri": "https://localhost:8080/"
    },
    "executionInfo": {
     "elapsed": 33436,
     "status": "ok",
     "timestamp": 1625981463634,
     "user": {
      "displayName": "PUSHAP GANDHI",
      "photoUrl": "https://lh3.googleusercontent.com/a-/AOh14GhtvSq40Q0iR7PAFnCqNljCvZEL0u3Jwy5L59EZTA=s64",
      "userId": "12599792132870778014"
     },
     "user_tz": -330
    },
    "id": "kTT1f1jM-aES",
    "outputId": "40f2dce7-cdbc-458b-9ee4-a7939171a7fb"
   },
   "outputs": [
    {
     "data": {
      "text/plain": [
       "(3460725, 4)"
      ]
     },
     "execution_count": 23,
     "metadata": {
      "tags": []
     },
     "output_type": "execute_result"
    }
   ],
   "source": [
    "'''TOKEIZING AND PADDING TIER2 FOR TEST DATASET'''\n",
    "\n",
    "test_tier2_pad = pad_sequences(tk_tier2.texts_to_sequences(df_test.Tier_2),maxlen=max_length_tier2,padding=\"post\")\n",
    "test_tier2_pad.shape"
   ]
  },
  {
   "cell_type": "markdown",
   "metadata": {
    "id": "C65aQZki75t6"
   },
   "source": [
    "## 6. Tier_3"
   ]
  },
  {
   "cell_type": "code",
   "execution_count": 24,
   "metadata": {
    "executionInfo": {
     "elapsed": 26153,
     "status": "ok",
     "timestamp": 1625981489746,
     "user": {
      "displayName": "PUSHAP GANDHI",
      "photoUrl": "https://lh3.googleusercontent.com/a-/AOh14GhtvSq40Q0iR7PAFnCqNljCvZEL0u3Jwy5L59EZTA=s64",
      "userId": "12599792132870778014"
     },
     "user_tz": -330
    },
    "id": "KKBvO_0C75t6"
   },
   "outputs": [],
   "source": [
    "'''TOKEIZING AND PADDING TIER3 FOR TRAIN AND VALIDATION DATASET'''\n",
    "\n",
    "tk_tier3 , max_length_tier3 ,vocab_size_tier3,train_tier3_pad , val_tier3_pad = text_vectorizer(\"Tier_3\")"
   ]
  },
  {
   "cell_type": "code",
   "execution_count": 25,
   "metadata": {
    "colab": {
     "base_uri": "https://localhost:8080/"
    },
    "executionInfo": {
     "elapsed": 80,
     "status": "ok",
     "timestamp": 1625981489754,
     "user": {
      "displayName": "PUSHAP GANDHI",
      "photoUrl": "https://lh3.googleusercontent.com/a-/AOh14GhtvSq40Q0iR7PAFnCqNljCvZEL0u3Jwy5L59EZTA=s64",
      "userId": "12599792132870778014"
     },
     "user_tz": -330
    },
    "id": "HjzgY-l975t6",
    "outputId": "07f37a9e-fbae-4117-e1a2-c6a5128503ff"
   },
   "outputs": [
    {
     "name": "stdout",
     "output_type": "stream",
     "text": [
      "Trian Shape =  (1334281, 6)\n",
      "Validation Shape =  (148254, 6)\n"
     ]
    }
   ],
   "source": [
    "print(\"Trian Shape = \",train_tier3_pad.shape)\n",
    "\n",
    "print(\"Validation Shape = \",val_tier3_pad.shape)"
   ]
  },
  {
   "cell_type": "code",
   "execution_count": 26,
   "metadata": {
    "colab": {
     "base_uri": "https://localhost:8080/"
    },
    "executionInfo": {
     "elapsed": 74,
     "status": "ok",
     "timestamp": 1625981489756,
     "user": {
      "displayName": "PUSHAP GANDHI",
      "photoUrl": "https://lh3.googleusercontent.com/a-/AOh14GhtvSq40Q0iR7PAFnCqNljCvZEL0u3Jwy5L59EZTA=s64",
      "userId": "12599792132870778014"
     },
     "user_tz": -330
    },
    "id": "E28YFxuo75t7",
    "outputId": "c1be8ce2-f750-448d-d009-582aa6988420"
   },
   "outputs": [
    {
     "name": "stdout",
     "output_type": "stream",
     "text": [
      "Max Length =  6\n",
      "Vocal Size=  966\n"
     ]
    }
   ],
   "source": [
    "print(\"Max Length = \", max_length_tier3)\n",
    "print(\"Vocal Size= \",vocab_size_tier3)"
   ]
  },
  {
   "cell_type": "code",
   "execution_count": 27,
   "metadata": {
    "colab": {
     "base_uri": "https://localhost:8080/"
    },
    "executionInfo": {
     "elapsed": 38730,
     "status": "ok",
     "timestamp": 1625981528424,
     "user": {
      "displayName": "PUSHAP GANDHI",
      "photoUrl": "https://lh3.googleusercontent.com/a-/AOh14GhtvSq40Q0iR7PAFnCqNljCvZEL0u3Jwy5L59EZTA=s64",
      "userId": "12599792132870778014"
     },
     "user_tz": -330
    },
    "id": "oKiJVFPE-obR",
    "outputId": "cde5521e-b315-4ab8-ed76-9a88eaf917d3"
   },
   "outputs": [
    {
     "data": {
      "text/plain": [
       "(3460725, 6)"
      ]
     },
     "execution_count": 27,
     "metadata": {
      "tags": []
     },
     "output_type": "execute_result"
    }
   ],
   "source": [
    "'''TOKEIZING AND PADDING TIER3 FOR TEST DATASET'''\n",
    "\n",
    "test_tier3_pad = pad_sequences(tk_tier3.texts_to_sequences(df_test.Tier_3),maxlen=max_length_tier3,padding=\"post\")\n",
    "test_tier3_pad.shape"
   ]
  },
  {
   "cell_type": "markdown",
   "metadata": {
    "id": "ttRtek4c75t7"
   },
   "source": [
    "##  7.  name_processed"
   ]
  },
  {
   "cell_type": "code",
   "execution_count": 28,
   "metadata": {
    "executionInfo": {
     "elapsed": 38436,
     "status": "ok",
     "timestamp": 1625981566813,
     "user": {
      "displayName": "PUSHAP GANDHI",
      "photoUrl": "https://lh3.googleusercontent.com/a-/AOh14GhtvSq40Q0iR7PAFnCqNljCvZEL0u3Jwy5L59EZTA=s64",
      "userId": "12599792132870778014"
     },
     "user_tz": -330
    },
    "id": "m-W-W3wL75t7"
   },
   "outputs": [],
   "source": [
    "'''TOKEIZING AND PADDING NAME PROCESSED FOR TRAIN AND VALIDATION DATASET'''\n",
    "\n",
    "tk_name_processed , max_length_name_processed ,vocab_size_name_processed , train_name_processed_pad , val_name_processed_pad = text_vectorizer(\"name_processed\")"
   ]
  },
  {
   "cell_type": "code",
   "execution_count": 29,
   "metadata": {
    "colab": {
     "base_uri": "https://localhost:8080/"
    },
    "executionInfo": {
     "elapsed": 33,
     "status": "ok",
     "timestamp": 1625981566814,
     "user": {
      "displayName": "PUSHAP GANDHI",
      "photoUrl": "https://lh3.googleusercontent.com/a-/AOh14GhtvSq40Q0iR7PAFnCqNljCvZEL0u3Jwy5L59EZTA=s64",
      "userId": "12599792132870778014"
     },
     "user_tz": -330
    },
    "id": "C4mJ4eZv75t8",
    "outputId": "5a5a591a-6593-4638-a874-f5d9fffa8953"
   },
   "outputs": [
    {
     "name": "stdout",
     "output_type": "stream",
     "text": [
      "Trian Shape =  (1334281, 13)\n",
      "Validation Shape =  (148254, 13)\n"
     ]
    }
   ],
   "source": [
    "print(\"Trian Shape = \",train_name_processed_pad.shape)\n",
    "\n",
    "print(\"Validation Shape = \",val_name_processed_pad.shape)"
   ]
  },
  {
   "cell_type": "code",
   "execution_count": 30,
   "metadata": {
    "colab": {
     "base_uri": "https://localhost:8080/"
    },
    "executionInfo": {
     "elapsed": 14,
     "status": "ok",
     "timestamp": 1625981566815,
     "user": {
      "displayName": "PUSHAP GANDHI",
      "photoUrl": "https://lh3.googleusercontent.com/a-/AOh14GhtvSq40Q0iR7PAFnCqNljCvZEL0u3Jwy5L59EZTA=s64",
      "userId": "12599792132870778014"
     },
     "user_tz": -330
    },
    "id": "F7j0xLLT75t8",
    "outputId": "4d154172-b16c-45fe-d492-758b755db7f0"
   },
   "outputs": [
    {
     "name": "stdout",
     "output_type": "stream",
     "text": [
      "Max Length =  13\n",
      "Vocal Size=  129083\n"
     ]
    }
   ],
   "source": [
    "print(\"Max Length = \", max_length_name_processed)\n",
    "print(\"Vocal Size= \",vocab_size_name_processed)"
   ]
  },
  {
   "cell_type": "code",
   "execution_count": 31,
   "metadata": {
    "colab": {
     "base_uri": "https://localhost:8080/"
    },
    "executionInfo": {
     "elapsed": 43540,
     "status": "ok",
     "timestamp": 1625981610347,
     "user": {
      "displayName": "PUSHAP GANDHI",
      "photoUrl": "https://lh3.googleusercontent.com/a-/AOh14GhtvSq40Q0iR7PAFnCqNljCvZEL0u3Jwy5L59EZTA=s64",
      "userId": "12599792132870778014"
     },
     "user_tz": -330
    },
    "id": "wtY8m4d7--v0",
    "outputId": "47e848ea-ba54-4156-ac07-a3f57b21d5f9"
   },
   "outputs": [
    {
     "data": {
      "text/plain": [
       "(3460725, 13)"
      ]
     },
     "execution_count": 31,
     "metadata": {
      "tags": []
     },
     "output_type": "execute_result"
    }
   ],
   "source": [
    "'''TOKEIZING AND PADDING NAME PROCESSED FOR TEST DATASET'''\n",
    "\n",
    "test_name_processed_pad = pad_sequences(tk_name_processed.texts_to_sequences(df_test.name_processed),maxlen=max_length_name_processed,padding=\"post\")\n",
    "test_name_processed_pad.shape"
   ]
  },
  {
   "cell_type": "markdown",
   "metadata": {
    "id": "ST4r_3GV75t8"
   },
   "source": [
    "## 8. item_ description"
   ]
  },
  {
   "cell_type": "code",
   "execution_count": 32,
   "metadata": {
    "executionInfo": {
     "elapsed": 65149,
     "status": "ok",
     "timestamp": 1625981675474,
     "user": {
      "displayName": "PUSHAP GANDHI",
      "photoUrl": "https://lh3.googleusercontent.com/a-/AOh14GhtvSq40Q0iR7PAFnCqNljCvZEL0u3Jwy5L59EZTA=s64",
      "userId": "12599792132870778014"
     },
     "user_tz": -330
    },
    "id": "HQUxNKCQ75t8"
   },
   "outputs": [],
   "source": [
    "'''TOKEIZING AND PADDING ITEM DESCRIPTION FOR TRAIN AND VALIDATION DATASET'''\n",
    "\n",
    "tk_desc , max_len_desc ,vocab_size_desc,train_desc_pad , val_desc_pad = text_vectorizer(\"processed_item_description\")"
   ]
  },
  {
   "cell_type": "code",
   "execution_count": 33,
   "metadata": {
    "colab": {
     "base_uri": "https://localhost:8080/"
    },
    "executionInfo": {
     "elapsed": 31,
     "status": "ok",
     "timestamp": 1625981675476,
     "user": {
      "displayName": "PUSHAP GANDHI",
      "photoUrl": "https://lh3.googleusercontent.com/a-/AOh14GhtvSq40Q0iR7PAFnCqNljCvZEL0u3Jwy5L59EZTA=s64",
      "userId": "12599792132870778014"
     },
     "user_tz": -330
    },
    "id": "ns053RK775t8",
    "outputId": "0df5f1b4-8a1d-4d21-b249-3e5a0a0cc374"
   },
   "outputs": [
    {
     "name": "stdout",
     "output_type": "stream",
     "text": [
      "Trian Shape =  (1334281, 193)\n",
      "Validation Shape =  (148254, 193)\n"
     ]
    }
   ],
   "source": [
    "print(\"Trian Shape = \",train_desc_pad.shape)\n",
    "\n",
    "print(\"Validation Shape = \",val_desc_pad.shape)"
   ]
  },
  {
   "cell_type": "code",
   "execution_count": 34,
   "metadata": {
    "colab": {
     "base_uri": "https://localhost:8080/"
    },
    "executionInfo": {
     "elapsed": 26,
     "status": "ok",
     "timestamp": 1625981675478,
     "user": {
      "displayName": "PUSHAP GANDHI",
      "photoUrl": "https://lh3.googleusercontent.com/a-/AOh14GhtvSq40Q0iR7PAFnCqNljCvZEL0u3Jwy5L59EZTA=s64",
      "userId": "12599792132870778014"
     },
     "user_tz": -330
    },
    "id": "gOl8l-WW75t8",
    "outputId": "b2093f52-e4f8-4b17-d07e-e843130c9a08"
   },
   "outputs": [
    {
     "name": "stdout",
     "output_type": "stream",
     "text": [
      "Max Length =  193\n",
      "Vocal Size=  264441\n"
     ]
    }
   ],
   "source": [
    "print(\"Max Length = \", max_len_desc)\n",
    "print(\"Vocal Size= \",vocab_size_desc)"
   ]
  },
  {
   "cell_type": "code",
   "execution_count": 35,
   "metadata": {
    "colab": {
     "base_uri": "https://localhost:8080/"
    },
    "executionInfo": {
     "elapsed": 77689,
     "status": "ok",
     "timestamp": 1625981753147,
     "user": {
      "displayName": "PUSHAP GANDHI",
      "photoUrl": "https://lh3.googleusercontent.com/a-/AOh14GhtvSq40Q0iR7PAFnCqNljCvZEL0u3Jwy5L59EZTA=s64",
      "userId": "12599792132870778014"
     },
     "user_tz": -330
    },
    "id": "zIVYq5I6_Xz6",
    "outputId": "4bc27204-71a0-4572-f431-07e3ff0576ee"
   },
   "outputs": [
    {
     "data": {
      "text/plain": [
       "(3460725, 193)"
      ]
     },
     "execution_count": 35,
     "metadata": {
      "tags": []
     },
     "output_type": "execute_result"
    }
   ],
   "source": [
    "'''TOKEIZING AND PADDING ITEM DESCRIPTION FOR TEST DATASET'''\n",
    "\n",
    "test_item_desc_pad = pad_sequences(tk_desc.texts_to_sequences(df_test.processed_item_description),maxlen=max_len_desc,padding=\"post\")\n",
    "test_item_desc_pad.shape"
   ]
  },
  {
   "cell_type": "markdown",
   "metadata": {},
   "source": [
    "### Values for Target"
   ]
  },
  {
   "cell_type": "code",
   "execution_count": 36,
   "metadata": {
    "executionInfo": {
     "elapsed": 72,
     "status": "ok",
     "timestamp": 1625981753151,
     "user": {
      "displayName": "PUSHAP GANDHI",
      "photoUrl": "https://lh3.googleusercontent.com/a-/AOh14GhtvSq40Q0iR7PAFnCqNljCvZEL0u3Jwy5L59EZTA=s64",
      "userId": "12599792132870778014"
     },
     "user_tz": -330
    },
    "id": "oEPQDGLS75t9"
   },
   "outputs": [],
   "source": [
    "'''STORING THE LOG PRICES AS TARGET VALUES'''\n",
    "\n",
    "y_train = df_train.log_price\n",
    "y_val = df_val.log_price"
   ]
  },
  {
   "cell_type": "code",
   "execution_count": 38,
   "metadata": {
    "executionInfo": {
     "elapsed": 4034,
     "status": "ok",
     "timestamp": 1625981779025,
     "user": {
      "displayName": "PUSHAP GANDHI",
      "photoUrl": "https://lh3.googleusercontent.com/a-/AOh14GhtvSq40Q0iR7PAFnCqNljCvZEL0u3Jwy5L59EZTA=s64",
      "userId": "12599792132870778014"
     },
     "user_tz": -330
    },
    "id": "_TjtYriP75t9"
   },
   "outputs": [],
   "source": [
    "'''STORING THE FEATURES IN LIST FORM'''\n",
    "\n",
    "# TRAIN FEATURES\n",
    "x_train = [train_item_cond,train_shipping,train_brand_name_pad,train_tier1_pad,train_tier2_pad,train_tier3_pad,train_name_processed_pad,train_desc_pad]\n",
    "# VALIDATION FEATURES\n",
    "x_val= [val_item_cond,val_shipping,val_brand_name_pad,val_tier1_pad,val_tier2_pad,val_tier3_pad,val_name_processed_pad,val_desc_pad]\n",
    "# TEST VALIDATION\n",
    "x_test= [test_item_cond,test_shipping,test_brand_name_pad,test_tier1_pad,test_tier2_pad,test_tier3_pad,test_name_processed_pad,test_item_desc_pad]"
   ]
  },
  {
   "cell_type": "markdown",
   "metadata": {
    "id": "ZKs29hhV75t9"
   },
   "source": [
    "## Architecture"
   ]
  },
  {
   "cell_type": "code",
   "execution_count": 39,
   "metadata": {
    "executionInfo": {
     "elapsed": 4774,
     "status": "ok",
     "timestamp": 1625981788901,
     "user": {
      "displayName": "PUSHAP GANDHI",
      "photoUrl": "https://lh3.googleusercontent.com/a-/AOh14GhtvSq40Q0iR7PAFnCqNljCvZEL0u3Jwy5L59EZTA=s64",
      "userId": "12599792132870778014"
     },
     "user_tz": -330
    },
    "id": "Sdj62RvroUEP"
   },
   "outputs": [],
   "source": [
    "tf.keras.backend.clear_session()\n",
    "\n",
    "# ITEM CONDITION ID\n",
    "inp1 = layers.Input(shape=(1)) # INPUT 1 \n",
    "emb1  = layers.Embedding(6,10,input_length=1)(inp1) # EMBEDDING 1\n",
    "flat1 = layers.Flatten()(emb1) # FLATTEN\n",
    "\n",
    "\n",
    "# SHIPPING \n",
    "inp2 = layers.Input(shape=(1)) # INPUT 2 \n",
    "d2 = layers.Dense(10,activation=\"relu\")(inp2) # DENSE LAYER 2\n",
    "\n",
    "\n",
    "# BRAND NAME\n",
    "inp3 = layers.Input(shape= (8)) # INPUT 3\n",
    "emb3 = layers.Embedding(vocab_size_brand_name ,16 ,input_length= 8 )(inp3) # EMBEDDING 3\n",
    "flat3 = layers.Flatten()(emb3) # FLATTEN\n",
    "\n",
    "# Tier_1\n",
    "inp4 = layers.Input(shape = (2)) # INPUT 4\n",
    "emb4 = layers.Embedding(vocab_size_tier1, 16 , input_length=2 )(inp4) # EMBEDDING 4\n",
    "flat4 = layers.Flatten()(emb4) # FLATTEN \n",
    "\n",
    "# Tier_2\n",
    "inp5= layers.Input(shape = (4)) # INPUT 5\n",
    "emb5 = layers.Embedding(vocab_size_tier2 , 16 ,input_length= 4 )(inp5) # EMBEDDING 5\n",
    "flat5 = layers.Flatten()(emb5) # FLATTEN\n",
    "\n",
    "# Tier_3\n",
    "inp6= layers.Input(shape = (6)) # INPUT 6 \n",
    "emb6 = layers.Embedding(vocab_size_tier3, 16 ,input_length= 6 )(inp6) # EMBEDDING 6\n",
    "flat6 = layers.Flatten()(emb6) # FLATTEN\n",
    "\n",
    "# NAME PROCESSED\n",
    "inp7= layers.Input(shape = (13)) # INPUT 7\n",
    "emb7 = layers.Embedding(vocab_size_name_processed,20 ,input_length= 13 )(inp7) # EMBEDDING 7\n",
    "gru7 = layers.GRU(64,return_sequences=True)(emb7) # GRU\n",
    "flat7 = layers.Flatten()(lstm7) # FLATTEN\n",
    "\n",
    "# ITEM DESCRIPTION\n",
    "inp8= layers.Input(shape = (193)) # INPUT 8 \n",
    "emb8 = layers.Embedding(vocab_size_desc , 40 , input_length= 193 )(inp8) # EMBEDDING 8\n",
    "lstm8 = layers.GRU(64,return_sequences=True)(emb8) # GRU\n",
    "flat8 = layers.Flatten()(lstm8) # FLATTEN\n",
    "\n",
    "# COCATINATE\n",
    "concat = layers.Concatenate()([flat1,d2,flat3,flat4,flat5,flat6,flat7,flat8])\n",
    "\n",
    "# DENSE LAYERS\n",
    "dense1 = layers.Dense(512,activation=\"relu\")(concat)\n",
    "# DROPOUT LAYER\n",
    "drop2 = layers.Dropout(0.2)(dense1)\n",
    "# DENSE LAYER\n",
    "dense2 = layers.Dense(256,activation=\"relu\")(drop2)\n",
    "# DROPOUT LAYER\n",
    "drop2 = layers.Dropout(0.3)(dense2)\n",
    "# DENSE LAYER\n",
    "dense3 = layers.Dense(128,activation=\"relu\")(drop2)\n",
    "# DROPOUT LAYER\n",
    "drop2 = layers.Dropout(0.4)(dense3)\n",
    "# BATCHNORM LAYER\n",
    "bn2  = layers.BatchNormalization()(drop2)\n",
    "# DENSE LAYER\n",
    "dense4 = layers.Dense(1,activation=\"linear\")(bn2)\n",
    "# MODEL\n",
    "model =  Model(inputs= [inp1,inp2,inp3,inp4,inp5,inp6,inp7,inp8],outputs=dense4)\n",
    "\n",
    "# SCHEDULE\n",
    "def shedule(epoch,lr):\n",
    "    if epoch<=2:\n",
    "        return lr\n",
    "    else:\n",
    "        return lr*0.1\n",
    "# CALLBACKS\n",
    "lr = tf.keras.callbacks.LearningRateScheduler(shedule,verbose=1)\n",
    "save = tf.keras.callbacks.ModelCheckpoint(\"/content/drive/MyDrive/Colab Notebooks/cs1/deep_learning_model/save1/best.h5\",monitor=\"val_root_mean_squared_error\",mode=\"min\",save_best_only=True, save_weights_only=True,verbose=1)\n",
    "earlystop = tf.keras.callbacks.EarlyStopping(monitor=\"val_root_mean_squared_error\",min_delta= 0.01, patience=2,mode=\"min\" )\n",
    "\n",
    "# COMPILING MODEL\n",
    "model.compile(optimizer=\"adam\",loss=\"mse\",metrics=  tf.keras.metrics.RootMeanSquaredError())"
   ]
  },
  {
   "cell_type": "code",
   "execution_count": 69,
   "metadata": {
    "colab": {
     "base_uri": "https://localhost:8080/",
     "height": 0
    },
    "executionInfo": {
     "elapsed": 105,
     "status": "ok",
     "timestamp": 1626081479312,
     "user": {
      "displayName": "PUSHAP GANDHI",
      "photoUrl": "https://lh3.googleusercontent.com/a-/AOh14GhtvSq40Q0iR7PAFnCqNljCvZEL0u3Jwy5L59EZTA=s64",
      "userId": "12599792132870778014"
     },
     "user_tz": -330
    },
    "id": "ThZgZL6ZGjrr",
    "outputId": "44c61f4c-fd62-40b9-d24f-6edbbbcdc450"
   },
   "outputs": [
    {
     "data": {
      "image/png": "[encoded data removed]",
      "text/plain": [
       "<IPython.core.display.Image object>"
      ]
     },
     "execution_count": 69,
     "metadata": {
      "tags": []
     },
     "output_type": "execute_result"
    }
   ],
   "source": [
    "# PLOTTING THE MODEL ARCHITECTURE\n",
    "tf.keras.utils.plot_model(model,show_shapes=True)"
   ]
  },
  {
   "cell_type": "code",
   "execution_count": null,
   "metadata": {
    "colab": {
     "base_uri": "https://localhost:8080/"
    },
    "executionInfo": {
     "elapsed": 8663602,
     "status": "ok",
     "timestamp": 1626080455124,
     "user": {
      "displayName": "Pushap Gandhi",
      "photoUrl": "",
      "userId": "00845388670438865001"
     },
     "user_tz": -330
    },
    "id": "2ORI8nAt_FK_",
    "outputId": "ae1fe509-d278-4823-b7ca-30f98ab58bec"
   },
   "outputs": [
    {
     "name": "stdout",
     "output_type": "stream",
     "text": [
      "Epoch 1/10\n",
      "\n",
      "Epoch 00001: LearningRateScheduler reducing learning rate to 0.0010000000474974513.\n",
      "13343/13343 [==============================] - 2183s 163ms/step - loss: 0.3006 - root_mean_squared_error: 0.5483 - val_loss: 0.2056 - val_root_mean_squared_error: 0.4534\n",
      "\n",
      "Epoch 00001: val_root_mean_squared_error improved from inf to 0.45339, saving model to /content/drive/MyDrive/Colab Notebooks/cs1/deep_learning_model/save1/best.h5\n",
      "Epoch 2/10\n",
      "\n",
      "Epoch 00002: LearningRateScheduler reducing learning rate to 0.0010000000474974513.\n",
      "13343/13343 [==============================] - 2140s 160ms/step - loss: 0.2111 - root_mean_squared_error: 0.4595 - val_loss: 0.1899 - val_root_mean_squared_error: 0.4357\n",
      "\n",
      "Epoch 00002: val_root_mean_squared_error improved from 0.45339 to 0.43572, saving model to /content/drive/MyDrive/Colab Notebooks/cs1/deep_learning_model/save1/best.h5\n",
      "Epoch 3/10\n",
      "\n",
      "Epoch 00003: LearningRateScheduler reducing learning rate to 0.0010000000474974513.\n",
      "13343/13343 [==============================] - 2150s 161ms/step - loss: 0.1880 - root_mean_squared_error: 0.4336 - val_loss: 0.1900 - val_root_mean_squared_error: 0.4358\n",
      "\n",
      "Epoch 00003: val_root_mean_squared_error did not improve from 0.43572\n",
      "Epoch 4/10\n",
      "\n",
      "Epoch 00004: LearningRateScheduler reducing learning rate to 0.00010000000474974513.\n",
      "13343/13343 [==============================] - 2184s 164ms/step - loss: 0.1600 - root_mean_squared_error: 0.4000 - val_loss: 0.1863 - val_root_mean_squared_error: 0.4316\n",
      "\n",
      "Epoch 00004: val_root_mean_squared_error improved from 0.43572 to 0.43163, saving model to /content/drive/MyDrive/Colab Notebooks/cs1/deep_learning_model/save1/best.h5\n"
     ]
    },
    {
     "data": {
      "text/plain": [
       "<tensorflow.python.keras.callbacks.History at 0x7fbb0f0a4550>"
      ]
     },
     "execution_count": 40,
     "metadata": {
      "tags": []
     },
     "output_type": "execute_result"
    }
   ],
   "source": [
    "# FITTING THE MODEL\n",
    "\n",
    "model.fit(x=x_train,y=y_train,validation_data=(x_val,y_val) ,epochs=10,batch_size = 100,callbacks=[save,lr,earlystop])"
   ]
  },
  {
   "cell_type": "code",
   "execution_count": 60,
   "metadata": {
    "executionInfo": {
     "elapsed": 1120,
     "status": "ok",
     "timestamp": 1626081149520,
     "user": {
      "displayName": "PUSHAP GANDHI",
      "photoUrl": "https://lh3.googleusercontent.com/a-/AOh14GhtvSq40Q0iR7PAFnCqNljCvZEL0u3Jwy5L59EZTA=s64",
      "userId": "12599792132870778014"
     },
     "user_tz": -330
    },
    "id": "NemZLUATBegx"
   },
   "outputs": [],
   "source": [
    "# LOADING THE MODEL\n",
    "model.load_weights(\"/content/drive/MyDrive/Colab Notebooks/cs1/deep_learning_model/save1/best.h5\")"
   ]
  },
  {
   "cell_type": "code",
   "execution_count": 62,
   "metadata": {
    "colab": {
     "base_uri": "https://localhost:8080/"
    },
    "executionInfo": {
     "elapsed": 3479,
     "status": "ok",
     "timestamp": 1626081179812,
     "user": {
      "displayName": "PUSHAP GANDHI",
      "photoUrl": "https://lh3.googleusercontent.com/a-/AOh14GhtvSq40Q0iR7PAFnCqNljCvZEL0u3Jwy5L59EZTA=s64",
      "userId": "12599792132870778014"
     },
     "user_tz": -330
    },
    "id": "bX4z76V2n3xj",
    "outputId": "1fdfb115-2b70-4e8e-acb7-ab24a51541d6"
   },
   "outputs": [
    {
     "name": "stdout",
     "output_type": "stream",
     "text": [
      "149/149 [==============================] - 3s 21ms/step - loss: 0.1863 - root_mean_squared_error: 0.4316\n"
     ]
    },
    {
     "data": {
      "text/plain": [
       "[0.18630225956439972, 0.43162745237350464]"
      ]
     },
     "execution_count": 62,
     "metadata": {
      "tags": []
     },
     "output_type": "execute_result"
    }
   ],
   "source": [
    "# EVALUATING THE MODEL\n",
    "model.evaluate(x_val,y_val,batch_size=1000)"
   ]
  },
  {
   "cell_type": "code",
   "execution_count": 63,
   "metadata": {
    "executionInfo": {
     "elapsed": 637,
     "status": "ok",
     "timestamp": 1626081193970,
     "user": {
      "displayName": "PUSHAP GANDHI",
      "photoUrl": "https://lh3.googleusercontent.com/a-/AOh14GhtvSq40Q0iR7PAFnCqNljCvZEL0u3Jwy5L59EZTA=s64",
      "userId": "12599792132870778014"
     },
     "user_tz": -330
    },
    "id": "kVzjSOgYEyqx"
   },
   "outputs": [],
   "source": [
    "# CONVERING THE LOG PRICE TO ACTUAL PRICE\n",
    "\n",
    "def log_to_actual(log):\n",
    "    return np.exp(log)-1"
   ]
  },
  {
   "cell_type": "code",
   "execution_count": 66,
   "metadata": {
    "colab": {
     "base_uri": "https://localhost:8080/"
    },
    "executionInfo": {
     "elapsed": 260475,
     "status": "ok",
     "timestamp": 1626081469747,
     "user": {
      "displayName": "PUSHAP GANDHI",
      "photoUrl": "https://lh3.googleusercontent.com/a-/AOh14GhtvSq40Q0iR7PAFnCqNljCvZEL0u3Jwy5L59EZTA=s64",
      "userId": "12599792132870778014"
     },
     "user_tz": -330
    },
    "id": "ABQqhuy1D_p3",
    "outputId": "245ddf80-eb4c-4b8b-a06c-be6d2b7388d0"
   },
   "outputs": [
    {
     "name": "stdout",
     "output_type": "stream",
     "text": [
      "34608/34608 [==============================] - 260s 8ms/step\n"
     ]
    }
   ],
   "source": [
    "#PREDICTING THE RESULTS FOR TEST DATASET\n",
    "x_test_pred = model.predict(x_test,batch_size=100,verbose=1)"
   ]
  },
  {
   "cell_type": "code",
   "execution_count": 67,
   "metadata": {
    "colab": {
     "base_uri": "https://localhost:8080/",
     "height": 450
    },
    "executionInfo": {
     "elapsed": 80,
     "status": "ok",
     "timestamp": 1626081469757,
     "user": {
      "displayName": "PUSHAP GANDHI",
      "photoUrl": "https://lh3.googleusercontent.com/a-/AOh14GhtvSq40Q0iR7PAFnCqNljCvZEL0u3Jwy5L59EZTA=s64",
      "userId": "12599792132870778014"
     },
     "user_tz": -330
    },
    "id": "ZIUNFaDgn3pF",
    "outputId": "9574a0cc-6f4f-41fb-abba-d21056a461a2"
   },
   "outputs": [
    {
     "data": {
      "text/html": [
       "<div>\n",
       "<style scoped>\n",
       "    .dataframe tbody tr th:only-of-type {\n",
       "        vertical-align: middle;\n",
       "    }\n",
       "\n",
       "    .dataframe tbody tr th {\n",
       "        vertical-align: top;\n",
       "    }\n",
       "\n",
       "    .dataframe thead th {\n",
       "        text-align: right;\n",
       "    }\n",
       "</style>\n",
       "<table border=\"1\" class=\"dataframe\">\n",
       "  <thead>\n",
       "    <tr style=\"text-align: right;\">\n",
       "      <th></th>\n",
       "      <th>price</th>\n",
       "    </tr>\n",
       "    <tr>\n",
       "      <th>test_id</th>\n",
       "      <th></th>\n",
       "    </tr>\n",
       "  </thead>\n",
       "  <tbody>\n",
       "    <tr>\n",
       "      <th>0</th>\n",
       "      <td>5.550148</td>\n",
       "    </tr>\n",
       "    <tr>\n",
       "      <th>1</th>\n",
       "      <td>15.609177</td>\n",
       "    </tr>\n",
       "    <tr>\n",
       "      <th>2</th>\n",
       "      <td>59.941963</td>\n",
       "    </tr>\n",
       "    <tr>\n",
       "      <th>3</th>\n",
       "      <td>13.342530</td>\n",
       "    </tr>\n",
       "    <tr>\n",
       "      <th>4</th>\n",
       "      <td>10.122484</td>\n",
       "    </tr>\n",
       "    <tr>\n",
       "      <th>...</th>\n",
       "      <td>...</td>\n",
       "    </tr>\n",
       "    <tr>\n",
       "      <th>3460720</th>\n",
       "      <td>7.771764</td>\n",
       "    </tr>\n",
       "    <tr>\n",
       "      <th>3460721</th>\n",
       "      <td>55.717674</td>\n",
       "    </tr>\n",
       "    <tr>\n",
       "      <th>3460722</th>\n",
       "      <td>16.296186</td>\n",
       "    </tr>\n",
       "    <tr>\n",
       "      <th>3460723</th>\n",
       "      <td>18.368446</td>\n",
       "    </tr>\n",
       "    <tr>\n",
       "      <th>3460724</th>\n",
       "      <td>21.090326</td>\n",
       "    </tr>\n",
       "  </tbody>\n",
       "</table>\n",
       "<p>3460725 rows × 1 columns</p>\n",
       "</div>"
      ],
      "text/plain": [
       "             price\n",
       "test_id           \n",
       "0         5.550148\n",
       "1        15.609177\n",
       "2        59.941963\n",
       "3        13.342530\n",
       "4        10.122484\n",
       "...            ...\n",
       "3460720   7.771764\n",
       "3460721  55.717674\n",
       "3460722  16.296186\n",
       "3460723  18.368446\n",
       "3460724  21.090326\n",
       "\n",
       "[3460725 rows x 1 columns]"
      ]
     },
     "execution_count": 67,
     "metadata": {
      "tags": []
     },
     "output_type": "execute_result"
    }
   ],
   "source": [
    "# CONVERTIN THE LOG PRICE TO ACTUL PRICE\n",
    "\n",
    "test_predict_lstm = pd.DataFrame(log_to_actual(x_test_pred),columns=[\"price\"])\n",
    "test_predict_lstm.index = df_test.index\n",
    "test_predict_lstm"
   ]
  },
  {
   "cell_type": "code",
   "execution_count": 68,
   "metadata": {
    "executionInfo": {
     "elapsed": 9566,
     "status": "ok",
     "timestamp": 1626081479280,
     "user": {
      "displayName": "PUSHAP GANDHI",
      "photoUrl": "https://lh3.googleusercontent.com/a-/AOh14GhtvSq40Q0iR7PAFnCqNljCvZEL0u3Jwy5L59EZTA=s64",
      "userId": "12599792132870778014"
     },
     "user_tz": -330
    },
    "id": "FbZhfH0RnoRp"
   },
   "outputs": [],
   "source": [
    "# STORING THE PREDICTED PRICES \n",
    "\n",
    "test_predict_lstm.to_csv(\"/content/drive/MyDrive/Colab Notebooks/cs1/deep_learning_model/test_predict_lstm.csv\")"
   ]
  },
  {
   "cell_type": "markdown",
   "metadata": {
    "id": "ThZgZL6ZGjrr"
   },
   "source": [
    "## Kaggle Score"
   ]
  },
  {
   "cell_type": "code",
   "execution_count": 1,
   "metadata": {},
   "outputs": [
    {
     "data": {
      "image/png": "[encoded data removed]",
      "text/plain": [
       "<IPython.core.display.Image object>"
      ]
     },
     "execution_count": 1,
     "metadata": {},
     "output_type": "execute_result"
    }
   ],
   "source": [
    "from IPython.display import Image\n",
    "Image(\"screenshot/lstm.png\") "
   ]
  },
  {
   "cell_type": "markdown",
   "metadata": {},
   "source": [
    "## Model Comparison"
   ]
  },
  {
   "cell_type": "code",
   "execution_count": 4,
   "metadata": {
    "id": "e609ZpqCkWRG",
    "outputId": "7bdbec2f-b3ca-439e-8b22-4c22699d8953",
    "scrolled": true
   },
   "outputs": [
    {
     "data": {
      "text/html": [
       "<div>\n",
       "<style scoped>\n",
       "    .dataframe tbody tr th:only-of-type {\n",
       "        vertical-align: middle;\n",
       "    }\n",
       "\n",
       "    .dataframe tbody tr th {\n",
       "        vertical-align: top;\n",
       "    }\n",
       "\n",
       "    .dataframe thead th {\n",
       "        text-align: right;\n",
       "    }\n",
       "</style>\n",
       "<table border=\"1\" class=\"dataframe\">\n",
       "  <thead>\n",
       "    <tr style=\"text-align: right;\">\n",
       "      <th></th>\n",
       "      <th>Model</th>\n",
       "      <th>Feature Type</th>\n",
       "      <th>Best Param</th>\n",
       "      <th>Train Error</th>\n",
       "      <th>Validation Error</th>\n",
       "      <th>Test Error</th>\n",
       "    </tr>\n",
       "  </thead>\n",
       "  <tbody>\n",
       "    <tr>\n",
       "      <th>0</th>\n",
       "      <td>Benchmark</td>\n",
       "      <td>-</td>\n",
       "      <td>-</td>\n",
       "      <td>0.7267</td>\n",
       "      <td>0.7255</td>\n",
       "      <td>0.72753</td>\n",
       "    </tr>\n",
       "    <tr>\n",
       "      <th>1</th>\n",
       "      <td>Lasso</td>\n",
       "      <td>Label Endoing+Word2Vec</td>\n",
       "      <td>1e-05</td>\n",
       "      <td>0.6043</td>\n",
       "      <td>0.6037</td>\n",
       "      <td>0.60518</td>\n",
       "    </tr>\n",
       "    <tr>\n",
       "      <th>2</th>\n",
       "      <td>Ridge</td>\n",
       "      <td>Label Endoing+Word2Vec</td>\n",
       "      <td>10</td>\n",
       "      <td>0.6043</td>\n",
       "      <td>0.6037</td>\n",
       "      <td>0.60518</td>\n",
       "    </tr>\n",
       "    <tr>\n",
       "      <th>3</th>\n",
       "      <td>Decision Tree</td>\n",
       "      <td>Label Endoing+Word2Vec</td>\n",
       "      <td>10</td>\n",
       "      <td>0.6273</td>\n",
       "      <td>0.6353</td>\n",
       "      <td>0.637</td>\n",
       "    </tr>\n",
       "    <tr>\n",
       "      <th>4</th>\n",
       "      <td>Random Forest</td>\n",
       "      <td>Label Endoing+Word2Vec</td>\n",
       "      <td>500</td>\n",
       "      <td>-</td>\n",
       "      <td>-</td>\n",
       "      <td>-</td>\n",
       "    </tr>\n",
       "    <tr>\n",
       "      <th>5</th>\n",
       "      <td>Light GBM</td>\n",
       "      <td>Label Endoing+Word2Vec</td>\n",
       "      <td>1200</td>\n",
       "      <td>0.4784</td>\n",
       "      <td>0.5008</td>\n",
       "      <td>0.5005</td>\n",
       "    </tr>\n",
       "    <tr>\n",
       "      <th>6</th>\n",
       "      <td>linear Regression</td>\n",
       "      <td>One hot endoding + Tfidf</td>\n",
       "      <td>-</td>\n",
       "      <td>0.4241</td>\n",
       "      <td>0.462</td>\n",
       "      <td>0.4621</td>\n",
       "    </tr>\n",
       "    <tr>\n",
       "      <th>7</th>\n",
       "      <td>Ridge</td>\n",
       "      <td>One hot endoding + Tfidf</td>\n",
       "      <td>10</td>\n",
       "      <td>4414</td>\n",
       "      <td>0.4581</td>\n",
       "      <td>0.45831</td>\n",
       "    </tr>\n",
       "    <tr>\n",
       "      <th>8</th>\n",
       "      <td>Deep Learning</td>\n",
       "      <td>Embedding</td>\n",
       "      <td>-</td>\n",
       "      <td>0.4</td>\n",
       "      <td>0.4316</td>\n",
       "      <td>0.43311</td>\n",
       "    </tr>\n",
       "  </tbody>\n",
       "</table>\n",
       "</div>"
      ],
      "text/plain": [
       "               Model              Feature Type Best Param Train Error  \\\n",
       "0          Benchmark                         -          -      0.7267   \n",
       "1              Lasso    Label Endoing+Word2Vec      1e-05      0.6043   \n",
       "2              Ridge    Label Endoing+Word2Vec         10      0.6043   \n",
       "3      Decision Tree    Label Endoing+Word2Vec         10      0.6273   \n",
       "4      Random Forest    Label Endoing+Word2Vec        500           -   \n",
       "5          Light GBM    Label Endoing+Word2Vec       1200      0.4784   \n",
       "6  linear Regression  One hot endoding + Tfidf          -      0.4241   \n",
       "7              Ridge  One hot endoding + Tfidf         10        4414   \n",
       "8      Deep Learning                 Embedding          -         0.4   \n",
       "\n",
       "  Validation Error Test Error  \n",
       "0           0.7255    0.72753  \n",
       "1           0.6037    0.60518  \n",
       "2           0.6037    0.60518  \n",
       "3           0.6353      0.637  \n",
       "4                -          -  \n",
       "5           0.5008     0.5005  \n",
       "6            0.462     0.4621  \n",
       "7           0.4581    0.45831  \n",
       "8           0.4316    0.43311  "
      ]
     },
     "execution_count": 4,
     "metadata": {},
     "output_type": "execute_result"
    }
   ],
   "source": [
    "'''COMPARISON OF ALL MODELS'''\n",
    "\n",
    "res = pd.DataFrame()\n",
    "res[\"Model\"] = [\"Benchmark\",\"Lasso\",\"Ridge\",\"Decision Tree\",\"Random Forest\",\"Light GBM\",\"linear Regression\",\"Ridge\",\"Deep Learning\"]\n",
    "res[\"Feature Type\"] = [\"-\",\"Label Endoing+Word2Vec\",\"Label Endoing+Word2Vec\",\"Label Endoing+Word2Vec\",\"Label Endoing+Word2Vec\",\"Label Endoing+Word2Vec\",\"One hot endoding + Tfidf\", \"One hot endoding + Tfidf\",\"Embedding\"]\n",
    "res[\"Best Param\"] = [\"-\",1e-5,10,10,500,1200,\"-\",10,\"-\"]\n",
    "res[\"Train Error\"] = [0.7267,0.6043,0.6043,0.6273,\"-\",0.4784,0.4241,4414,0.4000]\n",
    "res[\"Validation Error\"] = [0.7255,0.6037,0.6037,0.6353,\"-\",0.5008,0.4620,0.4581,0.4316]\n",
    "res[\"Test Error\"] = [0.72753,0.60518,0.60518,0.6370,\"-\",0.50050,0.46210,0.45831,0.43311]\n",
    "res"
   ]
  },
  {
   "cell_type": "markdown",
   "metadata": {},
   "source": [
    "## Observation:\n",
    "* The best model is Deep Learning model.\n",
    "* Machine Learning models give decent values of performance mertic, but a simple RNN based model peroforms better."
   ]
  },
  {
   "cell_type": "code",
   "execution_count": null,
   "metadata": {},
   "outputs": [],
   "source": []
  }
 ],
 "metadata": {
  "accelerator": "GPU",
  "colab": {
   "collapsed_sections": [],
   "machine_shape": "hm",
   "name": "lstm_approach.ipynb",
   "provenance": []
  },
  "kernelspec": {
   "display_name": "Python 3",
   "language": "python",
   "name": "python3"
  },
  "language_info": {
   "codemirror_mode": {
    "name": "ipython",
    "version": 3
   },
   "file_extension": ".py",
   "mimetype": "text/x-python",
   "name": "python",
   "nbconvert_exporter": "python",
   "pygments_lexer": "ipython3",
   "version": "3.7.6"
  }
 },
 "nbformat": 4,
 "nbformat_minor": 1
}

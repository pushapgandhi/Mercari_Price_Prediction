{
 "cells": [
  {
   "cell_type": "code",
   "execution_count": 10,
   "metadata": {
    "executionInfo": {
     "elapsed": 720,
     "status": "ok",
     "timestamp": 1625740297560,
     "user": {
      "displayName": "PUSHAP GANDHI",
      "photoUrl": "https://lh3.googleusercontent.com/a-/AOh14GhtvSq40Q0iR7PAFnCqNljCvZEL0u3Jwy5L59EZTA=s64",
      "userId": "12599792132870778014"
     },
     "user_tz": -330
    },
    "id": "W4i8Ji0qkWQT"
   },
   "outputs": [],
   "source": [
    "#LOADING THE REQUIERED LIBRARIES\n",
    "import pandas as pd\n",
    "import numpy as np\n",
    "import time\n",
    "from prettytable import PrettyTable\n",
    "import warnings\n",
    "warnings.filterwarnings('ignore')\n",
    "import re\n",
    "import seaborn as sns\n",
    "import matplotlib.pyplot as plt\n",
    "#from wordcloud import WordCloud, STOPWORDS\n",
    "from tqdm import tqdm\n",
    "from sklearn.preprocessing import OneHotEncoder\n",
    "from sklearn.model_selection import train_test_split\n",
    "from sklearn.feature_extraction.text import CountVectorizer,TfidfVectorizer\n",
    "from scipy.sparse import hstack\n",
    "from sklearn.linear_model import LinearRegression\n",
    "from sklearn.linear_model import SGDRegressor\n",
    "from sklearn.linear_model import Ridge\n",
    "from sklearn.linear_model import Lasso\n",
    "from sklearn.metrics import mean_squared_error\n",
    "from sklearn.model_selection import RandomizedSearchCV,GridSearchCV\n",
    "from scipy.stats import uniform\n",
    "from sklearn.preprocessing import LabelEncoder\n",
    "from sklearn.preprocessing import OrdinalEncoder\n",
    "from sklearn.tree import DecisionTreeRegressor\n",
    "from sklearn.ensemble import RandomForestRegressor\n",
    "import xgboost as xg\n",
    "from gensim.models import Word2Vec\n",
    "from lightgbm import LGBMRegressor"
   ]
  },
  {
   "cell_type": "code",
   "execution_count": 2,
   "metadata": {
    "colab": {
     "base_uri": "https://localhost:8080/"
    },
    "executionInfo": {
     "elapsed": 456,
     "status": "ok",
     "timestamp": 1625739602594,
     "user": {
      "displayName": "PUSHAP GANDHI",
      "photoUrl": "https://lh3.googleusercontent.com/a-/AOh14GhtvSq40Q0iR7PAFnCqNljCvZEL0u3Jwy5L59EZTA=s64",
      "userId": "12599792132870778014"
     },
     "user_tz": -330
    },
    "id": "MnbW1qaWlGvx",
    "outputId": "59e7c681-43cd-4df5-81b7-1a303fc67fa6"
   },
   "outputs": [
    {
     "name": "stdout",
     "output_type": "stream",
     "text": [
      "Drive already mounted at /content/drive; to attempt to forcibly remount, call drive.mount(\"/content/drive\", force_remount=True).\n"
     ]
    }
   ],
   "source": [
    "from google.colab import drive\n",
    "drive.mount('/content/drive')"
   ]
  },
  {
   "cell_type": "code",
   "execution_count": 2,
   "metadata": {
    "colab": {
     "base_uri": "https://localhost:8080/",
     "height": 912
    },
    "executionInfo": {
     "elapsed": 24433,
     "status": "ok",
     "timestamp": 1625740329256,
     "user": {
      "displayName": "PUSHAP GANDHI",
      "photoUrl": "https://lh3.googleusercontent.com/a-/AOh14GhtvSq40Q0iR7PAFnCqNljCvZEL0u3Jwy5L59EZTA=s64",
      "userId": "12599792132870778014"
     },
     "user_tz": -330
    },
    "id": "gk43I_mIkWQa",
    "outputId": "9d8857a8-1a7b-47b6-b187-3c7e7c0e8ca4",
    "scrolled": false
   },
   "outputs": [
    {
     "data": {
      "text/html": [
       "<div>\n",
       "<style scoped>\n",
       "    .dataframe tbody tr th:only-of-type {\n",
       "        vertical-align: middle;\n",
       "    }\n",
       "\n",
       "    .dataframe tbody tr th {\n",
       "        vertical-align: top;\n",
       "    }\n",
       "\n",
       "    .dataframe thead th {\n",
       "        text-align: right;\n",
       "    }\n",
       "</style>\n",
       "<table border=\"1\" class=\"dataframe\">\n",
       "  <thead>\n",
       "    <tr style=\"text-align: right;\">\n",
       "      <th></th>\n",
       "      <th>name</th>\n",
       "      <th>item_condition_id</th>\n",
       "      <th>category_name</th>\n",
       "      <th>brand_name</th>\n",
       "      <th>price</th>\n",
       "      <th>shipping</th>\n",
       "      <th>item_description</th>\n",
       "      <th>log_price</th>\n",
       "      <th>name_processed</th>\n",
       "      <th>brand_name_processed</th>\n",
       "      <th>category_name_preprocessed</th>\n",
       "      <th>Tier_1</th>\n",
       "      <th>Tier_2</th>\n",
       "      <th>Tier_3</th>\n",
       "      <th>processed_item_description</th>\n",
       "    </tr>\n",
       "    <tr>\n",
       "      <th>train_id</th>\n",
       "      <th></th>\n",
       "      <th></th>\n",
       "      <th></th>\n",
       "      <th></th>\n",
       "      <th></th>\n",
       "      <th></th>\n",
       "      <th></th>\n",
       "      <th></th>\n",
       "      <th></th>\n",
       "      <th></th>\n",
       "      <th></th>\n",
       "      <th></th>\n",
       "      <th></th>\n",
       "      <th></th>\n",
       "      <th></th>\n",
       "    </tr>\n",
       "  </thead>\n",
       "  <tbody>\n",
       "    <tr>\n",
       "      <th>0</th>\n",
       "      <td>MLB Cincinnati Reds T Shirt Size XL</td>\n",
       "      <td>3</td>\n",
       "      <td>Men/Tops/T-shirts</td>\n",
       "      <td>NaN</td>\n",
       "      <td>10.0</td>\n",
       "      <td>1</td>\n",
       "      <td>No description yet</td>\n",
       "      <td>2.397895</td>\n",
       "      <td>mlb cincinnati reds shirt size xl</td>\n",
       "      <td>mlb</td>\n",
       "      <td>men/top/tshirts</td>\n",
       "      <td>men</td>\n",
       "      <td>top</td>\n",
       "      <td>tshirts</td>\n",
       "      <td>description yet</td>\n",
       "    </tr>\n",
       "    <tr>\n",
       "      <th>1</th>\n",
       "      <td>Razer BlackWidow Chroma Keyboard</td>\n",
       "      <td>3</td>\n",
       "      <td>Electronics/Computers &amp; Tablets/Components &amp; P...</td>\n",
       "      <td>Razer</td>\n",
       "      <td>52.0</td>\n",
       "      <td>0</td>\n",
       "      <td>This keyboard is in great condition and works ...</td>\n",
       "      <td>3.970292</td>\n",
       "      <td>razer blackwidow chroma keyboard</td>\n",
       "      <td>razer</td>\n",
       "      <td>electronic/computer tablet/component parts</td>\n",
       "      <td>electronic</td>\n",
       "      <td>computer tablet</td>\n",
       "      <td>component parts</td>\n",
       "      <td>keyboard great condition works like came box p...</td>\n",
       "    </tr>\n",
       "    <tr>\n",
       "      <th>2</th>\n",
       "      <td>AVA-VIV Blouse</td>\n",
       "      <td>1</td>\n",
       "      <td>Women/Tops &amp; Blouses/Blouse</td>\n",
       "      <td>Target</td>\n",
       "      <td>10.0</td>\n",
       "      <td>1</td>\n",
       "      <td>Adorable top with a hint of lace and a key hol...</td>\n",
       "      <td>2.397895</td>\n",
       "      <td>avaviv blouse</td>\n",
       "      <td>target</td>\n",
       "      <td>women/top blouse/blouse</td>\n",
       "      <td>women</td>\n",
       "      <td>top blouse</td>\n",
       "      <td>blouse</td>\n",
       "      <td>adorable top hint lace key hole back pale pink...</td>\n",
       "    </tr>\n",
       "    <tr>\n",
       "      <th>3</th>\n",
       "      <td>Leather Horse Statues</td>\n",
       "      <td>1</td>\n",
       "      <td>Home/Home Décor/Home Décor Accents</td>\n",
       "      <td>NaN</td>\n",
       "      <td>35.0</td>\n",
       "      <td>1</td>\n",
       "      <td>New with tags. Leather horses. Retail for [rm]...</td>\n",
       "      <td>3.583519</td>\n",
       "      <td>leather horse statues</td>\n",
       "      <td>missing</td>\n",
       "      <td>home/home dcor/home dcor accents</td>\n",
       "      <td>home</td>\n",
       "      <td>home dcor</td>\n",
       "      <td>home dcor accents</td>\n",
       "      <td>new tags leather horses retail stand foot high...</td>\n",
       "    </tr>\n",
       "    <tr>\n",
       "      <th>4</th>\n",
       "      <td>24K GOLD plated rose</td>\n",
       "      <td>1</td>\n",
       "      <td>Women/Jewelry/Necklaces</td>\n",
       "      <td>NaN</td>\n",
       "      <td>44.0</td>\n",
       "      <td>0</td>\n",
       "      <td>Complete with certificate of authenticity</td>\n",
       "      <td>3.806662</td>\n",
       "      <td>24k gold plated rose</td>\n",
       "      <td>missing</td>\n",
       "      <td>women/jewelry/necklaces</td>\n",
       "      <td>women</td>\n",
       "      <td>jewelry</td>\n",
       "      <td>necklaces</td>\n",
       "      <td>complete certificate authenticity</td>\n",
       "    </tr>\n",
       "    <tr>\n",
       "      <th>...</th>\n",
       "      <td>...</td>\n",
       "      <td>...</td>\n",
       "      <td>...</td>\n",
       "      <td>...</td>\n",
       "      <td>...</td>\n",
       "      <td>...</td>\n",
       "      <td>...</td>\n",
       "      <td>...</td>\n",
       "      <td>...</td>\n",
       "      <td>...</td>\n",
       "      <td>...</td>\n",
       "      <td>...</td>\n",
       "      <td>...</td>\n",
       "      <td>...</td>\n",
       "      <td>...</td>\n",
       "    </tr>\n",
       "    <tr>\n",
       "      <th>1482530</th>\n",
       "      <td>Free People Inspired Dress</td>\n",
       "      <td>2</td>\n",
       "      <td>Women/Dresses/Mid-Calf</td>\n",
       "      <td>Free People</td>\n",
       "      <td>20.0</td>\n",
       "      <td>1</td>\n",
       "      <td>Lace, says size small but fits medium perfectl...</td>\n",
       "      <td>3.044522</td>\n",
       "      <td>free people inspired dress</td>\n",
       "      <td>free people</td>\n",
       "      <td>women/dresse/midcalf</td>\n",
       "      <td>women</td>\n",
       "      <td>dresse</td>\n",
       "      <td>midcalf</td>\n",
       "      <td>lace says size small fits medium perfectly nev...</td>\n",
       "    </tr>\n",
       "    <tr>\n",
       "      <th>1482531</th>\n",
       "      <td>Little mermaid handmade dress</td>\n",
       "      <td>2</td>\n",
       "      <td>Kids/Girls 2T-5T/Dresses</td>\n",
       "      <td>Disney</td>\n",
       "      <td>14.0</td>\n",
       "      <td>0</td>\n",
       "      <td>Little mermaid handmade dress never worn size 2t</td>\n",
       "      <td>2.708050</td>\n",
       "      <td>little mermaid handmade dress</td>\n",
       "      <td>disney</td>\n",
       "      <td>kid/girl 2t5t/dresses</td>\n",
       "      <td>kid</td>\n",
       "      <td>girl 2t5t</td>\n",
       "      <td>dresses</td>\n",
       "      <td>little mermaid handmade dress never worn size 2t</td>\n",
       "    </tr>\n",
       "    <tr>\n",
       "      <th>1482532</th>\n",
       "      <td>21 day fix containers and eating plan</td>\n",
       "      <td>2</td>\n",
       "      <td>Sports &amp; Outdoors/Exercise/Fitness accessories</td>\n",
       "      <td>NaN</td>\n",
       "      <td>12.0</td>\n",
       "      <td>0</td>\n",
       "      <td>Used once or twice, still in great shape.</td>\n",
       "      <td>2.564949</td>\n",
       "      <td>21 day fix containers eating plan</td>\n",
       "      <td>missing</td>\n",
       "      <td>sport outdoor/exercise/fitnes accessories</td>\n",
       "      <td>sport outdoor</td>\n",
       "      <td>exercise</td>\n",
       "      <td>fitnes accessories</td>\n",
       "      <td>used twice still great shape</td>\n",
       "    </tr>\n",
       "    <tr>\n",
       "      <th>1482533</th>\n",
       "      <td>World markets lanterns</td>\n",
       "      <td>3</td>\n",
       "      <td>Home/Home Décor/Home Décor Accents</td>\n",
       "      <td>NaN</td>\n",
       "      <td>45.0</td>\n",
       "      <td>1</td>\n",
       "      <td>There is 2 of each one that you see! So 2 red ...</td>\n",
       "      <td>3.828641</td>\n",
       "      <td>world markets lanterns</td>\n",
       "      <td>missing</td>\n",
       "      <td>home/home dcor/home dcor accents</td>\n",
       "      <td>home</td>\n",
       "      <td>home dcor</td>\n",
       "      <td>home dcor accents</td>\n",
       "      <td>2 one see 2 red 2 orange 2 big red orange ones...</td>\n",
       "    </tr>\n",
       "    <tr>\n",
       "      <th>1482534</th>\n",
       "      <td>Brand new lux de ville wallet</td>\n",
       "      <td>1</td>\n",
       "      <td>Women/Women's Accessories/Wallets</td>\n",
       "      <td>NaN</td>\n",
       "      <td>22.0</td>\n",
       "      <td>0</td>\n",
       "      <td>New with tag, red with sparkle. Firm price, no...</td>\n",
       "      <td>3.135494</td>\n",
       "      <td>brand new lux de ville wallet</td>\n",
       "      <td>lux</td>\n",
       "      <td>women/women accessorie/wallets</td>\n",
       "      <td>women</td>\n",
       "      <td>women accessorie</td>\n",
       "      <td>wallets</td>\n",
       "      <td>new tag red sparkle firm price free shipping</td>\n",
       "    </tr>\n",
       "  </tbody>\n",
       "</table>\n",
       "<p>1482535 rows × 15 columns</p>\n",
       "</div>"
      ],
      "text/plain": [
       "                                           name  ...                         processed_item_description\n",
       "train_id                                         ...                                                   \n",
       "0           MLB Cincinnati Reds T Shirt Size XL  ...                                    description yet\n",
       "1              Razer BlackWidow Chroma Keyboard  ...  keyboard great condition works like came box p...\n",
       "2                                AVA-VIV Blouse  ...  adorable top hint lace key hole back pale pink...\n",
       "3                         Leather Horse Statues  ...  new tags leather horses retail stand foot high...\n",
       "4                          24K GOLD plated rose  ...                  complete certificate authenticity\n",
       "...                                         ...  ...                                                ...\n",
       "1482530              Free People Inspired Dress  ...  lace says size small fits medium perfectly nev...\n",
       "1482531           Little mermaid handmade dress  ...   little mermaid handmade dress never worn size 2t\n",
       "1482532   21 day fix containers and eating plan  ...                       used twice still great shape\n",
       "1482533                  World markets lanterns  ...  2 one see 2 red 2 orange 2 big red orange ones...\n",
       "1482534           Brand new lux de ville wallet  ...       new tag red sparkle firm price free shipping\n",
       "\n",
       "[1482535 rows x 15 columns]"
      ]
     },
     "execution_count": 2,
     "metadata": {
      "tags": []
     },
     "output_type": "execute_result"
    }
   ],
   "source": [
    "# LOADING THE TRAIN DATA\n",
    "df =  pd.read_csv(\"/content/drive/MyDrive/Colab Notebooks/cs1/train_processed.csv\",index_col=[\"train_id\"])\n",
    "df"
   ]
  },
  {
   "cell_type": "code",
   "execution_count": 3,
   "metadata": {
    "colab": {
     "base_uri": "https://localhost:8080/",
     "height": 861
    },
    "executionInfo": {
     "elapsed": 55133,
     "status": "ok",
     "timestamp": 1625740384381,
     "user": {
      "displayName": "PUSHAP GANDHI",
      "photoUrl": "https://lh3.googleusercontent.com/a-/AOh14GhtvSq40Q0iR7PAFnCqNljCvZEL0u3Jwy5L59EZTA=s64",
      "userId": "12599792132870778014"
     },
     "user_tz": -330
    },
    "id": "M_qsO22NkWQd",
    "outputId": "c007052e-da93-4e7b-b79b-ed4fd1526e9a"
   },
   "outputs": [
    {
     "data": {
      "text/html": [
       "<div>\n",
       "<style scoped>\n",
       "    .dataframe tbody tr th:only-of-type {\n",
       "        vertical-align: middle;\n",
       "    }\n",
       "\n",
       "    .dataframe tbody tr th {\n",
       "        vertical-align: top;\n",
       "    }\n",
       "\n",
       "    .dataframe thead th {\n",
       "        text-align: right;\n",
       "    }\n",
       "</style>\n",
       "<table border=\"1\" class=\"dataframe\">\n",
       "  <thead>\n",
       "    <tr style=\"text-align: right;\">\n",
       "      <th></th>\n",
       "      <th>name</th>\n",
       "      <th>item_condition_id</th>\n",
       "      <th>category_name</th>\n",
       "      <th>brand_name</th>\n",
       "      <th>shipping</th>\n",
       "      <th>item_description</th>\n",
       "      <th>name_processed</th>\n",
       "      <th>brand_name_processed</th>\n",
       "      <th>category_name_preprocessed</th>\n",
       "      <th>Tier_1</th>\n",
       "      <th>Tier_2</th>\n",
       "      <th>Tier_3</th>\n",
       "      <th>processed_item_description</th>\n",
       "    </tr>\n",
       "    <tr>\n",
       "      <th>test_id</th>\n",
       "      <th></th>\n",
       "      <th></th>\n",
       "      <th></th>\n",
       "      <th></th>\n",
       "      <th></th>\n",
       "      <th></th>\n",
       "      <th></th>\n",
       "      <th></th>\n",
       "      <th></th>\n",
       "      <th></th>\n",
       "      <th></th>\n",
       "      <th></th>\n",
       "      <th></th>\n",
       "    </tr>\n",
       "  </thead>\n",
       "  <tbody>\n",
       "    <tr>\n",
       "      <th>0</th>\n",
       "      <td>Breast cancer \"I fight like a girl\" ring</td>\n",
       "      <td>1</td>\n",
       "      <td>Women/Jewelry/Rings</td>\n",
       "      <td>NaN</td>\n",
       "      <td>1</td>\n",
       "      <td>Size 7</td>\n",
       "      <td>breast cancer fight like girl ring</td>\n",
       "      <td>ring</td>\n",
       "      <td>women/jewelry/rings</td>\n",
       "      <td>women</td>\n",
       "      <td>jewelry</td>\n",
       "      <td>rings</td>\n",
       "      <td>size 7</td>\n",
       "    </tr>\n",
       "    <tr>\n",
       "      <th>1</th>\n",
       "      <td>25 pcs NEW 7.5\"x12\" Kraft Bubble Mailers</td>\n",
       "      <td>1</td>\n",
       "      <td>Other/Office supplies/Shipping Supplies</td>\n",
       "      <td>NaN</td>\n",
       "      <td>1</td>\n",
       "      <td>25 pcs NEW 7.5\"x12\" Kraft Bubble Mailers Lined...</td>\n",
       "      <td>25 pcs new 75x12 kraft bubble mailers</td>\n",
       "      <td>missing</td>\n",
       "      <td>other/office supplie/shipping supplies</td>\n",
       "      <td>other</td>\n",
       "      <td>office supplie</td>\n",
       "      <td>shipping supplies</td>\n",
       "      <td>25 pcs new 75x12 kraft bubble mailers lined bu...</td>\n",
       "    </tr>\n",
       "    <tr>\n",
       "      <th>2</th>\n",
       "      <td>Coach bag</td>\n",
       "      <td>1</td>\n",
       "      <td>Vintage &amp; Collectibles/Bags and Purses/Handbag</td>\n",
       "      <td>Coach</td>\n",
       "      <td>1</td>\n",
       "      <td>Brand new coach bag. Bought for [rm] at a Coac...</td>\n",
       "      <td>coach bag</td>\n",
       "      <td>coach</td>\n",
       "      <td>vintage collectible/bag and purse/handbag</td>\n",
       "      <td>vintage collectible</td>\n",
       "      <td>bag and purse</td>\n",
       "      <td>handbag</td>\n",
       "      <td>brand new coach bag bought coach outlet</td>\n",
       "    </tr>\n",
       "    <tr>\n",
       "      <th>3</th>\n",
       "      <td>Floral Kimono</td>\n",
       "      <td>2</td>\n",
       "      <td>Women/Sweaters/Cardigan</td>\n",
       "      <td>NaN</td>\n",
       "      <td>0</td>\n",
       "      <td>-floral kimono -never worn -lightweight and pe...</td>\n",
       "      <td>floral kimono</td>\n",
       "      <td>missing</td>\n",
       "      <td>women/sweater/cardigan</td>\n",
       "      <td>women</td>\n",
       "      <td>sweater</td>\n",
       "      <td>cardigan</td>\n",
       "      <td>floral kimono never worn lightweight perfect h...</td>\n",
       "    </tr>\n",
       "    <tr>\n",
       "      <th>4</th>\n",
       "      <td>Life after Death</td>\n",
       "      <td>3</td>\n",
       "      <td>Other/Books/Religion &amp; Spirituality</td>\n",
       "      <td>NaN</td>\n",
       "      <td>1</td>\n",
       "      <td>Rediscovering life after the loss of a loved o...</td>\n",
       "      <td>life death</td>\n",
       "      <td>missing</td>\n",
       "      <td>other/book/religion spirituality</td>\n",
       "      <td>other</td>\n",
       "      <td>book</td>\n",
       "      <td>religion spirituality</td>\n",
       "      <td>rediscovering life loss loved one tony cooke p...</td>\n",
       "    </tr>\n",
       "    <tr>\n",
       "      <th>...</th>\n",
       "      <td>...</td>\n",
       "      <td>...</td>\n",
       "      <td>...</td>\n",
       "      <td>...</td>\n",
       "      <td>...</td>\n",
       "      <td>...</td>\n",
       "      <td>...</td>\n",
       "      <td>...</td>\n",
       "      <td>...</td>\n",
       "      <td>...</td>\n",
       "      <td>...</td>\n",
       "      <td>...</td>\n",
       "      <td>...</td>\n",
       "    </tr>\n",
       "    <tr>\n",
       "      <th>3460720</th>\n",
       "      <td>DARK SAMPLE BYE FOUNDATION MOISTURIZER</td>\n",
       "      <td>1</td>\n",
       "      <td>Beauty/Fragrance/Women</td>\n",
       "      <td>NaN</td>\n",
       "      <td>1</td>\n",
       "      <td>It cosmetics Bye Bye Foundation Full Coverage ...</td>\n",
       "      <td>dark sample bye foundation moisturizer</td>\n",
       "      <td>missing</td>\n",
       "      <td>beauty/fragrance/women</td>\n",
       "      <td>beauty</td>\n",
       "      <td>fragrance</td>\n",
       "      <td>women</td>\n",
       "      <td>cosmetics bye bye foundation full coverage moi...</td>\n",
       "    </tr>\n",
       "    <tr>\n",
       "      <th>3460721</th>\n",
       "      <td>bundle for @brandystash</td>\n",
       "      <td>2</td>\n",
       "      <td>Women/Pants/Other</td>\n",
       "      <td>NaN</td>\n",
       "      <td>1</td>\n",
       "      <td>♡2 pairs of omighty trackiez. one m and one s....</td>\n",
       "      <td>bundle brandystash</td>\n",
       "      <td>missing</td>\n",
       "      <td>women/pant/other</td>\n",
       "      <td>women</td>\n",
       "      <td>pant</td>\n",
       "      <td>other</td>\n",
       "      <td>2 pairs omighty trackiez one one prettiest pinks</td>\n",
       "    </tr>\n",
       "    <tr>\n",
       "      <th>3460722</th>\n",
       "      <td>Toddler High-top Converse</td>\n",
       "      <td>3</td>\n",
       "      <td>Kids/Girls 0-24 Mos/Shoes</td>\n",
       "      <td>Nike</td>\n",
       "      <td>0</td>\n",
       "      <td>Size 5 (toddler). Pink high top converse shoes...</td>\n",
       "      <td>toddler hightop converse</td>\n",
       "      <td>nike</td>\n",
       "      <td>kid/girl 024 mo/shoes</td>\n",
       "      <td>kid</td>\n",
       "      <td>girl 024 mo</td>\n",
       "      <td>shoes</td>\n",
       "      <td>size 5 toddler pink high top converse shoes st...</td>\n",
       "    </tr>\n",
       "    <tr>\n",
       "      <th>3460723</th>\n",
       "      <td>Yoga Sling Sandals</td>\n",
       "      <td>1</td>\n",
       "      <td>Women/Shoes/Sandals</td>\n",
       "      <td>Sanuk</td>\n",
       "      <td>1</td>\n",
       "      <td>super super comfy. i have a pair but ordered t...</td>\n",
       "      <td>yoga sling sandals</td>\n",
       "      <td>sanuk</td>\n",
       "      <td>women/shoe/sandals</td>\n",
       "      <td>women</td>\n",
       "      <td>shoe</td>\n",
       "      <td>sandals</td>\n",
       "      <td>super super comfy pair ordered small brand new</td>\n",
       "    </tr>\n",
       "    <tr>\n",
       "      <th>3460724</th>\n",
       "      <td>Stylish ladies M/M insulated brown coat</td>\n",
       "      <td>3</td>\n",
       "      <td>Women/Coats &amp; Jackets/Other</td>\n",
       "      <td>NaN</td>\n",
       "      <td>1</td>\n",
       "      <td>100% Genuine leather and faux fur insulated co...</td>\n",
       "      <td>stylish ladies mm insulated brown coat</td>\n",
       "      <td>mm</td>\n",
       "      <td>women/coat jacket/other</td>\n",
       "      <td>women</td>\n",
       "      <td>coat jacket</td>\n",
       "      <td>other</td>\n",
       "      <td>100 genuine leather faux fur insulated coat ge...</td>\n",
       "    </tr>\n",
       "  </tbody>\n",
       "</table>\n",
       "<p>3460725 rows × 13 columns</p>\n",
       "</div>"
      ],
      "text/plain": [
       "                                             name  ...                         processed_item_description\n",
       "test_id                                            ...                                                   \n",
       "0        Breast cancer \"I fight like a girl\" ring  ...                                             size 7\n",
       "1        25 pcs NEW 7.5\"x12\" Kraft Bubble Mailers  ...  25 pcs new 75x12 kraft bubble mailers lined bu...\n",
       "2                                       Coach bag  ...            brand new coach bag bought coach outlet\n",
       "3                                   Floral Kimono  ...  floral kimono never worn lightweight perfect h...\n",
       "4                                Life after Death  ...  rediscovering life loss loved one tony cooke p...\n",
       "...                                           ...  ...                                                ...\n",
       "3460720    DARK SAMPLE BYE FOUNDATION MOISTURIZER  ...  cosmetics bye bye foundation full coverage moi...\n",
       "3460721                   bundle for @brandystash  ...   2 pairs omighty trackiez one one prettiest pinks\n",
       "3460722                 Toddler High-top Converse  ...  size 5 toddler pink high top converse shoes st...\n",
       "3460723                        Yoga Sling Sandals  ...     super super comfy pair ordered small brand new\n",
       "3460724   Stylish ladies M/M insulated brown coat  ...  100 genuine leather faux fur insulated coat ge...\n",
       "\n",
       "[3460725 rows x 13 columns]"
      ]
     },
     "execution_count": 3,
     "metadata": {
      "tags": []
     },
     "output_type": "execute_result"
    }
   ],
   "source": [
    "df_test = pd.read_csv(\"/content/drive/MyDrive/Colab Notebooks/cs1/test_processed.csv\",index_col=[\"test_id\"])\n",
    "df_test"
   ]
  },
  {
   "cell_type": "markdown",
   "metadata": {
    "id": "09mWQ8ltkWQe"
   },
   "source": [
    "## splitting"
   ]
  },
  {
   "cell_type": "code",
   "execution_count": 4,
   "metadata": {
    "executionInfo": {
     "elapsed": 2560,
     "status": "ok",
     "timestamp": 1625740386932,
     "user": {
      "displayName": "PUSHAP GANDHI",
      "photoUrl": "https://lh3.googleusercontent.com/a-/AOh14GhtvSq40Q0iR7PAFnCqNljCvZEL0u3Jwy5L59EZTA=s64",
      "userId": "12599792132870778014"
     },
     "user_tz": -330
    },
    "id": "RC2Df_gykWQf"
   },
   "outputs": [],
   "source": [
    "df_train,df_val = train_test_split(df,test_size=0.1,random_state = 3) "
   ]
  },
  {
   "cell_type": "code",
   "execution_count": 5,
   "metadata": {
    "colab": {
     "base_uri": "https://localhost:8080/"
    },
    "executionInfo": {
     "elapsed": 29,
     "status": "ok",
     "timestamp": 1625740386939,
     "user": {
      "displayName": "PUSHAP GANDHI",
      "photoUrl": "https://lh3.googleusercontent.com/a-/AOh14GhtvSq40Q0iR7PAFnCqNljCvZEL0u3Jwy5L59EZTA=s64",
      "userId": "12599792132870778014"
     },
     "user_tz": -330
    },
    "id": "Gu3UZXyWkWQg",
    "outputId": "9aac0a3a-e049-4613-a53d-675ccba73f21",
    "scrolled": true
   },
   "outputs": [
    {
     "data": {
      "text/plain": [
       "(1334281, 15)"
      ]
     },
     "execution_count": 5,
     "metadata": {
      "tags": []
     },
     "output_type": "execute_result"
    }
   ],
   "source": [
    "df_train.shape"
   ]
  },
  {
   "cell_type": "code",
   "execution_count": 6,
   "metadata": {
    "colab": {
     "base_uri": "https://localhost:8080/"
    },
    "executionInfo": {
     "elapsed": 25,
     "status": "ok",
     "timestamp": 1625740386940,
     "user": {
      "displayName": "PUSHAP GANDHI",
      "photoUrl": "https://lh3.googleusercontent.com/a-/AOh14GhtvSq40Q0iR7PAFnCqNljCvZEL0u3Jwy5L59EZTA=s64",
      "userId": "12599792132870778014"
     },
     "user_tz": -330
    },
    "id": "GkuXhY9ikWQi",
    "outputId": "2f070259-6eaf-4100-872d-4b045682ddef"
   },
   "outputs": [
    {
     "data": {
      "text/plain": [
       "(148254, 15)"
      ]
     },
     "execution_count": 6,
     "metadata": {
      "tags": []
     },
     "output_type": "execute_result"
    }
   ],
   "source": [
    "df_val.shape"
   ]
  },
  {
   "cell_type": "code",
   "execution_count": 7,
   "metadata": {
    "colab": {
     "base_uri": "https://localhost:8080/"
    },
    "executionInfo": {
     "elapsed": 18,
     "status": "ok",
     "timestamp": 1625740386940,
     "user": {
      "displayName": "PUSHAP GANDHI",
      "photoUrl": "https://lh3.googleusercontent.com/a-/AOh14GhtvSq40Q0iR7PAFnCqNljCvZEL0u3Jwy5L59EZTA=s64",
      "userId": "12599792132870778014"
     },
     "user_tz": -330
    },
    "id": "PfF1ugtVkWQj",
    "outputId": "1062a3c9-8be4-4686-a86f-3f74f724d46e"
   },
   "outputs": [
    {
     "data": {
      "text/plain": [
       "(3460725, 13)"
      ]
     },
     "execution_count": 7,
     "metadata": {
      "tags": []
     },
     "output_type": "execute_result"
    }
   ],
   "source": [
    "df_test.shape"
   ]
  },
  {
   "cell_type": "code",
   "execution_count": 9,
   "metadata": {
    "executionInfo": {
     "elapsed": 671,
     "status": "ok",
     "timestamp": 1625740391102,
     "user": {
      "displayName": "PUSHAP GANDHI",
      "photoUrl": "https://lh3.googleusercontent.com/a-/AOh14GhtvSq40Q0iR7PAFnCqNljCvZEL0u3Jwy5L59EZTA=s64",
      "userId": "12599792132870778014"
     },
     "user_tz": -330
    },
    "id": "wlMAJDJkkWQk"
   },
   "outputs": [],
   "source": [
    "y_train = df_train.log_price\n",
    "y_val = df_val.log_price"
   ]
  },
  {
   "cell_type": "markdown",
   "metadata": {
    "id": "zxbFOeKzkWQl"
   },
   "source": [
    "## A.  Benchmark Model"
   ]
  },
  {
   "cell_type": "code",
   "execution_count": null,
   "metadata": {
    "id": "xC5cgIfYkWQm"
   },
   "outputs": [],
   "source": [
    "def benchmark(x_input):\n",
    "    shipping = [0,1]\n",
    "    item_condition = [1,2,3,4,5]\n",
    "    model = dict()\n",
    "    for i in shipping:\n",
    "        for j in item_condition:\n",
    "            model[(i,j)] = df[(df.shipping==i) & (df.item_condition_id==j)][\"log_price\"].mean()\n",
    "    \n",
    "    output = []\n",
    "    for index,i in x_input.iterrows():\n",
    "        output.append(model[(i.shipping,i.item_condition_id)])\n",
    "    return np.array(output)"
   ]
  },
  {
   "cell_type": "code",
   "execution_count": null,
   "metadata": {
    "id": "aImdbOqQkWQn"
   },
   "outputs": [],
   "source": [
    "train_predict_benchmark = benchmark(df_train)\n",
    "val_predict_benchmark = benchmark(df_val)\n"
   ]
  },
  {
   "cell_type": "code",
   "execution_count": null,
   "metadata": {
    "id": "IewFoTYVkWQn",
    "outputId": "be2a5ef1-7e5f-4a5e-c029-b484c81d97a1"
   },
   "outputs": [
    {
     "name": "stdout",
     "output_type": "stream",
     "text": [
      "Train Loss Benchmark Model = 0.7267335100295779\n"
     ]
    }
   ],
   "source": [
    "print(\"Train Loss Benchmark Model =\",np.sqrt(mean_squared_error(y_train,train_predict_benchmark)))"
   ]
  },
  {
   "cell_type": "code",
   "execution_count": null,
   "metadata": {
    "id": "A99CMGTdkWQo",
    "outputId": "53f79203-b5a2-4504-e4c9-bab50be29a23"
   },
   "outputs": [
    {
     "name": "stdout",
     "output_type": "stream",
     "text": [
      "Val Loss Benchmark Model = 0.7254971252489131\n"
     ]
    }
   ],
   "source": [
    "print(\"Val Loss Benchmark Model =\",np.sqrt(mean_squared_error(y_val,val_predict_benchmark)))"
   ]
  },
  {
   "cell_type": "code",
   "execution_count": 12,
   "metadata": {
    "executionInfo": {
     "elapsed": 441,
     "status": "ok",
     "timestamp": 1625739819638,
     "user": {
      "displayName": "PUSHAP GANDHI",
      "photoUrl": "https://lh3.googleusercontent.com/a-/AOh14GhtvSq40Q0iR7PAFnCqNljCvZEL0u3Jwy5L59EZTA=s64",
      "userId": "12599792132870778014"
     },
     "user_tz": -330
    },
    "id": "RYLWY6gnkWQp"
   },
   "outputs": [],
   "source": [
    "def log_to_actual(log):\n",
    "    return np.exp(log)-1"
   ]
  },
  {
   "cell_type": "code",
   "execution_count": null,
   "metadata": {
    "id": "aFgdQVSokWQp",
    "outputId": "b1569220-2bd0-4002-9720-94c08e289621"
   },
   "outputs": [
    {
     "data": {
      "text/html": [
       "<div>\n",
       "<style scoped>\n",
       "    .dataframe tbody tr th:only-of-type {\n",
       "        vertical-align: middle;\n",
       "    }\n",
       "\n",
       "    .dataframe tbody tr th {\n",
       "        vertical-align: top;\n",
       "    }\n",
       "\n",
       "    .dataframe thead th {\n",
       "        text-align: right;\n",
       "    }\n",
       "</style>\n",
       "<table border=\"1\" class=\"dataframe\">\n",
       "  <thead>\n",
       "    <tr style=\"text-align: right;\">\n",
       "      <th></th>\n",
       "      <th>price</th>\n",
       "    </tr>\n",
       "    <tr>\n",
       "      <th>test_id</th>\n",
       "      <th></th>\n",
       "    </tr>\n",
       "  </thead>\n",
       "  <tbody>\n",
       "    <tr>\n",
       "      <th>0</th>\n",
       "      <td>14.913061</td>\n",
       "    </tr>\n",
       "    <tr>\n",
       "      <th>1</th>\n",
       "      <td>14.913061</td>\n",
       "    </tr>\n",
       "    <tr>\n",
       "      <th>2</th>\n",
       "      <td>14.913061</td>\n",
       "    </tr>\n",
       "    <tr>\n",
       "      <th>3</th>\n",
       "      <td>21.432196</td>\n",
       "    </tr>\n",
       "    <tr>\n",
       "      <th>4</th>\n",
       "      <td>15.587577</td>\n",
       "    </tr>\n",
       "    <tr>\n",
       "      <th>...</th>\n",
       "      <td>...</td>\n",
       "    </tr>\n",
       "    <tr>\n",
       "      <th>3460720</th>\n",
       "      <td>14.913061</td>\n",
       "    </tr>\n",
       "    <tr>\n",
       "      <th>3460721</th>\n",
       "      <td>15.814442</td>\n",
       "    </tr>\n",
       "    <tr>\n",
       "      <th>3460722</th>\n",
       "      <td>20.377879</td>\n",
       "    </tr>\n",
       "    <tr>\n",
       "      <th>3460723</th>\n",
       "      <td>14.913061</td>\n",
       "    </tr>\n",
       "    <tr>\n",
       "      <th>3460724</th>\n",
       "      <td>15.587577</td>\n",
       "    </tr>\n",
       "  </tbody>\n",
       "</table>\n",
       "<p>3460725 rows × 1 columns</p>\n",
       "</div>"
      ],
      "text/plain": [
       "             price\n",
       "test_id           \n",
       "0        14.913061\n",
       "1        14.913061\n",
       "2        14.913061\n",
       "3        21.432196\n",
       "4        15.587577\n",
       "...            ...\n",
       "3460720  14.913061\n",
       "3460721  15.814442\n",
       "3460722  20.377879\n",
       "3460723  14.913061\n",
       "3460724  15.587577\n",
       "\n",
       "[3460725 rows x 1 columns]"
      ]
     },
     "execution_count": 28,
     "metadata": {
      "tags": []
     },
     "output_type": "execute_result"
    }
   ],
   "source": [
    "test_predict_benchmark = benchmark(df_test)\n",
    "test_predict_benchmark = pd.DataFrame(log_to_actual(test_predict_benchmark),columns=[\"price\"])\n",
    "test_predict_benchmark.index = df_test.index\n",
    "test_predict_benchmark"
   ]
  },
  {
   "cell_type": "code",
   "execution_count": null,
   "metadata": {
    "id": "AZlOrsnGkWQq"
   },
   "outputs": [],
   "source": [
    "test_predict_benchmark.to_csv(\"test_predict_benchmark.csv\")"
   ]
  },
  {
   "cell_type": "markdown",
   "metadata": {},
   "source": [
    "### Kaggle Score for Test_data"
   ]
  },
  {
   "cell_type": "code",
   "execution_count": 9,
   "metadata": {},
   "outputs": [
    {
     "data": {
      "image/png": "[encoded data removed]",
      "text/plain": [
       "<IPython.core.display.Image object>"
      ]
     },
     "execution_count": 9,
     "metadata": {},
     "output_type": "execute_result"
    }
   ],
   "source": [
    "Image(\"screenshot/benchmark_w2v.png\")"
   ]
  },
  {
   "cell_type": "markdown",
   "metadata": {
    "id": "3oy9QP4PkWQq"
   },
   "source": [
    "# 1. Feature Engineering \n",
    "---------------------------------\n",
    "##    <font color='blue'> **Categorical Data : Label Encoding** </font> \n",
    "##   <font color='blue'>**Text Data : Word 2 Vec** </font>"
   ]
  },
  {
   "cell_type": "markdown",
   "metadata": {
    "id": "eNBqmouekWQr"
   },
   "source": [
    "## <font color='green'> Categorical Data  </font> \n",
    "## 1. 'brand_name_processed'"
   ]
  },
  {
   "cell_type": "code",
   "execution_count": 10,
   "metadata": {
    "executionInfo": {
     "elapsed": 1410,
     "status": "ok",
     "timestamp": 1625740398054,
     "user": {
      "displayName": "PUSHAP GANDHI",
      "photoUrl": "https://lh3.googleusercontent.com/a-/AOh14GhtvSq40Q0iR7PAFnCqNljCvZEL0u3Jwy5L59EZTA=s64",
      "userId": "12599792132870778014"
     },
     "user_tz": -330
    },
    "id": "MqJcF9ifkWQr"
   },
   "outputs": [],
   "source": [
    "label_brand = OrdinalEncoder( handle_unknown='use_encoded_value',unknown_value=-1)\n",
    "label_brand.fit(df_train.brand_name_processed.values.reshape(-1,1))\n",
    "\n",
    "train_vec_brand =label_brand.transform(df_train.brand_name_processed.values.reshape(-1,1))\n",
    "val_vec_brand = label_brand.transform(df_val.brand_name_processed.values.reshape(-1,1))\n"
   ]
  },
  {
   "cell_type": "code",
   "execution_count": 11,
   "metadata": {
    "colab": {
     "base_uri": "https://localhost:8080/"
    },
    "executionInfo": {
     "elapsed": 10,
     "status": "ok",
     "timestamp": 1625740398055,
     "user": {
      "displayName": "PUSHAP GANDHI",
      "photoUrl": "https://lh3.googleusercontent.com/a-/AOh14GhtvSq40Q0iR7PAFnCqNljCvZEL0u3Jwy5L59EZTA=s64",
      "userId": "12599792132870778014"
     },
     "user_tz": -330
    },
    "id": "xU-21UazkWQs",
    "outputId": "d66728c1-bac4-43b9-f166-1a46dcc25d79"
   },
   "outputs": [
    {
     "data": {
      "text/plain": [
       "(1334281, 1)"
      ]
     },
     "execution_count": 11,
     "metadata": {
      "tags": []
     },
     "output_type": "execute_result"
    }
   ],
   "source": [
    "train_vec_brand.shape"
   ]
  },
  {
   "cell_type": "code",
   "execution_count": 12,
   "metadata": {
    "colab": {
     "base_uri": "https://localhost:8080/"
    },
    "executionInfo": {
     "elapsed": 4,
     "status": "ok",
     "timestamp": 1625740398680,
     "user": {
      "displayName": "PUSHAP GANDHI",
      "photoUrl": "https://lh3.googleusercontent.com/a-/AOh14GhtvSq40Q0iR7PAFnCqNljCvZEL0u3Jwy5L59EZTA=s64",
      "userId": "12599792132870778014"
     },
     "user_tz": -330
    },
    "id": "aWDNukiLkWQs",
    "outputId": "a2be8f97-5b23-4950-b599-092b49517b7d"
   },
   "outputs": [
    {
     "data": {
      "text/plain": [
       "(148254, 1)"
      ]
     },
     "execution_count": 12,
     "metadata": {
      "tags": []
     },
     "output_type": "execute_result"
    }
   ],
   "source": [
    "val_vec_brand.shape"
   ]
  },
  {
   "cell_type": "code",
   "execution_count": 13,
   "metadata": {
    "colab": {
     "base_uri": "https://localhost:8080/"
    },
    "executionInfo": {
     "elapsed": 3564,
     "status": "ok",
     "timestamp": 1625740403631,
     "user": {
      "displayName": "PUSHAP GANDHI",
      "photoUrl": "https://lh3.googleusercontent.com/a-/AOh14GhtvSq40Q0iR7PAFnCqNljCvZEL0u3Jwy5L59EZTA=s64",
      "userId": "12599792132870778014"
     },
     "user_tz": -330
    },
    "id": "2dqQ94K8kWQt",
    "outputId": "2d5bbcac-6fce-4c18-f5fe-ad1790ea7efd"
   },
   "outputs": [
    {
     "data": {
      "text/plain": [
       "(3460725, 1)"
      ]
     },
     "execution_count": 13,
     "metadata": {
      "tags": []
     },
     "output_type": "execute_result"
    }
   ],
   "source": [
    "test_vec_brand = label_brand.transform(df_test.brand_name_processed.values.reshape(-1,1))\n",
    "test_vec_brand.shape"
   ]
  },
  {
   "cell_type": "markdown",
   "metadata": {
    "id": "Kbe0b7U7kWQt"
   },
   "source": [
    "## 2. 'Tier_1'"
   ]
  },
  {
   "cell_type": "code",
   "execution_count": 14,
   "metadata": {
    "executionInfo": {
     "elapsed": 803,
     "status": "ok",
     "timestamp": 1625740404427,
     "user": {
      "displayName": "PUSHAP GANDHI",
      "photoUrl": "https://lh3.googleusercontent.com/a-/AOh14GhtvSq40Q0iR7PAFnCqNljCvZEL0u3Jwy5L59EZTA=s64",
      "userId": "12599792132870778014"
     },
     "user_tz": -330
    },
    "id": "qCXBGpNCkWQt"
   },
   "outputs": [],
   "source": [
    "label_t1 = OrdinalEncoder(handle_unknown='use_encoded_value',unknown_value=-1)\n",
    "label_t1.fit(df_train.Tier_1.values.reshape(-1,1))\n",
    "\n",
    "train_vec_t1 = label_t1.transform(df_train.Tier_1.values.reshape(-1,1))\n",
    "val_vec_t1 =   label_t1.transform(df_val.Tier_1.values.reshape(-1,1))\n"
   ]
  },
  {
   "cell_type": "code",
   "execution_count": 15,
   "metadata": {
    "colab": {
     "base_uri": "https://localhost:8080/"
    },
    "executionInfo": {
     "elapsed": 17,
     "status": "ok",
     "timestamp": 1625740404428,
     "user": {
      "displayName": "PUSHAP GANDHI",
      "photoUrl": "https://lh3.googleusercontent.com/a-/AOh14GhtvSq40Q0iR7PAFnCqNljCvZEL0u3Jwy5L59EZTA=s64",
      "userId": "12599792132870778014"
     },
     "user_tz": -330
    },
    "id": "SeD4OnWMkWQt",
    "outputId": "fbde8bf6-c762-456e-b1b8-50ac07680f5a"
   },
   "outputs": [
    {
     "data": {
      "text/plain": [
       "(1334281, 1)"
      ]
     },
     "execution_count": 15,
     "metadata": {
      "tags": []
     },
     "output_type": "execute_result"
    }
   ],
   "source": [
    "train_vec_t1.shape"
   ]
  },
  {
   "cell_type": "code",
   "execution_count": 16,
   "metadata": {
    "colab": {
     "base_uri": "https://localhost:8080/"
    },
    "executionInfo": {
     "elapsed": 14,
     "status": "ok",
     "timestamp": 1625740404429,
     "user": {
      "displayName": "PUSHAP GANDHI",
      "photoUrl": "https://lh3.googleusercontent.com/a-/AOh14GhtvSq40Q0iR7PAFnCqNljCvZEL0u3Jwy5L59EZTA=s64",
      "userId": "12599792132870778014"
     },
     "user_tz": -330
    },
    "id": "pGYW6CCWkWQu",
    "outputId": "1d215819-052e-4a6f-9a32-c5cff2f6f8cf"
   },
   "outputs": [
    {
     "data": {
      "text/plain": [
       "(148254, 1)"
      ]
     },
     "execution_count": 16,
     "metadata": {
      "tags": []
     },
     "output_type": "execute_result"
    }
   ],
   "source": [
    "val_vec_t1.shape"
   ]
  },
  {
   "cell_type": "code",
   "execution_count": 17,
   "metadata": {
    "colab": {
     "base_uri": "https://localhost:8080/"
    },
    "executionInfo": {
     "elapsed": 3932,
     "status": "ok",
     "timestamp": 1625740410601,
     "user": {
      "displayName": "PUSHAP GANDHI",
      "photoUrl": "https://lh3.googleusercontent.com/a-/AOh14GhtvSq40Q0iR7PAFnCqNljCvZEL0u3Jwy5L59EZTA=s64",
      "userId": "12599792132870778014"
     },
     "user_tz": -330
    },
    "id": "iG6Cj-JUkWQu",
    "outputId": "19ac7025-7869-48b7-9705-946dd0e6fce7"
   },
   "outputs": [
    {
     "data": {
      "text/plain": [
       "(3460725, 1)"
      ]
     },
     "execution_count": 17,
     "metadata": {
      "tags": []
     },
     "output_type": "execute_result"
    }
   ],
   "source": [
    "test_vec_t1 =   label_t1.transform(df_test.Tier_1.values.reshape(-1,1))\n",
    "test_vec_t1.shape"
   ]
  },
  {
   "cell_type": "markdown",
   "metadata": {
    "id": "eoPWjNjJkWQu"
   },
   "source": [
    "## 3. 'Tier_2'"
   ]
  },
  {
   "cell_type": "code",
   "execution_count": 18,
   "metadata": {
    "colab": {
     "background_save": true
    },
    "executionInfo": {
     "elapsed": 18,
     "status": "ok",
     "timestamp": 1625740410602,
     "user": {
      "displayName": "PUSHAP GANDHI",
      "photoUrl": "https://lh3.googleusercontent.com/a-/AOh14GhtvSq40Q0iR7PAFnCqNljCvZEL0u3Jwy5L59EZTA=s64",
      "userId": "12599792132870778014"
     },
     "user_tz": -330
    },
    "id": "rcFzoJA0kWQu"
   },
   "outputs": [],
   "source": [
    "label_t2 = OrdinalEncoder(handle_unknown='use_encoded_value',unknown_value=-1)\n",
    "label_t2.fit(df_train.Tier_2.values.reshape(-1,1))\n",
    "\n",
    "train_vec_t2 =label_t2.transform(df_train.Tier_2.values.reshape(-1,1))\n",
    "val_vec_t2 = label_t2.transform(df_val.Tier_2.values.reshape(-1,1))\n"
   ]
  },
  {
   "cell_type": "code",
   "execution_count": 19,
   "metadata": {
    "colab": {
     "base_uri": "https://localhost:8080/"
    },
    "executionInfo": {
     "elapsed": 18,
     "status": "ok",
     "timestamp": 1625740410604,
     "user": {
      "displayName": "PUSHAP GANDHI",
      "photoUrl": "https://lh3.googleusercontent.com/a-/AOh14GhtvSq40Q0iR7PAFnCqNljCvZEL0u3Jwy5L59EZTA=s64",
      "userId": "12599792132870778014"
     },
     "user_tz": -330
    },
    "id": "yIxqxKzUkWQu",
    "outputId": "5ce585a4-e1e2-4965-e263-2dafa9ea7e08"
   },
   "outputs": [
    {
     "data": {
      "text/plain": [
       "(1334281, 1)"
      ]
     },
     "execution_count": 19,
     "metadata": {
      "tags": []
     },
     "output_type": "execute_result"
    }
   ],
   "source": [
    "train_vec_t2.shape"
   ]
  },
  {
   "cell_type": "code",
   "execution_count": 20,
   "metadata": {
    "colab": {
     "base_uri": "https://localhost:8080/"
    },
    "executionInfo": {
     "elapsed": 715,
     "status": "ok",
     "timestamp": 1625740411306,
     "user": {
      "displayName": "PUSHAP GANDHI",
      "photoUrl": "https://lh3.googleusercontent.com/a-/AOh14GhtvSq40Q0iR7PAFnCqNljCvZEL0u3Jwy5L59EZTA=s64",
      "userId": "12599792132870778014"
     },
     "user_tz": -330
    },
    "id": "B1SwqjmokWQv",
    "outputId": "8dea4f7c-4dba-41c5-9d4a-4b1dc85417e2"
   },
   "outputs": [
    {
     "data": {
      "text/plain": [
       "(148254, 1)"
      ]
     },
     "execution_count": 20,
     "metadata": {
      "tags": []
     },
     "output_type": "execute_result"
    }
   ],
   "source": [
    "val_vec_t2.shape"
   ]
  },
  {
   "cell_type": "code",
   "execution_count": 21,
   "metadata": {
    "colab": {
     "base_uri": "https://localhost:8080/"
    },
    "executionInfo": {
     "elapsed": 698,
     "status": "ok",
     "timestamp": 1625740411999,
     "user": {
      "displayName": "PUSHAP GANDHI",
      "photoUrl": "https://lh3.googleusercontent.com/a-/AOh14GhtvSq40Q0iR7PAFnCqNljCvZEL0u3Jwy5L59EZTA=s64",
      "userId": "12599792132870778014"
     },
     "user_tz": -330
    },
    "id": "UAcUZpd_kWQv",
    "outputId": "f3f763a1-a854-450c-d8f4-5df4fd01a88e"
   },
   "outputs": [
    {
     "data": {
      "text/plain": [
       "(3460725, 1)"
      ]
     },
     "execution_count": 21,
     "metadata": {
      "tags": []
     },
     "output_type": "execute_result"
    }
   ],
   "source": [
    "test_vec_t2 = label_t2.transform(df_test.Tier_2.values.reshape(-1,1))\n",
    "test_vec_t2 .shape"
   ]
  },
  {
   "cell_type": "markdown",
   "metadata": {
    "id": "Lp6zfDkmkWQv"
   },
   "source": [
    "## 4. 'Tier_3'"
   ]
  },
  {
   "cell_type": "code",
   "execution_count": 22,
   "metadata": {
    "executionInfo": {
     "elapsed": 810,
     "status": "ok",
     "timestamp": 1625740413502,
     "user": {
      "displayName": "PUSHAP GANDHI",
      "photoUrl": "https://lh3.googleusercontent.com/a-/AOh14GhtvSq40Q0iR7PAFnCqNljCvZEL0u3Jwy5L59EZTA=s64",
      "userId": "12599792132870778014"
     },
     "user_tz": -330
    },
    "id": "h5Hvf5QNkWQv"
   },
   "outputs": [],
   "source": [
    "label_t3 = OrdinalEncoder(handle_unknown='use_encoded_value',unknown_value=-1)\n",
    "label_t3.fit(df_train.Tier_3.values.reshape(-1,1))\n",
    "\n",
    "train_vec_t3 =label_t3.transform(df_train.Tier_3.values.reshape(-1,1))\n",
    "val_vec_t3 = label_t3.transform(df_val.Tier_3.values.reshape(-1,1))\n"
   ]
  },
  {
   "cell_type": "code",
   "execution_count": 23,
   "metadata": {
    "colab": {
     "base_uri": "https://localhost:8080/"
    },
    "executionInfo": {
     "elapsed": 7,
     "status": "ok",
     "timestamp": 1625740414191,
     "user": {
      "displayName": "PUSHAP GANDHI",
      "photoUrl": "https://lh3.googleusercontent.com/a-/AOh14GhtvSq40Q0iR7PAFnCqNljCvZEL0u3Jwy5L59EZTA=s64",
      "userId": "12599792132870778014"
     },
     "user_tz": -330
    },
    "id": "-o-s_NbqkWQv",
    "outputId": "59fc03e9-afb5-479b-9ea5-2e9e1a53f83a",
    "scrolled": true
   },
   "outputs": [
    {
     "data": {
      "text/plain": [
       "(1334281, 1)"
      ]
     },
     "execution_count": 23,
     "metadata": {
      "tags": []
     },
     "output_type": "execute_result"
    }
   ],
   "source": [
    "train_vec_t3.shape"
   ]
  },
  {
   "cell_type": "code",
   "execution_count": 24,
   "metadata": {
    "colab": {
     "base_uri": "https://localhost:8080/"
    },
    "executionInfo": {
     "elapsed": 17,
     "status": "ok",
     "timestamp": 1625740414897,
     "user": {
      "displayName": "PUSHAP GANDHI",
      "photoUrl": "https://lh3.googleusercontent.com/a-/AOh14GhtvSq40Q0iR7PAFnCqNljCvZEL0u3Jwy5L59EZTA=s64",
      "userId": "12599792132870778014"
     },
     "user_tz": -330
    },
    "id": "ctGvRoAUkWQv",
    "outputId": "f02fb898-e75c-4e5e-83a6-eae4f66764e2"
   },
   "outputs": [
    {
     "data": {
      "text/plain": [
       "(1334281, 1)"
      ]
     },
     "execution_count": 24,
     "metadata": {
      "tags": []
     },
     "output_type": "execute_result"
    }
   ],
   "source": [
    "train_vec_t3.shape"
   ]
  },
  {
   "cell_type": "code",
   "execution_count": 21,
   "metadata": {
    "colab": {
     "base_uri": "https://localhost:8080/"
    },
    "executionInfo": {
     "elapsed": 698,
     "status": "ok",
     "timestamp": 1625740411999,
     "user": {
      "displayName": "PUSHAP GANDHI",
      "photoUrl": "https://lh3.googleusercontent.com/a-/AOh14GhtvSq40Q0iR7PAFnCqNljCvZEL0u3Jwy5L59EZTA=s64",
      "userId": "12599792132870778014"
     },
     "user_tz": -330
    },
    "id": "UAcUZpd_kWQv",
    "outputId": "f3f763a1-a854-450c-d8f4-5df4fd01a88e"
   },
   "outputs": [
    {
     "data": {
      "text/plain": [
       "(3460725, 1)"
      ]
     },
     "execution_count": 21,
     "metadata": {
      "tags": []
     },
     "output_type": "execute_result"
    }
   ],
   "source": [
    "test_vec_t3 = label_t3.transform(df_test.Tier_3.values.reshape(-1,1))\n",
    "test_vec_t3 .shape"
   ]
  },
  {
   "cell_type": "markdown",
   "metadata": {
    "id": "Ip4E07fbkWQw"
   },
   "source": [
    "## <font color='green'> Text Data  </font> \n",
    "## 5. 'name_processed' + 'item_description'"
   ]
  },
  {
   "cell_type": "code",
   "execution_count": 26,
   "metadata": {
    "executionInfo": {
     "elapsed": 1668,
     "status": "ok",
     "timestamp": 1625740421303,
     "user": {
      "displayName": "PUSHAP GANDHI",
      "photoUrl": "https://lh3.googleusercontent.com/a-/AOh14GhtvSq40Q0iR7PAFnCqNljCvZEL0u3Jwy5L59EZTA=s64",
      "userId": "12599792132870778014"
     },
     "user_tz": -330
    },
    "id": "Zm5uY_8QkWQx"
   },
   "outputs": [],
   "source": [
    "df_train[\"concat\"] = df_train.name_processed + \" \"+df_train.processed_item_description\n",
    "df_val[\"concat\"] = df_val.name_processed + \" \"+df_val.processed_item_description"
   ]
  },
  {
   "cell_type": "code",
   "execution_count": 27,
   "metadata": {
    "executionInfo": {
     "elapsed": 1507,
     "status": "ok",
     "timestamp": 1625740422806,
     "user": {
      "displayName": "PUSHAP GANDHI",
      "photoUrl": "https://lh3.googleusercontent.com/a-/AOh14GhtvSq40Q0iR7PAFnCqNljCvZEL0u3Jwy5L59EZTA=s64",
      "userId": "12599792132870778014"
     },
     "user_tz": -330
    },
    "id": "fDbPDrNokWQx"
   },
   "outputs": [],
   "source": [
    "df_test[\"concat\"] = df_test.name_processed + \" \"+df_test.processed_item_description"
   ]
  },
  {
   "cell_type": "markdown",
   "metadata": {
    "id": "7YUkOwivkWQx"
   },
   "source": [
    "###  'name_processed' + 'Word2Vec"
   ]
  },
  {
   "cell_type": "code",
   "execution_count": 28,
   "metadata": {
    "colab": {
     "background_save": true,
     "base_uri": "https://localhost:8080/"
    },
    "executionInfo": {
     "elapsed": 7733,
     "status": "ok",
     "timestamp": 1625740436927,
     "user": {
      "displayName": "PUSHAP GANDHI",
      "photoUrl": "https://lh3.googleusercontent.com/a-/AOh14GhtvSq40Q0iR7PAFnCqNljCvZEL0u3Jwy5L59EZTA=s64",
      "userId": "12599792132870778014"
     },
     "user_tz": -330
    },
    "id": "ePrGnr2TkWQx"
   },
   "outputs": [
    {
     "name": "stderr",
     "output_type": "stream",
     "text": [
      "100%|██████████| 1334281/1334281 [00:09<00:00, 138897.64it/s]\n"
     ]
    }
   ],
   "source": [
    "corpus_name = []\n",
    "for i in tqdm(df_train.concat):\n",
    "    corpus_name.append(i.split())"
   ]
  },
  {
   "cell_type": "code",
   "execution_count": 29,
   "metadata": {
    "colab": {
     "background_save": true
    },
    "executionInfo": {
     "elapsed": 450252,
     "status": "ok",
     "timestamp": 1625740887160,
     "user": {
      "displayName": "PUSHAP GANDHI",
      "photoUrl": "https://lh3.googleusercontent.com/a-/AOh14GhtvSq40Q0iR7PAFnCqNljCvZEL0u3Jwy5L59EZTA=s64",
      "userId": "12599792132870778014"
     },
     "user_tz": -330
    },
    "id": "GkP-OEsDkWQy"
   },
   "outputs": [],
   "source": [
    "name_w2v = Word2Vec(corpus_name,vector_size=300,window= 20)"
   ]
  },
  {
   "cell_type": "code",
   "execution_count": 30,
   "metadata": {
    "colab": {
     "background_save": true
    },
    "executionInfo": {
     "elapsed": 34,
     "status": "ok",
     "timestamp": 1625740887162,
     "user": {
      "displayName": "PUSHAP GANDHI",
      "photoUrl": "https://lh3.googleusercontent.com/a-/AOh14GhtvSq40Q0iR7PAFnCqNljCvZEL0u3Jwy5L59EZTA=s64",
      "userId": "12599792132870778014"
     },
     "user_tz": -330
    },
    "id": "u7e3Wd3lkWQy"
   },
   "outputs": [],
   "source": [
    "def sent_to_vec(text):\n",
    "    vec= np.zeros(shape=(300,),dtype=\"float32\")\n",
    "    l = len(str(text).split())\n",
    "    \n",
    "    for i in str(text).split():\n",
    "        try:\n",
    "            vec += name_w2v.wv[i]\n",
    "        except:\n",
    "            continue\n",
    "    if l !=0 :\n",
    "        avg_vec = vec/l\n",
    "    return avg_vec"
   ]
  },
  {
   "cell_type": "code",
   "execution_count": null,
   "metadata": {
    "colab": {
     "background_save": true
    },
    "id": "G3QYR9HMkWQy"
   },
   "outputs": [],
   "source": [
    "train_vec_text = np.stack(df_train.concat.apply(sent_to_vec).values)\n",
    "val_vec_text   = np.stack(df_val.concat.apply(sent_to_vec).values)"
   ]
  },
  {
   "cell_type": "code",
   "execution_count": null,
   "metadata": {
    "colab": {
     "background_save": true
    },
    "id": "v5j5Nz7zkWQy",
    "scrolled": true
   },
   "outputs": [
    {
     "data": {
      "text/plain": [
       "(1334281, 300)"
      ]
     },
     "execution_count": null,
     "metadata": {},
     "output_type": "execute_result"
    }
   ],
   "source": [
    "train_vec_text.shape"
   ]
  },
  {
   "cell_type": "code",
   "execution_count": null,
   "metadata": {
    "colab": {
     "background_save": true
    },
    "id": "bsyOoKdgkWQz"
   },
   "outputs": [
    {
     "data": {
      "text/plain": [
       "(148254, 300)"
      ]
     },
     "execution_count": null,
     "metadata": {},
     "output_type": "execute_result"
    }
   ],
   "source": [
    "val_vec_text.shape"
   ]
  },
  {
   "cell_type": "code",
   "execution_count": null,
   "metadata": {
    "id": "SQLVGPsckWQz"
   },
   "outputs": [],
   "source": [
    "test_vec_text   = np.stack(df_test.concat.apply(sent_to_vec).values)"
   ]
  },
  {
   "cell_type": "code",
   "execution_count": null,
   "metadata": {},
   "outputs": [],
   "source": []
  },
  {
   "cell_type": "markdown",
   "metadata": {
    "id": "MA5-_WgykWQz"
   },
   "source": [
    "## 6. 'is_missing'"
   ]
  },
  {
   "cell_type": "code",
   "execution_count": null,
   "metadata": {
    "colab": {
     "background_save": true
    },
    "id": "R5wnBMGekWQz"
   },
   "outputs": [],
   "source": [
    "df_train[\"is_missing\"]  =  (df_train.brand_name_processed==\"missing\") | (df_train.name_processed ==\"missing\")| (df_train.processed_item_description==\"missing\")\n",
    "df_train[\"is_missing\"]  = df_train[\"is_missing\"].astype(int)"
   ]
  },
  {
   "cell_type": "code",
   "execution_count": null,
   "metadata": {
    "id": "skd43a4XkWQz"
   },
   "outputs": [],
   "source": [
    "df_val[\"is_missing\"]  =  (df_val.brand_name_processed==\"missing\") | (df_val.name_processed ==\"missing\")| (df_val.processed_item_description==\"missing\")\n",
    "df_val[\"is_missing\"]  = df_val[\"is_missing\"].astype(int)"
   ]
  },
  {
   "cell_type": "code",
   "execution_count": null,
   "metadata": {
    "id": "ZCzZ4e3ikWQz"
   },
   "outputs": [],
   "source": [
    "df_test[\"is_missing\"]  =  (df_test.brand_name_processed==\"missing\") | (df_test.name_processed ==\"missing\")| (df_test.processed_item_description==\"missing\")\n",
    "df_test[\"is_missing\"]  = df_test[\"is_missing\"].astype(int)"
   ]
  },
  {
   "cell_type": "markdown",
   "metadata": {
    "id": "QXOgw57fkWQ0"
   },
   "source": [
    "### Concatenating all Features"
   ]
  },
  {
   "cell_type": "code",
   "execution_count": null,
   "metadata": {
    "colab": {
     "background_save": true
    },
    "id": "fG6eQSn3kWQ0"
   },
   "outputs": [],
   "source": [
    "x_train = np.hstack((df_train.item_condition_id.values.reshape(-1,1) , df_train.shipping.values.reshape(-1,1) ,\\\n",
    "                     df_train.is_missing.values.reshape(-1,1) ,\n",
    "            train_vec_brand , train_vec_t1 , train_vec_t2,train_vec_t3 , train_vec_text))"
   ]
  },
  {
   "cell_type": "code",
   "execution_count": null,
   "metadata": {
    "id": "oswSwt8MkWQ0"
   },
   "outputs": [],
   "source": [
    "x_val = np.hstack((df_val.item_condition_id.values.reshape(-1,1) , df_val.shipping.values.reshape(-1,1),\\\n",
    "                   df_val.is_missing.values.reshape(-1,1),  \n",
    "                   val_vec_brand,val_vec_t1 , \\\n",
    "                  val_vec_t2,val_vec_t3,val_vec_text))"
   ]
  },
  {
   "cell_type": "code",
   "execution_count": null,
   "metadata": {
    "id": "AQW6T9bikWQ0"
   },
   "outputs": [],
   "source": [
    "x_test = np.hstack((df_test.item_condition_id.values.reshape(-1,1) , df_test.shipping.values.reshape(-1,1),\\\n",
    "                   df_test.is_missing.values.reshape(-1,1),  \n",
    "                   test_vec_brand,test_vec_t1 , \\\n",
    "                  test_vec_t2,test_vec_t3,\n",
    "                    test_vec_text))"
   ]
  },
  {
   "cell_type": "code",
   "execution_count": null,
   "metadata": {
    "id": "F7Ts_dm0kWQ0",
    "outputId": "4d10f219-0941-46b5-cc33-380cae0125f0"
   },
   "outputs": [
    {
     "data": {
      "text/plain": [
       "(1334281, 307)"
      ]
     },
     "execution_count": 63,
     "metadata": {
      "tags": []
     },
     "output_type": "execute_result"
    }
   ],
   "source": [
    "x_train.shape"
   ]
  },
  {
   "cell_type": "code",
   "execution_count": null,
   "metadata": {
    "id": "xgJQNAFzkWQ1",
    "outputId": "3625ad79-45c8-497e-af12-0a49606c8576",
    "scrolled": true
   },
   "outputs": [
    {
     "data": {
      "text/plain": [
       "(148254, 307)"
      ]
     },
     "execution_count": 64,
     "metadata": {
      "tags": []
     },
     "output_type": "execute_result"
    }
   ],
   "source": [
    "x_val.shape"
   ]
  },
  {
   "cell_type": "markdown",
   "metadata": {
    "id": "QaoGcOKxkWQ1"
   },
   "source": [
    "## Sample Data for Hyperpatameter Tuning"
   ]
  },
  {
   "cell_type": "code",
   "execution_count": null,
   "metadata": {
    "id": "jQuivCZhkWQ1"
   },
   "outputs": [],
   "source": [
    "def sample(x_train,y_train):\n",
    "    np.random.seed(5)\n",
    "    index = np.random.random_integers(0,x_train.shape[0]-1,size=int(0.1*x_train.shape[0]))\n",
    "    \n",
    "    x_train_s = x_train[index]\n",
    "    y_train_s = y_train.values[index]\n",
    "    \n",
    "    return x_train_s,y_train_s"
   ]
  },
  {
   "cell_type": "code",
   "execution_count": null,
   "metadata": {
    "id": "5IB4TJPUkWQ1",
    "scrolled": true
   },
   "outputs": [],
   "source": [
    "x_train_s,y_train_s = sample(x_train,y_train)"
   ]
  },
  {
   "cell_type": "code",
   "execution_count": null,
   "metadata": {
    "id": "Tl66RduikWQ1",
    "outputId": "b6cfa659-e91d-4ad7-ea92-3b9841345557"
   },
   "outputs": [
    {
     "data": {
      "text/plain": [
       "(133428, 307)"
      ]
     },
     "execution_count": 42,
     "metadata": {
      "tags": []
     },
     "output_type": "execute_result"
    }
   ],
   "source": [
    "x_train_s.shape"
   ]
  },
  {
   "cell_type": "code",
   "execution_count": null,
   "metadata": {
    "id": "fXJkEVjokWQ2",
    "outputId": "61fe9d1d-9b07-4703-950c-673e317c6667"
   },
   "outputs": [
    {
     "data": {
      "text/plain": [
       "(133428,)"
      ]
     },
     "execution_count": 43,
     "metadata": {
      "tags": []
     },
     "output_type": "execute_result"
    }
   ],
   "source": [
    "y_train_s.shape"
   ]
  },
  {
   "cell_type": "markdown",
   "metadata": {
    "id": "6dHz9TgNkWQ2"
   },
   "source": [
    "# B. Models\n",
    "## 1. Lasso"
   ]
  },
  {
   "cell_type": "code",
   "execution_count": null,
   "metadata": {
    "id": "J-XnfvPHkWQ2",
    "outputId": "b417c7d7-944d-4a77-d289-4ab4c311aa17"
   },
   "outputs": [
    {
     "name": "stdout",
     "output_type": "stream",
     "text": [
      "Fitting 3 folds for each of 7 candidates, totalling 21 fits\n"
     ]
    },
    {
     "data": {
      "text/plain": [
       "GridSearchCV(cv=3, estimator=Lasso(), n_jobs=-1,\n",
       "             param_grid={'alpha': [1e-05, 0.0001, 0.001, 0.01, 0.1, 1, 10]},\n",
       "             return_train_score=True, scoring='neg_root_mean_squared_error',\n",
       "             verbose=1)"
      ]
     },
     "execution_count": 80,
     "metadata": {
      "tags": []
     },
     "output_type": "execute_result"
    }
   ],
   "source": [
    "laso = Lasso()\n",
    "param =  {\"alpha\":[10**x for x in range(-5,2)]}\n",
    "reg_l1 = GridSearchCV(laso,param ,cv=3,verbose=1,return_train_score=True,scoring='neg_root_mean_squared_error',n_jobs=-1)\n",
    "reg_l1.fit(x_train_s,y_train_s)"
   ]
  },
  {
   "cell_type": "code",
   "execution_count": null,
   "metadata": {
    "id": "0xaU7BclkWQ2",
    "outputId": "d13c9ab4-1b4f-419e-bd21-f0c22e9038a2"
   },
   "outputs": [
    {
     "data": {
      "image/png": "[encoded data removed]",
      "text/plain": [
       "<Figure size 432x288 with 1 Axes>"
      ]
     },
     "metadata": {
      "tags": []
     },
     "output_type": "display_data"
    }
   ],
   "source": [
    "results = pd.DataFrame(reg_l1.cv_results_)\n",
    "results = results.sort_values(['param_alpha'])\n",
    "\n",
    "train_score=results[\"mean_train_score\"] #STORING TRAINING DATASET AUC SCORE\n",
    "cv_score=results[\"mean_test_score\"] #STORING CV DATESET AUC SCORE\n",
    "alpha=results[\"param_alpha\"].apply(lambda x:np.log10(x))\n",
    "\n",
    "sns.set_style(\"whitegrid\")\n",
    "sns.lineplot(x=alpha,y=train_score,label=\"Train\")\n",
    "sns.lineplot(x=alpha,y=cv_score,label=\"CV\")\n",
    "sns.scatterplot(x=alpha,y=train_score)\n",
    "sns.scatterplot(x=alpha,y=cv_score)\n",
    "plt.xlabel(\"log(alpha)\")\n",
    "plt.ylabel(\"-RMSE\")\n",
    "plt.legend()\n",
    "plt.show()\n"
   ]
  },
  {
   "cell_type": "code",
   "execution_count": null,
   "metadata": {
    "id": "j_ZxDw_tkWQ2",
    "outputId": "c390533f-e125-45ff-b420-99ea0fc26769"
   },
   "outputs": [
    {
     "data": {
      "text/plain": [
       "{'alpha': 1e-05}"
      ]
     },
     "execution_count": 82,
     "metadata": {
      "tags": []
     },
     "output_type": "execute_result"
    }
   ],
   "source": [
    "reg_l1.best_params_"
   ]
  },
  {
   "cell_type": "code",
   "execution_count": null,
   "metadata": {
    "id": "FhJPfNVQkWQ2",
    "outputId": "5575e6e0-598e-4d4c-b223-5383d7166a00"
   },
   "outputs": [
    {
     "data": {
      "text/plain": [
       "Lasso(alpha=1e-05)"
      ]
     },
     "execution_count": 83,
     "metadata": {
      "tags": []
     },
     "output_type": "execute_result"
    }
   ],
   "source": [
    "laso = Lasso(alpha = 10**-5)\n",
    "laso.fit(x_train,y_train)"
   ]
  },
  {
   "cell_type": "code",
   "execution_count": null,
   "metadata": {
    "id": "Z_tjW94RkWQ3"
   },
   "outputs": [],
   "source": [
    "# TRAIN PREDICTION\n",
    "train_pred_l1 = laso.predict(x_train)\n",
    "# TEST PREDICTION\n",
    "val_pred_l1 = laso.predict(x_val)"
   ]
  },
  {
   "cell_type": "markdown",
   "metadata": {
    "id": "V_NToldBkWQ3"
   },
   "source": [
    "### Performance"
   ]
  },
  {
   "cell_type": "code",
   "execution_count": null,
   "metadata": {
    "id": "DU8VXOe8kWQ3",
    "outputId": "4862eae9-ac7e-47c5-a8f3-f55cfe50a272"
   },
   "outputs": [
    {
     "data": {
      "text/plain": [
       "0.6043821792690721"
      ]
     },
     "execution_count": 85,
     "metadata": {
      "tags": []
     },
     "output_type": "execute_result"
    }
   ],
   "source": [
    "# TRAIN ERROR\n",
    "np.sqrt(mean_squared_error(y_train,train_pred_l1))"
   ]
  },
  {
   "cell_type": "code",
   "execution_count": null,
   "metadata": {
    "id": "p552RrJ2kWQ3",
    "outputId": "23c7e082-4cbe-444d-cb20-5b93c29be068"
   },
   "outputs": [
    {
     "data": {
      "text/plain": [
       "0.6037378604240596"
      ]
     },
     "execution_count": 86,
     "metadata": {
      "tags": []
     },
     "output_type": "execute_result"
    }
   ],
   "source": [
    "# VALIDATION ERROR\n",
    "np.sqrt(mean_squared_error(y_val , val_pred_l1))"
   ]
  },
  {
   "cell_type": "code",
   "execution_count": null,
   "metadata": {
    "colab": {
     "base_uri": "https://localhost:8080/",
     "height": 419
    },
    "executionInfo": {
     "elapsed": 13587,
     "status": "ok",
     "timestamp": 1625811745045,
     "user": {
      "displayName": "PUSHAP GANDHI",
      "photoUrl": "https://lh3.googleusercontent.com/a-/AOh14GhtvSq40Q0iR7PAFnCqNljCvZEL0u3Jwy5L59EZTA=s64",
      "userId": "12599792132870778014"
     },
     "user_tz": -330
    },
    "id": "iJ_N-sHf0X54",
    "outputId": "281734ab-64fb-4098-b1c7-44dbb9f4b98a"
   },
   "outputs": [
    {
     "data": {
      "text/html": [
       "<div>\n",
       "<style scoped>\n",
       "    .dataframe tbody tr th:only-of-type {\n",
       "        vertical-align: middle;\n",
       "    }\n",
       "\n",
       "    .dataframe tbody tr th {\n",
       "        vertical-align: top;\n",
       "    }\n",
       "\n",
       "    .dataframe thead th {\n",
       "        text-align: right;\n",
       "    }\n",
       "</style>\n",
       "<table border=\"1\" class=\"dataframe\">\n",
       "  <thead>\n",
       "    <tr style=\"text-align: right;\">\n",
       "      <th></th>\n",
       "      <th>test id</th>\n",
       "      <th>price</th>\n",
       "    </tr>\n",
       "  </thead>\n",
       "  <tbody>\n",
       "    <tr>\n",
       "      <th>0</th>\n",
       "      <td>0</td>\n",
       "      <td>10.683246</td>\n",
       "    </tr>\n",
       "    <tr>\n",
       "      <th>1</th>\n",
       "      <td>1</td>\n",
       "      <td>7.307368</td>\n",
       "    </tr>\n",
       "    <tr>\n",
       "      <th>2</th>\n",
       "      <td>2</td>\n",
       "      <td>53.510942</td>\n",
       "    </tr>\n",
       "    <tr>\n",
       "      <th>3</th>\n",
       "      <td>3</td>\n",
       "      <td>14.905657</td>\n",
       "    </tr>\n",
       "    <tr>\n",
       "      <th>4</th>\n",
       "      <td>4</td>\n",
       "      <td>11.652282</td>\n",
       "    </tr>\n",
       "    <tr>\n",
       "      <th>...</th>\n",
       "      <td>...</td>\n",
       "      <td>...</td>\n",
       "    </tr>\n",
       "    <tr>\n",
       "      <th>3460720</th>\n",
       "      <td>3460720</td>\n",
       "      <td>10.969647</td>\n",
       "    </tr>\n",
       "    <tr>\n",
       "      <th>3460721</th>\n",
       "      <td>3460721</td>\n",
       "      <td>18.968253</td>\n",
       "    </tr>\n",
       "    <tr>\n",
       "      <th>3460722</th>\n",
       "      <td>3460722</td>\n",
       "      <td>20.212352</td>\n",
       "    </tr>\n",
       "    <tr>\n",
       "      <th>3460723</th>\n",
       "      <td>3460723</td>\n",
       "      <td>17.258540</td>\n",
       "    </tr>\n",
       "    <tr>\n",
       "      <th>3460724</th>\n",
       "      <td>3460724</td>\n",
       "      <td>18.238903</td>\n",
       "    </tr>\n",
       "  </tbody>\n",
       "</table>\n",
       "<p>3460725 rows × 2 columns</p>\n",
       "</div>"
      ],
      "text/plain": [
       "         test id      price\n",
       "0              0  10.683246\n",
       "1              1   7.307368\n",
       "2              2  53.510942\n",
       "3              3  14.905657\n",
       "4              4  11.652282\n",
       "...          ...        ...\n",
       "3460720  3460720  10.969647\n",
       "3460721  3460721  18.968253\n",
       "3460722  3460722  20.212352\n",
       "3460723  3460723  17.258540\n",
       "3460724  3460724  18.238903\n",
       "\n",
       "[3460725 rows x 2 columns]"
      ]
     },
     "execution_count": 15,
     "metadata": {
      "tags": []
     },
     "output_type": "execute_result"
    }
   ],
   "source": [
    "# TEST PREDICTIONS\n",
    "laso_predict = pd.DataFrame()\n",
    "laso_predict[\"test id\"] = df_test.index\n",
    "laso_predict[\"price\"] = log_to_actual(laso.predict(x_test))\n",
    "laso_predict.to_csv(\"laso_predict.csv\")\n",
    "laso_predict"
   ]
  },
  {
   "cell_type": "markdown",
   "metadata": {},
   "source": [
    "#### Test Score on kaggle"
   ]
  },
  {
   "cell_type": "code",
   "execution_count": 11,
   "metadata": {},
   "outputs": [
    {
     "data": {
      "image/png": "[encoded data removed]",
      "text/plain": [
       "<IPython.core.display.Image object>"
      ]
     },
     "execution_count": 11,
     "metadata": {},
     "output_type": "execute_result"
    }
   ],
   "source": [
    "from IPython.display import Image\n",
    "Image(\"screenshot/laso_w2v.png\") "
   ]
  },
  {
   "cell_type": "markdown",
   "metadata": {
    "id": "9Uu-gL1dkWQ5"
   },
   "source": [
    "## 2. Ridge"
   ]
  },
  {
   "cell_type": "code",
   "execution_count": null,
   "metadata": {
    "id": "Ueo4F9CDkWQ5",
    "outputId": "9a3f6d6f-a96e-45b3-b30a-75fb024301ba"
   },
   "outputs": [
    {
     "name": "stdout",
     "output_type": "stream",
     "text": [
      "Fitting 3 folds for each of 7 candidates, totalling 21 fits\n"
     ]
    },
    {
     "data": {
      "text/plain": [
       "GridSearchCV(cv=3, estimator=Ridge(), n_jobs=-1,\n",
       "             param_grid={'alpha': [1e-05, 0.0001, 0.001, 0.01, 0.1, 1, 10]},\n",
       "             return_train_score=True, scoring='neg_root_mean_squared_error',\n",
       "             verbose=1)"
      ]
     },
     "execution_count": 88,
     "metadata": {
      "tags": []
     },
     "output_type": "execute_result"
    }
   ],
   "source": [
    "ridge = Ridge()\n",
    "param =  {\"alpha\":[10**x for x in range(-5,2)]}\n",
    "reg_l2 = GridSearchCV(ridge,param ,cv=3,verbose=1,return_train_score=True,scoring='neg_root_mean_squared_error',n_jobs=-1)\n",
    "reg_l2.fit(x_train_s,y_train_s)"
   ]
  },
  {
   "cell_type": "code",
   "execution_count": null,
   "metadata": {
    "id": "SEY5vVexkWQ6",
    "outputId": "f6c943c4-6e78-44a5-f944-74dd4e1d8688"
   },
   "outputs": [
    {
     "data": {
      "image/png": "[encoded data removed]",
      "text/plain": [
       "<Figure size 432x288 with 1 Axes>"
      ]
     },
     "metadata": {
      "tags": []
     },
     "output_type": "display_data"
    }
   ],
   "source": [
    "results = pd.DataFrame(reg_l2.cv_results_)\n",
    "results = results.sort_values(['param_alpha'])\n",
    "\n",
    "train_score=results[\"mean_train_score\"] #STORING TRAINING DATASET AUC SCORE\n",
    "cv_score=results[\"mean_test_score\"] #STORING CV DATESET AUC SCORE\n",
    "alpha=results[\"param_alpha\"].apply(lambda x:np.log10(x))\n",
    "\n",
    "sns.set_style(\"whitegrid\")\n",
    "sns.lineplot(x=alpha,y=train_score,label=\"Train\")\n",
    "sns.lineplot(x=alpha,y=cv_score,label=\"CV\")\n",
    "sns.scatterplot(x=alpha,y=train_score)\n",
    "sns.scatterplot(x=alpha,y=cv_score)\n",
    "plt.xlabel(\"log(alpha)\")\n",
    "plt.ylabel(\"-RMSE\")\n",
    "plt.legend()\n",
    "plt.show()"
   ]
  },
  {
   "cell_type": "code",
   "execution_count": null,
   "metadata": {
    "id": "qg9VXQC4kWQ6",
    "outputId": "97dfc7f3-5d0f-49db-d8ab-8bbc471d0e62"
   },
   "outputs": [
    {
     "data": {
      "text/plain": [
       "{'alpha': 10}"
      ]
     },
     "execution_count": 91,
     "metadata": {
      "tags": []
     },
     "output_type": "execute_result"
    }
   ],
   "source": [
    "reg_l2.best_params_"
   ]
  },
  {
   "cell_type": "code",
   "execution_count": null,
   "metadata": {
    "id": "Yus1aMIZkWQ6",
    "outputId": "3d68d742-df0a-4f41-fcb0-3dcab3594745"
   },
   "outputs": [
    {
     "data": {
      "text/plain": [
       "Ridge(alpha=10)"
      ]
     },
     "execution_count": 97,
     "metadata": {
      "tags": []
     },
     "output_type": "execute_result"
    }
   ],
   "source": [
    "ridge_best = Ridge(alpha=10)\n",
    "ridge_best.fit(x_train,y_train)"
   ]
  },
  {
   "cell_type": "code",
   "execution_count": null,
   "metadata": {
    "id": "Ep7vSAlAkWQ7"
   },
   "outputs": [],
   "source": [
    "train_pred_l2 = ridge_best.predict(x_train)\n",
    "val_pred_l2 = ridge_best.predict(x_val)"
   ]
  },
  {
   "cell_type": "markdown",
   "metadata": {
    "id": "F--My-qWkWQ7"
   },
   "source": [
    "### Performance"
   ]
  },
  {
   "cell_type": "code",
   "execution_count": null,
   "metadata": {
    "id": "tlpbKyRVkWQ7",
    "outputId": "4f5d6622-0c9d-4818-e30d-40e052eeae59"
   },
   "outputs": [
    {
     "data": {
      "text/plain": [
       "0.6043814535620716"
      ]
     },
     "execution_count": 99,
     "metadata": {
      "tags": []
     },
     "output_type": "execute_result"
    }
   ],
   "source": [
    "# TRAIN ERROR\n",
    "np.sqrt(mean_squared_error(y_train , train_pred_l2))"
   ]
  },
  {
   "cell_type": "code",
   "execution_count": null,
   "metadata": {
    "id": "mlOJE9tukWQ7",
    "outputId": "67945318-f84f-4283-dea6-3865e9115ec6"
   },
   "outputs": [
    {
     "data": {
      "text/plain": [
       "0.603741819900018"
      ]
     },
     "execution_count": 100,
     "metadata": {
      "tags": []
     },
     "output_type": "execute_result"
    }
   ],
   "source": [
    "#VALIDATION ERROR\n",
    "np.sqrt(mean_squared_error(y_val , val_pred_l2))"
   ]
  },
  {
   "cell_type": "code",
   "execution_count": null,
   "metadata": {
    "colab": {
     "base_uri": "https://localhost:8080/",
     "height": 419
    },
    "executionInfo": {
     "elapsed": 13776,
     "status": "ok",
     "timestamp": 1625811784727,
     "user": {
      "displayName": "PUSHAP GANDHI",
      "photoUrl": "https://lh3.googleusercontent.com/a-/AOh14GhtvSq40Q0iR7PAFnCqNljCvZEL0u3Jwy5L59EZTA=s64",
      "userId": "12599792132870778014"
     },
     "user_tz": -330
    },
    "id": "PszoGLqL6p1C",
    "outputId": "3dc651a9-7f03-42c1-ced2-675697272b0e"
   },
   "outputs": [
    {
     "data": {
      "text/html": [
       "<div>\n",
       "<style scoped>\n",
       "    .dataframe tbody tr th:only-of-type {\n",
       "        vertical-align: middle;\n",
       "    }\n",
       "\n",
       "    .dataframe tbody tr th {\n",
       "        vertical-align: top;\n",
       "    }\n",
       "\n",
       "    .dataframe thead th {\n",
       "        text-align: right;\n",
       "    }\n",
       "</style>\n",
       "<table border=\"1\" class=\"dataframe\">\n",
       "  <thead>\n",
       "    <tr style=\"text-align: right;\">\n",
       "      <th></th>\n",
       "      <th>test id</th>\n",
       "      <th>price</th>\n",
       "    </tr>\n",
       "  </thead>\n",
       "  <tbody>\n",
       "    <tr>\n",
       "      <th>0</th>\n",
       "      <td>0</td>\n",
       "      <td>10.687584</td>\n",
       "    </tr>\n",
       "    <tr>\n",
       "      <th>1</th>\n",
       "      <td>1</td>\n",
       "      <td>7.291336</td>\n",
       "    </tr>\n",
       "    <tr>\n",
       "      <th>2</th>\n",
       "      <td>2</td>\n",
       "      <td>53.487361</td>\n",
       "    </tr>\n",
       "    <tr>\n",
       "      <th>3</th>\n",
       "      <td>3</td>\n",
       "      <td>14.900464</td>\n",
       "    </tr>\n",
       "    <tr>\n",
       "      <th>4</th>\n",
       "      <td>4</td>\n",
       "      <td>11.667400</td>\n",
       "    </tr>\n",
       "    <tr>\n",
       "      <th>...</th>\n",
       "      <td>...</td>\n",
       "      <td>...</td>\n",
       "    </tr>\n",
       "    <tr>\n",
       "      <th>3460720</th>\n",
       "      <td>3460720</td>\n",
       "      <td>10.943761</td>\n",
       "    </tr>\n",
       "    <tr>\n",
       "      <th>3460721</th>\n",
       "      <td>3460721</td>\n",
       "      <td>19.030889</td>\n",
       "    </tr>\n",
       "    <tr>\n",
       "      <th>3460722</th>\n",
       "      <td>3460722</td>\n",
       "      <td>20.221429</td>\n",
       "    </tr>\n",
       "    <tr>\n",
       "      <th>3460723</th>\n",
       "      <td>3460723</td>\n",
       "      <td>17.267750</td>\n",
       "    </tr>\n",
       "    <tr>\n",
       "      <th>3460724</th>\n",
       "      <td>3460724</td>\n",
       "      <td>18.236740</td>\n",
       "    </tr>\n",
       "  </tbody>\n",
       "</table>\n",
       "<p>3460725 rows × 2 columns</p>\n",
       "</div>"
      ],
      "text/plain": [
       "         test id      price\n",
       "0              0  10.687584\n",
       "1              1   7.291336\n",
       "2              2  53.487361\n",
       "3              3  14.900464\n",
       "4              4  11.667400\n",
       "...          ...        ...\n",
       "3460720  3460720  10.943761\n",
       "3460721  3460721  19.030889\n",
       "3460722  3460722  20.221429\n",
       "3460723  3460723  17.267750\n",
       "3460724  3460724  18.236740\n",
       "\n",
       "[3460725 rows x 2 columns]"
      ]
     },
     "execution_count": 17,
     "metadata": {
      "tags": []
     },
     "output_type": "execute_result"
    }
   ],
   "source": [
    "# TEST PREDICTION\n",
    "ridge = pickle.load(open(\"/content/drive/MyDrive/Colab Notebooks/cs1/actual/ridge\",\"rb\"))\n",
    "ridge_predict = pd.DataFrame()\n",
    "ridge_predict[\"test id\"] = df_test.index\n",
    "ridge_predict[\"price\"] = log_to_actual(ridge.predict(x_test))\n",
    "ridge_predict.to_csv(\"ridge_predict.csv\")\n",
    "ridge_predict"
   ]
  },
  {
   "cell_type": "markdown",
   "metadata": {
    "id": "jvGgTrblkWQ8"
   },
   "source": [
    "### Kaggle Score for test_data"
   ]
  },
  {
   "cell_type": "code",
   "execution_count": 5,
   "metadata": {},
   "outputs": [
    {
     "data": {
      "image/png": "[encoded data removed]",
      "text/plain": [
       "<IPython.core.display.Image object>"
      ]
     },
     "execution_count": 5,
     "metadata": {},
     "output_type": "execute_result"
    }
   ],
   "source": [
    "Image(\"screenshot/ridge_w2v.png\")"
   ]
  },
  {
   "cell_type": "markdown",
   "metadata": {
    "id": "k3rwP-xBkWQ8"
   },
   "source": [
    "## 3. DecisionTree"
   ]
  },
  {
   "cell_type": "code",
   "execution_count": null,
   "metadata": {
    "id": "-6PIzn4QkWQ8",
    "outputId": "1ef40f2b-c35c-469f-83bd-f36338521e7b"
   },
   "outputs": [
    {
     "name": "stdout",
     "output_type": "stream",
     "text": [
      "Fitting 3 folds for each of 4 candidates, totalling 12 fits\n"
     ]
    },
    {
     "data": {
      "text/plain": [
       "GridSearchCV(cv=3, estimator=DecisionTreeRegressor(max_features='auto'),\n",
       "             n_jobs=-1, param_grid={'max_depth': [10, 50, 100, 200]},\n",
       "             return_train_score=True, scoring='neg_root_mean_squared_error',\n",
       "             verbose=1)"
      ]
     },
     "execution_count": 54,
     "metadata": {
      "tags": []
     },
     "output_type": "execute_result"
    }
   ],
   "source": [
    "dt = DecisionTreeRegressor(criterion=\"mse\",max_features=\"auto\")\n",
    "param =  {\"max_depth\":[10,50,100,200]}\n",
    "reg_dt = GridSearchCV(dt,param ,cv=3,verbose=1,return_train_score=True,scoring='neg_root_mean_squared_error',n_jobs=-1)\n",
    "reg_dt.fit(x_train_s,y_train_s)"
   ]
  },
  {
   "cell_type": "code",
   "execution_count": null,
   "metadata": {
    "id": "A9VLQXtlkWQ8",
    "outputId": "47699090-3258-43ce-9e4b-5d9cee467664"
   },
   "outputs": [
    {
     "data": {
      "image/png": "[encoded data removed]",
      "text/plain": [
       "<Figure size 432x288 with 1 Axes>"
      ]
     },
     "metadata": {
      "tags": []
     },
     "output_type": "display_data"
    }
   ],
   "source": [
    "results = pd.DataFrame(reg_dt.cv_results_)\n",
    "results = results.sort_values(['param_max_depth'])\n",
    "\n",
    "train_score=results[\"mean_train_score\"] #STORING TRAINING DATASET AUC SCORE\n",
    "cv_score=results[\"mean_test_score\"] #STORING CV DATESET AUC SCORE\n",
    "alpha=results[\"param_max_depth\"]\n",
    "\n",
    "sns.set_style(\"whitegrid\")\n",
    "sns.lineplot(x=alpha,y=train_score,label=\"Train\")\n",
    "sns.lineplot(x=alpha,y=cv_score,label=\"CV\")\n",
    "sns.scatterplot(x=alpha,y=train_score)\n",
    "sns.scatterplot(x=alpha,y=cv_score)\n",
    "plt.xlabel(\"Max Depth\")\n",
    "plt.ylabel(\"-RMSE\")\n",
    "plt.legend()\n",
    "plt.show()"
   ]
  },
  {
   "cell_type": "code",
   "execution_count": null,
   "metadata": {
    "id": "9mWKb2O8kWQ9",
    "outputId": "340ed7fd-0e74-4f1c-9ef2-cb0840069871"
   },
   "outputs": [
    {
     "data": {
      "text/plain": [
       "{'max_depth': 10}"
      ]
     },
     "execution_count": 116,
     "metadata": {
      "tags": []
     },
     "output_type": "execute_result"
    }
   ],
   "source": [
    "reg_dt.best_params_"
   ]
  },
  {
   "cell_type": "code",
   "execution_count": null,
   "metadata": {
    "id": "HzWbW06DkWQ9",
    "outputId": "5261317b-b016-46ae-a61b-f6338b245ac4"
   },
   "outputs": [
    {
     "data": {
      "text/plain": [
       "DecisionTreeRegressor(max_depth=10, max_features='auto')"
      ]
     },
     "execution_count": 63,
     "metadata": {
      "tags": []
     },
     "output_type": "execute_result"
    }
   ],
   "source": [
    "dt_best = DecisionTreeRegressor(criterion=\"mse\",max_depth= 10,max_features=\"auto\")\n",
    "dt_best.fit(x_train,y_train)"
   ]
  },
  {
   "cell_type": "code",
   "execution_count": null,
   "metadata": {
    "id": "9U1T1u0rkWQ9"
   },
   "outputs": [],
   "source": [
    "train_pred_dt = dt_best.predict(x_train)\n",
    "val_pred_dt = dt_best.predict(x_val)"
   ]
  },
  {
   "cell_type": "markdown",
   "metadata": {
    "id": "Jhzl6jtlkWQ-"
   },
   "source": [
    "### Performance"
   ]
  },
  {
   "cell_type": "code",
   "execution_count": null,
   "metadata": {
    "id": "C8oEo2Z1kWQ-",
    "outputId": "ea390bd1-7ae5-414c-8271-1bf711a91ab1"
   },
   "outputs": [
    {
     "data": {
      "text/plain": [
       "0.6272699572247143"
      ]
     },
     "execution_count": 65,
     "metadata": {
      "tags": []
     },
     "output_type": "execute_result"
    }
   ],
   "source": [
    "# TRAIN ERROR\n",
    "np.sqrt(mean_squared_error(y_train , train_pred_dt))"
   ]
  },
  {
   "cell_type": "code",
   "execution_count": null,
   "metadata": {
    "id": "Vzfqf-lfkWQ-",
    "outputId": "eb598859-3029-4e15-a975-9de5d9f86ce8"
   },
   "outputs": [
    {
     "data": {
      "text/plain": [
       "0.6353341034738635"
      ]
     },
     "execution_count": 66,
     "metadata": {
      "tags": []
     },
     "output_type": "execute_result"
    }
   ],
   "source": [
    "# VALIDATION ERROR\n",
    "np.sqrt(mean_squared_error(y_val , val_pred_dt))"
   ]
  },
  {
   "cell_type": "code",
   "execution_count": null,
   "metadata": {
    "colab": {
     "base_uri": "https://localhost:8080/",
     "height": 419
    },
    "executionInfo": {
     "elapsed": 20641,
     "status": "ok",
     "timestamp": 1625811862951,
     "user": {
      "displayName": "PUSHAP GANDHI",
      "photoUrl": "https://lh3.googleusercontent.com/a-/AOh14GhtvSq40Q0iR7PAFnCqNljCvZEL0u3Jwy5L59EZTA=s64",
      "userId": "12599792132870778014"
     },
     "user_tz": -330
    },
    "id": "jmnKbvpB6qjT",
    "outputId": "5394a91e-113b-45a0-dc48-4921ac6968e4"
   },
   "outputs": [
    {
     "data": {
      "text/html": [
       "<div>\n",
       "<style scoped>\n",
       "    .dataframe tbody tr th:only-of-type {\n",
       "        vertical-align: middle;\n",
       "    }\n",
       "\n",
       "    .dataframe tbody tr th {\n",
       "        vertical-align: top;\n",
       "    }\n",
       "\n",
       "    .dataframe thead th {\n",
       "        text-align: right;\n",
       "    }\n",
       "</style>\n",
       "<table border=\"1\" class=\"dataframe\">\n",
       "  <thead>\n",
       "    <tr style=\"text-align: right;\">\n",
       "      <th></th>\n",
       "      <th>test id</th>\n",
       "      <th>price</th>\n",
       "    </tr>\n",
       "  </thead>\n",
       "  <tbody>\n",
       "    <tr>\n",
       "      <th>0</th>\n",
       "      <td>0</td>\n",
       "      <td>12.814753</td>\n",
       "    </tr>\n",
       "    <tr>\n",
       "      <th>1</th>\n",
       "      <td>1</td>\n",
       "      <td>11.000741</td>\n",
       "    </tr>\n",
       "    <tr>\n",
       "      <th>2</th>\n",
       "      <td>2</td>\n",
       "      <td>14.208301</td>\n",
       "    </tr>\n",
       "    <tr>\n",
       "      <th>3</th>\n",
       "      <td>3</td>\n",
       "      <td>15.256859</td>\n",
       "    </tr>\n",
       "    <tr>\n",
       "      <th>4</th>\n",
       "      <td>4</td>\n",
       "      <td>13.108627</td>\n",
       "    </tr>\n",
       "    <tr>\n",
       "      <th>...</th>\n",
       "      <td>...</td>\n",
       "      <td>...</td>\n",
       "    </tr>\n",
       "    <tr>\n",
       "      <th>3460720</th>\n",
       "      <td>3460720</td>\n",
       "      <td>13.769152</td>\n",
       "    </tr>\n",
       "    <tr>\n",
       "      <th>3460721</th>\n",
       "      <td>3460721</td>\n",
       "      <td>20.424365</td>\n",
       "    </tr>\n",
       "    <tr>\n",
       "      <th>3460722</th>\n",
       "      <td>3460722</td>\n",
       "      <td>18.516164</td>\n",
       "    </tr>\n",
       "    <tr>\n",
       "      <th>3460723</th>\n",
       "      <td>3460723</td>\n",
       "      <td>20.875658</td>\n",
       "    </tr>\n",
       "    <tr>\n",
       "      <th>3460724</th>\n",
       "      <td>3460724</td>\n",
       "      <td>21.658140</td>\n",
       "    </tr>\n",
       "  </tbody>\n",
       "</table>\n",
       "<p>3460725 rows × 2 columns</p>\n",
       "</div>"
      ],
      "text/plain": [
       "         test id      price\n",
       "0              0  12.814753\n",
       "1              1  11.000741\n",
       "2              2  14.208301\n",
       "3              3  15.256859\n",
       "4              4  13.108627\n",
       "...          ...        ...\n",
       "3460720  3460720  13.769152\n",
       "3460721  3460721  20.424365\n",
       "3460722  3460722  18.516164\n",
       "3460723  3460723  20.875658\n",
       "3460724  3460724  21.658140\n",
       "\n",
       "[3460725 rows x 2 columns]"
      ]
     },
     "execution_count": 18,
     "metadata": {
      "tags": []
     },
     "output_type": "execute_result"
    }
   ],
   "source": [
    "# TEST PREDICTIONS\n",
    "dt_predict = pd.DataFrame()\n",
    "dt_predict[\"test id\"] = df_test.index\n",
    "dt_predict[\"price\"] = log_to_actual(dt.predict(x_test))\n",
    "dt_predict.to_csv(\"dt_predict.csv\")\n",
    "dt_predict"
   ]
  },
  {
   "cell_type": "markdown",
   "metadata": {},
   "source": [
    "### Kaggle Score For Test_data"
   ]
  },
  {
   "cell_type": "code",
   "execution_count": 7,
   "metadata": {
    "scrolled": true
   },
   "outputs": [
    {
     "data": {
      "image/png": "[encoded data removed]",
      "text/plain": [
       "<IPython.core.display.Image object>"
      ]
     },
     "execution_count": 7,
     "metadata": {},
     "output_type": "execute_result"
    }
   ],
   "source": [
    "Image(\"screenshot/dt_w2v.png\")"
   ]
  },
  {
   "cell_type": "markdown",
   "metadata": {
    "id": "m5gG055ykWQ_"
   },
   "source": [
    "### 4. RandomForest"
   ]
  },
  {
   "cell_type": "code",
   "execution_count": null,
   "metadata": {
    "id": "IhQKA6_2kWQ_",
    "outputId": "4366bb1b-9b32-44df-d14c-cbb91d1da60e"
   },
   "outputs": [
    {
     "name": "stdout",
     "output_type": "stream",
     "text": [
      "validation Loss for parameter 10= 0.6139427751510331\n",
      "validation Loss for parameter 50= 0.5862011431168415\n",
      "validation Loss for parameter 100= 0.5823190013036049\n",
      "validation Loss for parameter 200= 0.5797881843743692\n",
      "validation Loss for parameter 500= 0.5789554399592809\n"
     ]
    },
    {
     "data": {
      "image/png": "[encoded data removed]",
      "text/plain": [
       "<Figure size 432x288 with 1 Axes>"
      ]
     },
     "metadata": {
      "tags": []
     },
     "output_type": "display_data"
    }
   ],
   "source": [
    "param =  [10,50,100,200,500]\n",
    "train_error_list = [] \n",
    "val_error_list = []\n",
    "for i in param:\n",
    "    rf = RandomForestRegressor( criterion='mse', n_estimators = i , n_jobs=-1)\n",
    "    rf.fit(x_train_s,y_train_s)\n",
    "    \n",
    "    train_pred = rf.predict(x_train)\n",
    "    val_pred = rf.predict(x_val)\n",
    "    \n",
    "    train_error = np.sqrt(mean_squared_error(y_train,train_pred))\n",
    "    val_error = np.sqrt(mean_squared_error(y_val,val_pred))\n",
    "    \n",
    "    train_error_list.append(train_error)\n",
    "    val_error_list.append(val_error)\n",
    "    \n",
    "    print(f\"validation Loss for parameter {i}=\",val_error)\n",
    "\n",
    "sns.set_style(\"darkgrid\")\n",
    "sns.lineplot(x=param,y=train_error_list,label=\"Train\")\n",
    "sns.scatterplot(x=param,y=train_error_list)\n",
    "sns.lineplot(x=param,y=val_error_list,label=\"CV\")\n",
    "sns.scatterplot(x=param,y=val_error_list)\n",
    "plt.xlabel(\"Parameter\")\n",
    "plt.ylabel(\"Loss\")\n",
    "plt.legend()\n",
    "plt.show()"
   ]
  },
  {
   "cell_type": "code",
   "execution_count": null,
   "metadata": {
    "id": "IX_x4gkmkWRE"
   },
   "outputs": [],
   "source": [
    "best_param = 500"
   ]
  },
  {
   "cell_type": "code",
   "execution_count": null,
   "metadata": {
    "collapsed": true,
    "id": "aw3-q_KnkWRE",
    "outputId": "078c7b13-7a68-42b7-8fde-64e7a92f145c"
   },
   "outputs": [
    {
     "ename": "KeyboardInterrupt",
     "evalue": "",
     "output_type": "error",
     "traceback": [
      "\u001b[0;31m---------------------------------------------------------------------------\u001b[0m",
      "\u001b[0;31mKeyboardInterrupt\u001b[0m                         Traceback (most recent call last)",
      "\u001b[0;32m<ipython-input-139-faa70fb5c385>\u001b[0m in \u001b[0;36m<module>\u001b[0;34m\u001b[0m\n\u001b[1;32m      1\u001b[0m \u001b[0mstart_time\u001b[0m \u001b[0;34m=\u001b[0m \u001b[0mtime\u001b[0m\u001b[0;34m.\u001b[0m\u001b[0mtime\u001b[0m\u001b[0;34m(\u001b[0m\u001b[0;34m)\u001b[0m\u001b[0;34m\u001b[0m\u001b[0;34m\u001b[0m\u001b[0m\n\u001b[1;32m      2\u001b[0m \u001b[0mrf\u001b[0m \u001b[0;34m=\u001b[0m \u001b[0mRandomForestRegressor\u001b[0m\u001b[0;34m(\u001b[0m \u001b[0mcriterion\u001b[0m\u001b[0;34m=\u001b[0m\u001b[0;34m'mse'\u001b[0m\u001b[0;34m,\u001b[0m \u001b[0mn_estimators\u001b[0m \u001b[0;34m=\u001b[0m \u001b[0;36m200\u001b[0m \u001b[0;34m,\u001b[0m \u001b[0mn_jobs\u001b[0m\u001b[0;34m=\u001b[0m\u001b[0;34m-\u001b[0m\u001b[0;36m1\u001b[0m\u001b[0;34m)\u001b[0m\u001b[0;34m\u001b[0m\u001b[0;34m\u001b[0m\u001b[0m\n\u001b[0;32m----> 3\u001b[0;31m \u001b[0mrf\u001b[0m\u001b[0;34m.\u001b[0m\u001b[0mfit\u001b[0m\u001b[0;34m(\u001b[0m\u001b[0mx_train\u001b[0m\u001b[0;34m,\u001b[0m\u001b[0my_train\u001b[0m\u001b[0;34m)\u001b[0m\u001b[0;34m\u001b[0m\u001b[0;34m\u001b[0m\u001b[0m\n\u001b[0m\u001b[1;32m      4\u001b[0m \u001b[0mprint\u001b[0m\u001b[0;34m(\u001b[0m\u001b[0;34m\"Time Taken= \"\u001b[0m\u001b[0;34m,\u001b[0m\u001b[0mround\u001b[0m\u001b[0;34m(\u001b[0m\u001b[0mtime\u001b[0m\u001b[0;34m.\u001b[0m\u001b[0mtime\u001b[0m\u001b[0;34m(\u001b[0m\u001b[0;34m)\u001b[0m\u001b[0;34m-\u001b[0m\u001b[0mstart_time\u001b[0m\u001b[0;34m,\u001b[0m\u001b[0;36m2\u001b[0m\u001b[0;34m)\u001b[0m\u001b[0;34m)\u001b[0m\u001b[0;34m\u001b[0m\u001b[0;34m\u001b[0m\u001b[0m\n",
      "\u001b[0;32m/opt/conda/lib/python3.7/site-packages/sklearn/ensemble/_forest.py\u001b[0m in \u001b[0;36mfit\u001b[0;34m(self, X, y, sample_weight)\u001b[0m\n\u001b[1;32m    391\u001b[0m                     \u001b[0mverbose\u001b[0m\u001b[0;34m=\u001b[0m\u001b[0mself\u001b[0m\u001b[0;34m.\u001b[0m\u001b[0mverbose\u001b[0m\u001b[0;34m,\u001b[0m \u001b[0mclass_weight\u001b[0m\u001b[0;34m=\u001b[0m\u001b[0mself\u001b[0m\u001b[0;34m.\u001b[0m\u001b[0mclass_weight\u001b[0m\u001b[0;34m,\u001b[0m\u001b[0;34m\u001b[0m\u001b[0;34m\u001b[0m\u001b[0m\n\u001b[1;32m    392\u001b[0m                     n_samples_bootstrap=n_samples_bootstrap)\n\u001b[0;32m--> 393\u001b[0;31m                 for i, t in enumerate(trees))\n\u001b[0m\u001b[1;32m    394\u001b[0m \u001b[0;34m\u001b[0m\u001b[0m\n\u001b[1;32m    395\u001b[0m             \u001b[0;31m# Collect newly grown trees\u001b[0m\u001b[0;34m\u001b[0m\u001b[0;34m\u001b[0m\u001b[0;34m\u001b[0m\u001b[0m\n",
      "\u001b[0;32m/opt/conda/lib/python3.7/site-packages/joblib/parallel.py\u001b[0m in \u001b[0;36m__call__\u001b[0;34m(self, iterable)\u001b[0m\n\u001b[1;32m   1052\u001b[0m \u001b[0;34m\u001b[0m\u001b[0m\n\u001b[1;32m   1053\u001b[0m             \u001b[0;32mwith\u001b[0m \u001b[0mself\u001b[0m\u001b[0;34m.\u001b[0m\u001b[0m_backend\u001b[0m\u001b[0;34m.\u001b[0m\u001b[0mretrieval_context\u001b[0m\u001b[0;34m(\u001b[0m\u001b[0;34m)\u001b[0m\u001b[0;34m:\u001b[0m\u001b[0;34m\u001b[0m\u001b[0;34m\u001b[0m\u001b[0m\n\u001b[0;32m-> 1054\u001b[0;31m                 \u001b[0mself\u001b[0m\u001b[0;34m.\u001b[0m\u001b[0mretrieve\u001b[0m\u001b[0;34m(\u001b[0m\u001b[0;34m)\u001b[0m\u001b[0;34m\u001b[0m\u001b[0;34m\u001b[0m\u001b[0m\n\u001b[0m\u001b[1;32m   1055\u001b[0m             \u001b[0;31m# Make sure that we get a last message telling us we are done\u001b[0m\u001b[0;34m\u001b[0m\u001b[0;34m\u001b[0m\u001b[0;34m\u001b[0m\u001b[0m\n\u001b[1;32m   1056\u001b[0m             \u001b[0melapsed_time\u001b[0m \u001b[0;34m=\u001b[0m \u001b[0mtime\u001b[0m\u001b[0;34m.\u001b[0m\u001b[0mtime\u001b[0m\u001b[0;34m(\u001b[0m\u001b[0;34m)\u001b[0m \u001b[0;34m-\u001b[0m \u001b[0mself\u001b[0m\u001b[0;34m.\u001b[0m\u001b[0m_start_time\u001b[0m\u001b[0;34m\u001b[0m\u001b[0;34m\u001b[0m\u001b[0m\n",
      "\u001b[0;32m/opt/conda/lib/python3.7/site-packages/joblib/parallel.py\u001b[0m in \u001b[0;36mretrieve\u001b[0;34m(self)\u001b[0m\n\u001b[1;32m    931\u001b[0m             \u001b[0;32mtry\u001b[0m\u001b[0;34m:\u001b[0m\u001b[0;34m\u001b[0m\u001b[0;34m\u001b[0m\u001b[0m\n\u001b[1;32m    932\u001b[0m                 \u001b[0;32mif\u001b[0m \u001b[0mgetattr\u001b[0m\u001b[0;34m(\u001b[0m\u001b[0mself\u001b[0m\u001b[0;34m.\u001b[0m\u001b[0m_backend\u001b[0m\u001b[0;34m,\u001b[0m \u001b[0;34m'supports_timeout'\u001b[0m\u001b[0;34m,\u001b[0m \u001b[0;32mFalse\u001b[0m\u001b[0;34m)\u001b[0m\u001b[0;34m:\u001b[0m\u001b[0;34m\u001b[0m\u001b[0;34m\u001b[0m\u001b[0m\n\u001b[0;32m--> 933\u001b[0;31m                     \u001b[0mself\u001b[0m\u001b[0;34m.\u001b[0m\u001b[0m_output\u001b[0m\u001b[0;34m.\u001b[0m\u001b[0mextend\u001b[0m\u001b[0;34m(\u001b[0m\u001b[0mjob\u001b[0m\u001b[0;34m.\u001b[0m\u001b[0mget\u001b[0m\u001b[0;34m(\u001b[0m\u001b[0mtimeout\u001b[0m\u001b[0;34m=\u001b[0m\u001b[0mself\u001b[0m\u001b[0;34m.\u001b[0m\u001b[0mtimeout\u001b[0m\u001b[0;34m)\u001b[0m\u001b[0;34m)\u001b[0m\u001b[0;34m\u001b[0m\u001b[0;34m\u001b[0m\u001b[0m\n\u001b[0m\u001b[1;32m    934\u001b[0m                 \u001b[0;32melse\u001b[0m\u001b[0;34m:\u001b[0m\u001b[0;34m\u001b[0m\u001b[0;34m\u001b[0m\u001b[0m\n\u001b[1;32m    935\u001b[0m                     \u001b[0mself\u001b[0m\u001b[0;34m.\u001b[0m\u001b[0m_output\u001b[0m\u001b[0;34m.\u001b[0m\u001b[0mextend\u001b[0m\u001b[0;34m(\u001b[0m\u001b[0mjob\u001b[0m\u001b[0;34m.\u001b[0m\u001b[0mget\u001b[0m\u001b[0;34m(\u001b[0m\u001b[0;34m)\u001b[0m\u001b[0;34m)\u001b[0m\u001b[0;34m\u001b[0m\u001b[0;34m\u001b[0m\u001b[0m\n",
      "\u001b[0;32m/opt/conda/lib/python3.7/multiprocessing/pool.py\u001b[0m in \u001b[0;36mget\u001b[0;34m(self, timeout)\u001b[0m\n\u001b[1;32m    649\u001b[0m \u001b[0;34m\u001b[0m\u001b[0m\n\u001b[1;32m    650\u001b[0m     \u001b[0;32mdef\u001b[0m \u001b[0mget\u001b[0m\u001b[0;34m(\u001b[0m\u001b[0mself\u001b[0m\u001b[0;34m,\u001b[0m \u001b[0mtimeout\u001b[0m\u001b[0;34m=\u001b[0m\u001b[0;32mNone\u001b[0m\u001b[0;34m)\u001b[0m\u001b[0;34m:\u001b[0m\u001b[0;34m\u001b[0m\u001b[0;34m\u001b[0m\u001b[0m\n\u001b[0;32m--> 651\u001b[0;31m         \u001b[0mself\u001b[0m\u001b[0;34m.\u001b[0m\u001b[0mwait\u001b[0m\u001b[0;34m(\u001b[0m\u001b[0mtimeout\u001b[0m\u001b[0;34m)\u001b[0m\u001b[0;34m\u001b[0m\u001b[0;34m\u001b[0m\u001b[0m\n\u001b[0m\u001b[1;32m    652\u001b[0m         \u001b[0;32mif\u001b[0m \u001b[0;32mnot\u001b[0m \u001b[0mself\u001b[0m\u001b[0;34m.\u001b[0m\u001b[0mready\u001b[0m\u001b[0;34m(\u001b[0m\u001b[0;34m)\u001b[0m\u001b[0;34m:\u001b[0m\u001b[0;34m\u001b[0m\u001b[0;34m\u001b[0m\u001b[0m\n\u001b[1;32m    653\u001b[0m             \u001b[0;32mraise\u001b[0m \u001b[0mTimeoutError\u001b[0m\u001b[0;34m\u001b[0m\u001b[0;34m\u001b[0m\u001b[0m\n",
      "\u001b[0;32m/opt/conda/lib/python3.7/multiprocessing/pool.py\u001b[0m in \u001b[0;36mwait\u001b[0;34m(self, timeout)\u001b[0m\n\u001b[1;32m    646\u001b[0m \u001b[0;34m\u001b[0m\u001b[0m\n\u001b[1;32m    647\u001b[0m     \u001b[0;32mdef\u001b[0m \u001b[0mwait\u001b[0m\u001b[0;34m(\u001b[0m\u001b[0mself\u001b[0m\u001b[0;34m,\u001b[0m \u001b[0mtimeout\u001b[0m\u001b[0;34m=\u001b[0m\u001b[0;32mNone\u001b[0m\u001b[0;34m)\u001b[0m\u001b[0;34m:\u001b[0m\u001b[0;34m\u001b[0m\u001b[0;34m\u001b[0m\u001b[0m\n\u001b[0;32m--> 648\u001b[0;31m         \u001b[0mself\u001b[0m\u001b[0;34m.\u001b[0m\u001b[0m_event\u001b[0m\u001b[0;34m.\u001b[0m\u001b[0mwait\u001b[0m\u001b[0;34m(\u001b[0m\u001b[0mtimeout\u001b[0m\u001b[0;34m)\u001b[0m\u001b[0;34m\u001b[0m\u001b[0;34m\u001b[0m\u001b[0m\n\u001b[0m\u001b[1;32m    649\u001b[0m \u001b[0;34m\u001b[0m\u001b[0m\n\u001b[1;32m    650\u001b[0m     \u001b[0;32mdef\u001b[0m \u001b[0mget\u001b[0m\u001b[0;34m(\u001b[0m\u001b[0mself\u001b[0m\u001b[0;34m,\u001b[0m \u001b[0mtimeout\u001b[0m\u001b[0;34m=\u001b[0m\u001b[0;32mNone\u001b[0m\u001b[0;34m)\u001b[0m\u001b[0;34m:\u001b[0m\u001b[0;34m\u001b[0m\u001b[0;34m\u001b[0m\u001b[0m\n",
      "\u001b[0;32m/opt/conda/lib/python3.7/threading.py\u001b[0m in \u001b[0;36mwait\u001b[0;34m(self, timeout)\u001b[0m\n\u001b[1;32m    550\u001b[0m             \u001b[0msignaled\u001b[0m \u001b[0;34m=\u001b[0m \u001b[0mself\u001b[0m\u001b[0;34m.\u001b[0m\u001b[0m_flag\u001b[0m\u001b[0;34m\u001b[0m\u001b[0;34m\u001b[0m\u001b[0m\n\u001b[1;32m    551\u001b[0m             \u001b[0;32mif\u001b[0m \u001b[0;32mnot\u001b[0m \u001b[0msignaled\u001b[0m\u001b[0;34m:\u001b[0m\u001b[0;34m\u001b[0m\u001b[0;34m\u001b[0m\u001b[0m\n\u001b[0;32m--> 552\u001b[0;31m                 \u001b[0msignaled\u001b[0m \u001b[0;34m=\u001b[0m \u001b[0mself\u001b[0m\u001b[0;34m.\u001b[0m\u001b[0m_cond\u001b[0m\u001b[0;34m.\u001b[0m\u001b[0mwait\u001b[0m\u001b[0;34m(\u001b[0m\u001b[0mtimeout\u001b[0m\u001b[0;34m)\u001b[0m\u001b[0;34m\u001b[0m\u001b[0;34m\u001b[0m\u001b[0m\n\u001b[0m\u001b[1;32m    553\u001b[0m             \u001b[0;32mreturn\u001b[0m \u001b[0msignaled\u001b[0m\u001b[0;34m\u001b[0m\u001b[0;34m\u001b[0m\u001b[0m\n\u001b[1;32m    554\u001b[0m \u001b[0;34m\u001b[0m\u001b[0m\n",
      "\u001b[0;32m/opt/conda/lib/python3.7/threading.py\u001b[0m in \u001b[0;36mwait\u001b[0;34m(self, timeout)\u001b[0m\n\u001b[1;32m    294\u001b[0m         \u001b[0;32mtry\u001b[0m\u001b[0;34m:\u001b[0m    \u001b[0;31m# restore state no matter what (e.g., KeyboardInterrupt)\u001b[0m\u001b[0;34m\u001b[0m\u001b[0;34m\u001b[0m\u001b[0m\n\u001b[1;32m    295\u001b[0m             \u001b[0;32mif\u001b[0m \u001b[0mtimeout\u001b[0m \u001b[0;32mis\u001b[0m \u001b[0;32mNone\u001b[0m\u001b[0;34m:\u001b[0m\u001b[0;34m\u001b[0m\u001b[0;34m\u001b[0m\u001b[0m\n\u001b[0;32m--> 296\u001b[0;31m                 \u001b[0mwaiter\u001b[0m\u001b[0;34m.\u001b[0m\u001b[0macquire\u001b[0m\u001b[0;34m(\u001b[0m\u001b[0;34m)\u001b[0m\u001b[0;34m\u001b[0m\u001b[0;34m\u001b[0m\u001b[0m\n\u001b[0m\u001b[1;32m    297\u001b[0m                 \u001b[0mgotit\u001b[0m \u001b[0;34m=\u001b[0m \u001b[0;32mTrue\u001b[0m\u001b[0;34m\u001b[0m\u001b[0;34m\u001b[0m\u001b[0m\n\u001b[1;32m    298\u001b[0m             \u001b[0;32melse\u001b[0m\u001b[0;34m:\u001b[0m\u001b[0;34m\u001b[0m\u001b[0;34m\u001b[0m\u001b[0m\n",
      "\u001b[0;31mKeyboardInterrupt\u001b[0m: "
     ]
    }
   ],
   "source": [
    "start_time = time.time()\n",
    "rf = RandomForestRegressor( criterion='mse', n_estimators = 500 , n_jobs=-1)\n",
    "rf.fit(x_train,y_train)\n",
    "print(\"Time Taken= \",round(time.time()-start_time,2))"
   ]
  },
  {
   "cell_type": "markdown",
   "metadata": {
    "id": "UDmaMCNBkWRE"
   },
   "source": [
    "## Note for RF: The time taken for the model was very high so had to stop in between. "
   ]
  },
  {
   "cell_type": "code",
   "execution_count": null,
   "metadata": {
    "id": "sScj84FhkWRE"
   },
   "outputs": [],
   "source": []
  },
  {
   "cell_type": "markdown",
   "metadata": {
    "id": "FRS7B85QkWRE"
   },
   "source": [
    "## 5. Light GBM"
   ]
  },
  {
   "cell_type": "code",
   "execution_count": null,
   "metadata": {
    "id": "R8idpx4NkWRE",
    "outputId": "bc4845d8-5d85-4930-c32e-4ca854ed8ea5"
   },
   "outputs": [
    {
     "name": "stdout",
     "output_type": "stream",
     "text": [
      "validation Loss for parameter 10= 0.6658452542455181\n",
      "validation Loss for parameter 50= 0.5861741358289146\n",
      "validation Loss for parameter 100= 0.5605233488253283\n",
      "validation Loss for parameter 200= 0.5440589165777023\n",
      "validation Loss for parameter 500= 0.5339961644828695\n",
      "validation Loss for parameter 1000= 0.5278025412204408\n",
      "validation Loss for parameter 1200= 0.5266288307817656\n"
     ]
    },
    {
     "data": {
      "image/png": "[encoded data removed]",
      "text/plain": [
       "<Figure size 432x288 with 1 Axes>"
      ]
     },
     "metadata": {
      "tags": []
     },
     "output_type": "display_data"
    }
   ],
   "source": [
    "param =  [10,50,100,200,500,1000,1200]\n",
    "train_error_list = [] \n",
    "val_error_list = []\n",
    "\n",
    "for i in param:\n",
    "    lgb = LGBMRegressor(  n_estimators = i , n_jobs=-1 )\n",
    "    lgb.fit(x_train_s,y_train_s)\n",
    "    \n",
    "    train_pred = lgb.predict(x_train)\n",
    "    val_pred = lgb.predict(x_val)\n",
    "    \n",
    "    train_error = np.sqrt(mean_squared_error(y_train,train_pred))\n",
    "    val_error = np.sqrt(mean_squared_error(y_val,val_pred))\n",
    "    \n",
    "    train_error_list.append(train_error)\n",
    "    val_error_list.append(val_error)\n",
    "    \n",
    "    print(f\"validation Loss for parameter {i}=\",val_error)\n",
    "\n",
    "sns.set_style(\"darkgrid\")\n",
    "sns.lineplot(x=param,y=train_error_list,label=\"Train\")\n",
    "sns.scatterplot(x=param,y=train_error_list)\n",
    "sns.lineplot(x=param,y=val_error_list,label=\"CV\")\n",
    "sns.scatterplot(x=param,y=val_error_list)\n",
    "plt.xlabel(\"Parameter\")\n",
    "plt.ylabel(\"Loss\")\n",
    "plt.legend()\n",
    "plt.show()"
   ]
  },
  {
   "cell_type": "code",
   "execution_count": null,
   "metadata": {
    "id": "rYZ9cjRxkWRF",
    "outputId": "4691fb04-4015-4378-dc1d-92aee2146d30"
   },
   "outputs": [
    {
     "name": "stdout",
     "output_type": "stream",
     "text": [
      "Time Taken=  447.32\n"
     ]
    }
   ],
   "source": [
    "start_time = time.time()\n",
    "lgb = LGBMRegressor(  n_estimators = 1200 , n_jobs=-1 )\n",
    "lgb.fit(x_train,y_train)\n",
    "print(\"Time Taken= \",round(time.time()-start_time,2),\"s\")"
   ]
  },
  {
   "cell_type": "code",
   "execution_count": null,
   "metadata": {
    "id": "k-FB_SRpkWRF"
   },
   "outputs": [],
   "source": [
    "train_pred_lgb = lgb.predict(x_train)\n",
    "val_pred_lgb = lgb.predict(x_val)"
   ]
  },
  {
   "cell_type": "markdown",
   "metadata": {
    "id": "NayKyz-skWRF"
   },
   "source": [
    "### Performace"
   ]
  },
  {
   "cell_type": "code",
   "execution_count": null,
   "metadata": {
    "id": "4GQcPpX2kWRF",
    "outputId": "23c4dd0e-5621-4396-a440-bf6d501eb7b7"
   },
   "outputs": [
    {
     "data": {
      "text/plain": [
       "0.47835884435349885"
      ]
     },
     "execution_count": 52,
     "metadata": {
      "tags": []
     },
     "output_type": "execute_result"
    }
   ],
   "source": [
    "# TRAIN ERROR\n",
    "np.sqrt(mean_squared_error(y_train ,train_pred_lgb))"
   ]
  },
  {
   "cell_type": "code",
   "execution_count": null,
   "metadata": {
    "id": "bpwiMFDZkWRF",
    "outputId": "2319311e-57ee-47a4-eadc-997d717d61a4"
   },
   "outputs": [
    {
     "data": {
      "text/plain": [
       "0.5007886241480397"
      ]
     },
     "execution_count": 53,
     "metadata": {
      "tags": []
     },
     "output_type": "execute_result"
    }
   ],
   "source": [
    "# VALIDATION ERROR\n",
    "np.sqrt(mean_squared_error(y_val , val_pred_lgb))"
   ]
  },
  {
   "cell_type": "code",
   "execution_count": null,
   "metadata": {
    "colab": {
     "base_uri": "https://localhost:8080/",
     "height": 419
    },
    "executionInfo": {
     "elapsed": 118647,
     "status": "ok",
     "timestamp": 1625812096429,
     "user": {
      "displayName": "PUSHAP GANDHI",
      "photoUrl": "https://lh3.googleusercontent.com/a-/AOh14GhtvSq40Q0iR7PAFnCqNljCvZEL0u3Jwy5L59EZTA=s64",
      "userId": "12599792132870778014"
     },
     "user_tz": -330
    },
    "id": "soeS_ua16qpC",
    "outputId": "90f4dd69-e7ab-40b8-99b2-a9c1a3f69b98"
   },
   "outputs": [
    {
     "data": {
      "text/html": [
       "<div>\n",
       "<style scoped>\n",
       "    .dataframe tbody tr th:only-of-type {\n",
       "        vertical-align: middle;\n",
       "    }\n",
       "\n",
       "    .dataframe tbody tr th {\n",
       "        vertical-align: top;\n",
       "    }\n",
       "\n",
       "    .dataframe thead th {\n",
       "        text-align: right;\n",
       "    }\n",
       "</style>\n",
       "<table border=\"1\" class=\"dataframe\">\n",
       "  <thead>\n",
       "    <tr style=\"text-align: right;\">\n",
       "      <th></th>\n",
       "      <th>test id</th>\n",
       "      <th>price</th>\n",
       "    </tr>\n",
       "  </thead>\n",
       "  <tbody>\n",
       "    <tr>\n",
       "      <th>0</th>\n",
       "      <td>0</td>\n",
       "      <td>10.083432</td>\n",
       "    </tr>\n",
       "    <tr>\n",
       "      <th>1</th>\n",
       "      <td>1</td>\n",
       "      <td>9.014563</td>\n",
       "    </tr>\n",
       "    <tr>\n",
       "      <th>2</th>\n",
       "      <td>2</td>\n",
       "      <td>43.318544</td>\n",
       "    </tr>\n",
       "    <tr>\n",
       "      <th>3</th>\n",
       "      <td>3</td>\n",
       "      <td>13.697506</td>\n",
       "    </tr>\n",
       "    <tr>\n",
       "      <th>4</th>\n",
       "      <td>4</td>\n",
       "      <td>7.493793</td>\n",
       "    </tr>\n",
       "    <tr>\n",
       "      <th>...</th>\n",
       "      <td>...</td>\n",
       "      <td>...</td>\n",
       "    </tr>\n",
       "    <tr>\n",
       "      <th>3460720</th>\n",
       "      <td>3460720</td>\n",
       "      <td>14.420654</td>\n",
       "    </tr>\n",
       "    <tr>\n",
       "      <th>3460721</th>\n",
       "      <td>3460721</td>\n",
       "      <td>22.724261</td>\n",
       "    </tr>\n",
       "    <tr>\n",
       "      <th>3460722</th>\n",
       "      <td>3460722</td>\n",
       "      <td>15.555303</td>\n",
       "    </tr>\n",
       "    <tr>\n",
       "      <th>3460723</th>\n",
       "      <td>3460723</td>\n",
       "      <td>20.546963</td>\n",
       "    </tr>\n",
       "    <tr>\n",
       "      <th>3460724</th>\n",
       "      <td>3460724</td>\n",
       "      <td>22.904091</td>\n",
       "    </tr>\n",
       "  </tbody>\n",
       "</table>\n",
       "<p>3460725 rows × 2 columns</p>\n",
       "</div>"
      ],
      "text/plain": [
       "         test id      price\n",
       "0              0  10.083432\n",
       "1              1   9.014563\n",
       "2              2  43.318544\n",
       "3              3  13.697506\n",
       "4              4   7.493793\n",
       "...          ...        ...\n",
       "3460720  3460720  14.420654\n",
       "3460721  3460721  22.724261\n",
       "3460722  3460722  15.555303\n",
       "3460723  3460723  20.546963\n",
       "3460724  3460724  22.904091\n",
       "\n",
       "[3460725 rows x 2 columns]"
      ]
     },
     "execution_count": 19,
     "metadata": {
      "tags": []
     },
     "output_type": "execute_result"
    }
   ],
   "source": [
    "# TEST PREDICTIONS\n",
    "lgb_predict = pd.DataFrame()\n",
    "lgb_predict[\"test id\"] = df_test.index\n",
    "lgb_predict[\"price\"] = log_to_actual(lgb.predict(x_test))\n",
    "lgb_predict.to_csv(\"lgb_predict.csv\")\n",
    "lgb_predict"
   ]
  },
  {
   "cell_type": "markdown",
   "metadata": {},
   "source": [
    "### Kaggle Score  for Test_data"
   ]
  },
  {
   "cell_type": "code",
   "execution_count": 8,
   "metadata": {},
   "outputs": [
    {
     "data": {
      "image/png": "[encoded data removed]",
      "text/plain": [
       "<IPython.core.display.Image object>"
      ]
     },
     "execution_count": 8,
     "metadata": {},
     "output_type": "execute_result"
    }
   ],
   "source": [
    "Image(\"screenshot/lgb_w2v.png\")"
   ]
  },
  {
   "cell_type": "markdown",
   "metadata": {
    "id": "ed0MpdM4kWRG"
   },
   "source": [
    "# 2. Feature Engineering \n",
    "---------------------------------\n",
    "##    <font color='blue'> **Categorical Data : One Hot Encoding** </font> \n",
    "##   <font color='blue'>**Text Data : Tfidf** </font>"
   ]
  },
  {
   "cell_type": "markdown",
   "metadata": {},
   "source": [
    "##  <font color='green'> Categorical Data  </font>"
   ]
  },
  {
   "cell_type": "markdown",
   "metadata": {},
   "source": [
    "### 1.  item_condition_id"
   ]
  },
  {
   "cell_type": "code",
   "execution_count": 11,
   "metadata": {
    "execution": {
     "iopub.execute_input": "2021-07-06T05:01:22.637385Z",
     "iopub.status.busy": "2021-07-06T05:01:22.637072Z",
     "iopub.status.idle": "2021-07-06T05:01:22.692124Z",
     "shell.execute_reply": "2021-07-06T05:01:22.691047Z",
     "shell.execute_reply.started": "2021-07-06T05:01:22.637355Z"
    },
    "executionInfo": {
     "elapsed": 33,
     "status": "ok",
     "timestamp": 1625815769104,
     "user": {
      "displayName": "PUSHAP GANDHI",
      "photoUrl": "https://lh3.googleusercontent.com/a-/AOh14GhtvSq40Q0iR7PAFnCqNljCvZEL0u3Jwy5L59EZTA=s64",
      "userId": "12599792132870778014"
     },
     "user_tz": -330
    },
    "id": "J6eeKv6SId97"
   },
   "outputs": [],
   "source": [
    "train_vec_item_con = pd.get_dummies(df_train.item_condition_id).values\n",
    "val_vec_item_con = pd.get_dummies(df_val.item_condition_id).values"
   ]
  },
  {
   "cell_type": "code",
   "execution_count": 12,
   "metadata": {
    "colab": {
     "base_uri": "https://localhost:8080/"
    },
    "execution": {
     "iopub.execute_input": "2021-07-06T05:01:22.695345Z",
     "iopub.status.busy": "2021-07-06T05:01:22.694722Z",
     "iopub.status.idle": "2021-07-06T05:01:22.701089Z",
     "shell.execute_reply": "2021-07-06T05:01:22.699896Z",
     "shell.execute_reply.started": "2021-07-06T05:01:22.695304Z"
    },
    "executionInfo": {
     "elapsed": 31,
     "status": "ok",
     "timestamp": 1625815769105,
     "user": {
      "displayName": "PUSHAP GANDHI",
      "photoUrl": "https://lh3.googleusercontent.com/a-/AOh14GhtvSq40Q0iR7PAFnCqNljCvZEL0u3Jwy5L59EZTA=s64",
      "userId": "12599792132870778014"
     },
     "user_tz": -330
    },
    "id": "46FdPECQId98",
    "outputId": "4d59e4b2-ab85-48f5-be7c-5e7e80d889ec"
   },
   "outputs": [
    {
     "name": "stdout",
     "output_type": "stream",
     "text": [
      "(1334281, 5)\n",
      "(148254, 5)\n"
     ]
    }
   ],
   "source": [
    "print(train_vec_item_con.shape)\n",
    "print(val_vec_item_con.shape)"
   ]
  },
  {
   "cell_type": "code",
   "execution_count": 31,
   "metadata": {
    "colab": {
     "base_uri": "https://localhost:8080/"
    },
    "executionInfo": {
     "elapsed": 487,
     "status": "ok",
     "timestamp": 1625816883983,
     "user": {
      "displayName": "PUSHAP GANDHI",
      "photoUrl": "https://lh3.googleusercontent.com/a-/AOh14GhtvSq40Q0iR7PAFnCqNljCvZEL0u3Jwy5L59EZTA=s64",
      "userId": "12599792132870778014"
     },
     "user_tz": -330
    },
    "id": "l2mmLP1BPEkA",
    "outputId": "402ed351-3a3a-4237-a71f-402989959b47"
   },
   "outputs": [
    {
     "name": "stdout",
     "output_type": "stream",
     "text": [
      "(3460725, 5)\n"
     ]
    }
   ],
   "source": [
    "test_vec_item_con = pd.get_dummies(df_test.item_condition_id).values\n",
    "print(test_vec_item_con.shape)"
   ]
  },
  {
   "cell_type": "markdown",
   "metadata": {},
   "source": [
    "### 2.  shipping"
   ]
  },
  {
   "cell_type": "code",
   "execution_count": 13,
   "metadata": {
    "execution": {
     "iopub.execute_input": "2021-07-06T05:01:22.703709Z",
     "iopub.status.busy": "2021-07-06T05:01:22.703305Z",
     "iopub.status.idle": "2021-07-06T05:01:22.756798Z",
     "shell.execute_reply": "2021-07-06T05:01:22.755434Z",
     "shell.execute_reply.started": "2021-07-06T05:01:22.703674Z"
    },
    "executionInfo": {
     "elapsed": 640,
     "status": "ok",
     "timestamp": 1625815769723,
     "user": {
      "displayName": "PUSHAP GANDHI",
      "photoUrl": "https://lh3.googleusercontent.com/a-/AOh14GhtvSq40Q0iR7PAFnCqNljCvZEL0u3Jwy5L59EZTA=s64",
      "userId": "12599792132870778014"
     },
     "user_tz": -330
    },
    "id": "Mb6us_AlId99"
   },
   "outputs": [],
   "source": [
    "train_vec_shipping = pd.get_dummies(df_train.shipping).values\n",
    "val_vec_shipping = pd.get_dummies(df_val.shipping).values"
   ]
  },
  {
   "cell_type": "code",
   "execution_count": 14,
   "metadata": {
    "colab": {
     "base_uri": "https://localhost:8080/"
    },
    "execution": {
     "iopub.execute_input": "2021-07-06T05:01:22.759370Z",
     "iopub.status.busy": "2021-07-06T05:01:22.758915Z",
     "iopub.status.idle": "2021-07-06T05:01:22.765612Z",
     "shell.execute_reply": "2021-07-06T05:01:22.764602Z",
     "shell.execute_reply.started": "2021-07-06T05:01:22.759321Z"
    },
    "executionInfo": {
     "elapsed": 20,
     "status": "ok",
     "timestamp": 1625815769726,
     "user": {
      "displayName": "PUSHAP GANDHI",
      "photoUrl": "https://lh3.googleusercontent.com/a-/AOh14GhtvSq40Q0iR7PAFnCqNljCvZEL0u3Jwy5L59EZTA=s64",
      "userId": "12599792132870778014"
     },
     "user_tz": -330
    },
    "id": "F9g4ZUMsId99",
    "outputId": "e93252e7-29a9-4f0e-a1f7-f362b670170a"
   },
   "outputs": [
    {
     "name": "stdout",
     "output_type": "stream",
     "text": [
      "(1334281, 2)\n",
      "(148254, 2)\n"
     ]
    }
   ],
   "source": [
    "print(train_vec_shipping.shape)\n",
    "print(val_vec_shipping.shape)"
   ]
  },
  {
   "cell_type": "code",
   "execution_count": 32,
   "metadata": {
    "colab": {
     "base_uri": "https://localhost:8080/"
    },
    "executionInfo": {
     "elapsed": 522,
     "status": "ok",
     "timestamp": 1625816922611,
     "user": {
      "displayName": "PUSHAP GANDHI",
      "photoUrl": "https://lh3.googleusercontent.com/a-/AOh14GhtvSq40Q0iR7PAFnCqNljCvZEL0u3Jwy5L59EZTA=s64",
      "userId": "12599792132870778014"
     },
     "user_tz": -330
    },
    "id": "upA9m_tePPoY",
    "outputId": "198c22ba-00a1-40b9-80e8-04390d8e7d55"
   },
   "outputs": [
    {
     "name": "stdout",
     "output_type": "stream",
     "text": [
      "(3460725, 2)\n"
     ]
    }
   ],
   "source": [
    "test_vec_shipping = pd.get_dummies(df_test.shipping).values\n",
    "print(test_vec_shipping.shape)"
   ]
  },
  {
   "cell_type": "markdown",
   "metadata": {},
   "source": [
    "### 3.  brand_name"
   ]
  },
  {
   "cell_type": "code",
   "execution_count": 15,
   "metadata": {
    "colab": {
     "base_uri": "https://localhost:8080/"
    },
    "execution": {
     "iopub.execute_input": "2021-07-06T05:01:22.767477Z",
     "iopub.status.busy": "2021-07-06T05:01:22.767013Z",
     "iopub.status.idle": "2021-07-06T05:01:23.844069Z",
     "shell.execute_reply": "2021-07-06T05:01:23.842946Z",
     "shell.execute_reply.started": "2021-07-06T05:01:22.767444Z"
    },
    "executionInfo": {
     "elapsed": 14,
     "status": "ok",
     "timestamp": 1625815771838,
     "user": {
      "displayName": "PUSHAP GANDHI",
      "photoUrl": "https://lh3.googleusercontent.com/a-/AOh14GhtvSq40Q0iR7PAFnCqNljCvZEL0u3Jwy5L59EZTA=s64",
      "userId": "12599792132870778014"
     },
     "user_tz": -330
    },
    "id": "nWIRlLQRId9-",
    "outputId": "67c8f825-c710-4424-9f18-25cf393495c0"
   },
   "outputs": [
    {
     "name": "stdout",
     "output_type": "stream",
     "text": [
      "(1334281, 4702)\n",
      "(148254, 4702)\n"
     ]
    }
   ],
   "source": [
    "label_brand = OneHotEncoder(handle_unknown=\"ignore\")\n",
    "label_brand.fit(df_train.brand_name_processed.values.reshape(-1,1))\n",
    "\n",
    "train_vec_brand =label_brand.transform(df_train.brand_name_processed.values.reshape(-1,1))\n",
    "val_vec_brand = label_brand.transform(df_val.brand_name_processed.values.reshape(-1,1))\n",
    "\n",
    "print(train_vec_brand.shape)\n",
    "print(val_vec_brand.shape)"
   ]
  },
  {
   "cell_type": "code",
   "execution_count": 33,
   "metadata": {
    "colab": {
     "base_uri": "https://localhost:8080/"
    },
    "executionInfo": {
     "elapsed": 1663,
     "status": "ok",
     "timestamp": 1625816995884,
     "user": {
      "displayName": "PUSHAP GANDHI",
      "photoUrl": "https://lh3.googleusercontent.com/a-/AOh14GhtvSq40Q0iR7PAFnCqNljCvZEL0u3Jwy5L59EZTA=s64",
      "userId": "12599792132870778014"
     },
     "user_tz": -330
    },
    "id": "onGpwRykPYLK",
    "outputId": "d65c0399-dd44-4c06-ad82-206e7a33ae1d"
   },
   "outputs": [
    {
     "name": "stdout",
     "output_type": "stream",
     "text": [
      "(3460725, 4702)\n"
     ]
    }
   ],
   "source": [
    "test_vec_brand = label_brand.transform(df_test.brand_name_processed.values.reshape(-1,1))\n",
    "print(test_vec_brand.shape)"
   ]
  },
  {
   "cell_type": "markdown",
   "metadata": {},
   "source": [
    "### 4.  Tier_1"
   ]
  },
  {
   "cell_type": "code",
   "execution_count": 16,
   "metadata": {
    "colab": {
     "base_uri": "https://localhost:8080/"
    },
    "execution": {
     "iopub.execute_input": "2021-07-06T05:01:23.845916Z",
     "iopub.status.busy": "2021-07-06T05:01:23.845588Z",
     "iopub.status.idle": "2021-07-06T05:01:24.547855Z",
     "shell.execute_reply": "2021-07-06T05:01:24.546489Z",
     "shell.execute_reply.started": "2021-07-06T05:01:23.845880Z"
    },
    "executionInfo": {
     "elapsed": 486,
     "status": "ok",
     "timestamp": 1625815775856,
     "user": {
      "displayName": "PUSHAP GANDHI",
      "photoUrl": "https://lh3.googleusercontent.com/a-/AOh14GhtvSq40Q0iR7PAFnCqNljCvZEL0u3Jwy5L59EZTA=s64",
      "userId": "12599792132870778014"
     },
     "user_tz": -330
    },
    "id": "IUSZtqGZId9-",
    "outputId": "defd49cc-3eb1-4308-e8f1-e82280197f9f"
   },
   "outputs": [
    {
     "name": "stdout",
     "output_type": "stream",
     "text": [
      "(1334281, 11)\n",
      "(148254, 11)\n"
     ]
    }
   ],
   "source": [
    "label_t1 = OneHotEncoder(handle_unknown='ignore')\n",
    "label_t1.fit(df_train.Tier_1.values.reshape(-1,1))\n",
    "\n",
    "train_vec_t1 = label_t1.transform(df_train.Tier_1.values.reshape(-1,1))\n",
    "val_vec_t1 =   label_t1.transform(df_val.Tier_1.values.reshape(-1,1))\n",
    "\n",
    "\n",
    "print(train_vec_t1.shape)\n",
    "print(val_vec_t1.shape)\n"
   ]
  },
  {
   "cell_type": "code",
   "execution_count": 34,
   "metadata": {
    "colab": {
     "base_uri": "https://localhost:8080/"
    },
    "executionInfo": {
     "elapsed": 14,
     "status": "ok",
     "timestamp": 1625817041919,
     "user": {
      "displayName": "PUSHAP GANDHI",
      "photoUrl": "https://lh3.googleusercontent.com/a-/AOh14GhtvSq40Q0iR7PAFnCqNljCvZEL0u3Jwy5L59EZTA=s64",
      "userId": "12599792132870778014"
     },
     "user_tz": -330
    },
    "id": "rca2LfMnPomJ",
    "outputId": "84b62350-bced-4efc-920b-044d18b7fa24"
   },
   "outputs": [
    {
     "name": "stdout",
     "output_type": "stream",
     "text": [
      "(3460725, 11)\n"
     ]
    }
   ],
   "source": [
    "test_vec_t1 =   label_t1.transform(df_test.Tier_1.values.reshape(-1,1))\n",
    "print(test_vec_t1.shape)"
   ]
  },
  {
   "cell_type": "markdown",
   "metadata": {},
   "source": [
    "### 5.  Tier_2"
   ]
  },
  {
   "cell_type": "code",
   "execution_count": 17,
   "metadata": {
    "colab": {
     "base_uri": "https://localhost:8080/"
    },
    "execution": {
     "iopub.execute_input": "2021-07-06T05:01:24.550310Z",
     "iopub.status.busy": "2021-07-06T05:01:24.549825Z",
     "iopub.status.idle": "2021-07-06T05:01:25.317760Z",
     "shell.execute_reply": "2021-07-06T05:01:25.316358Z",
     "shell.execute_reply.started": "2021-07-06T05:01:24.550148Z"
    },
    "executionInfo": {
     "elapsed": 702,
     "status": "ok",
     "timestamp": 1625815779342,
     "user": {
      "displayName": "PUSHAP GANDHI",
      "photoUrl": "https://lh3.googleusercontent.com/a-/AOh14GhtvSq40Q0iR7PAFnCqNljCvZEL0u3Jwy5L59EZTA=s64",
      "userId": "12599792132870778014"
     },
     "user_tz": -330
    },
    "id": "fXHVDa1QId9_",
    "outputId": "eb5119b8-71fd-4a92-ed15-ab89f9836901"
   },
   "outputs": [
    {
     "name": "stdout",
     "output_type": "stream",
     "text": [
      "(1334281, 111)\n",
      "(148254, 111)\n"
     ]
    }
   ],
   "source": [
    "label_t2 = OneHotEncoder(handle_unknown='ignore')\n",
    "label_t2.fit(df_train.Tier_2.values.reshape(-1,1))\n",
    "\n",
    "train_vec_t2 =label_t2.transform(df_train.Tier_2.values.reshape(-1,1))\n",
    "val_vec_t2 = label_t2.transform(df_val.Tier_2.values.reshape(-1,1))\n",
    "\n",
    "print(train_vec_t2.shape)\n",
    "print(val_vec_t2.shape)\n"
   ]
  },
  {
   "cell_type": "code",
   "execution_count": 35,
   "metadata": {
    "colab": {
     "base_uri": "https://localhost:8080/"
    },
    "executionInfo": {
     "elapsed": 714,
     "status": "ok",
     "timestamp": 1625817067874,
     "user": {
      "displayName": "PUSHAP GANDHI",
      "photoUrl": "https://lh3.googleusercontent.com/a-/AOh14GhtvSq40Q0iR7PAFnCqNljCvZEL0u3Jwy5L59EZTA=s64",
      "userId": "12599792132870778014"
     },
     "user_tz": -330
    },
    "id": "v8ixgcpIP1Ip",
    "outputId": "cc57cd97-af38-4eb4-eef2-8bccdc24f24f"
   },
   "outputs": [
    {
     "data": {
      "text/plain": [
       "(3460725, 111)"
      ]
     },
     "execution_count": 35,
     "metadata": {
      "tags": []
     },
     "output_type": "execute_result"
    }
   ],
   "source": [
    "test_vec_t2 = label_t2.transform(df_test.Tier_2.values.reshape(-1,1))\n",
    "test_vec_t2.shape"
   ]
  },
  {
   "cell_type": "markdown",
   "metadata": {},
   "source": [
    "### 6. Tier_3"
   ]
  },
  {
   "cell_type": "code",
   "execution_count": 18,
   "metadata": {
    "colab": {
     "base_uri": "https://localhost:8080/"
    },
    "execution": {
     "iopub.execute_input": "2021-07-06T05:01:25.319760Z",
     "iopub.status.busy": "2021-07-06T05:01:25.319413Z",
     "iopub.status.idle": "2021-07-06T05:01:26.255922Z",
     "shell.execute_reply": "2021-07-06T05:01:26.254456Z",
     "shell.execute_reply.started": "2021-07-06T05:01:25.319726Z"
    },
    "executionInfo": {
     "elapsed": 1175,
     "status": "ok",
     "timestamp": 1625815782324,
     "user": {
      "displayName": "PUSHAP GANDHI",
      "photoUrl": "https://lh3.googleusercontent.com/a-/AOh14GhtvSq40Q0iR7PAFnCqNljCvZEL0u3Jwy5L59EZTA=s64",
      "userId": "12599792132870778014"
     },
     "user_tz": -330
    },
    "id": "FkpGb9-BId9_",
    "outputId": "2a3c7183-a233-4fb9-86ef-f8c457e9cfc8"
   },
   "outputs": [
    {
     "name": "stdout",
     "output_type": "stream",
     "text": [
      "(1334281, 863)\n",
      "(1334281, 863)\n"
     ]
    }
   ],
   "source": [
    "label_t3 = OneHotEncoder(handle_unknown='ignore')\n",
    "label_t3.fit(df_train.Tier_3.values.reshape(-1,1))\n",
    "\n",
    "train_vec_t3 =label_t3.transform(df_train.Tier_3.values.reshape(-1,1))\n",
    "val_vec_t3 = label_t3.transform(df_val.Tier_3.values.reshape(-1,1))\n",
    "#\n",
    "print(train_vec_t3.shape)\n",
    "print(train_vec_t3.shape)\n",
    "#"
   ]
  },
  {
   "cell_type": "code",
   "execution_count": 36,
   "metadata": {
    "colab": {
     "base_uri": "https://localhost:8080/"
    },
    "executionInfo": {
     "elapsed": 1703,
     "status": "ok",
     "timestamp": 1625817087101,
     "user": {
      "displayName": "PUSHAP GANDHI",
      "photoUrl": "https://lh3.googleusercontent.com/a-/AOh14GhtvSq40Q0iR7PAFnCqNljCvZEL0u3Jwy5L59EZTA=s64",
      "userId": "12599792132870778014"
     },
     "user_tz": -330
    },
    "id": "C57EvjhfP8mp",
    "outputId": "6bffa107-35d8-4aa3-ecce-34a9e707dc03"
   },
   "outputs": [
    {
     "data": {
      "text/plain": [
       "(3460725, 863)"
      ]
     },
     "execution_count": 36,
     "metadata": {
      "tags": []
     },
     "output_type": "execute_result"
    }
   ],
   "source": [
    "test_vec_t3 = label_t3.transform(df_test.Tier_3.values.reshape(-1,1))\n",
    "test_vec_t3.shape"
   ]
  },
  {
   "cell_type": "markdown",
   "metadata": {},
   "source": [
    "##  <font color='green'> Text Data  </font>\n",
    "\n",
    "## Tfidf\n",
    "### 7. name_processed"
   ]
  },
  {
   "cell_type": "code",
   "execution_count": 19,
   "metadata": {
    "colab": {
     "base_uri": "https://localhost:8080/"
    },
    "execution": {
     "iopub.execute_input": "2021-07-06T05:01:26.257958Z",
     "iopub.status.busy": "2021-07-06T05:01:26.257638Z",
     "iopub.status.idle": "2021-07-06T05:02:25.691231Z",
     "shell.execute_reply": "2021-07-06T05:02:25.689183Z",
     "shell.execute_reply.started": "2021-07-06T05:01:26.257927Z"
    },
    "executionInfo": {
     "elapsed": 43045,
     "status": "ok",
     "timestamp": 1625815827737,
     "user": {
      "displayName": "PUSHAP GANDHI",
      "photoUrl": "https://lh3.googleusercontent.com/a-/AOh14GhtvSq40Q0iR7PAFnCqNljCvZEL0u3Jwy5L59EZTA=s64",
      "userId": "12599792132870778014"
     },
     "user_tz": -330
    },
    "id": "tg1IYdINId-A",
    "outputId": "5e0fdc97-40f3-424c-9e8d-eeffef389213"
   },
   "outputs": [
    {
     "name": "stdout",
     "output_type": "stream",
     "text": [
      "(1334281, 50000)\n",
      "(148254, 50000)\n"
     ]
    }
   ],
   "source": [
    "tfidf = TfidfVectorizer(ngram_range=(1,2),max_features=50000)\n",
    "tfidf.fit(df_train.name_processed)\n",
    "\n",
    "train_vec_name = tfidf.transform(df_train.name_processed)\n",
    "val_vec_name = tfidf.transform(df_val.name_processed)\n",
    "\n",
    "\n",
    "print(train_vec_name.shape)\n",
    "print(val_vec_name.shape)\n"
   ]
  },
  {
   "cell_type": "code",
   "execution_count": 37,
   "metadata": {
    "colab": {
     "base_uri": "https://localhost:8080/"
    },
    "executionInfo": {
     "elapsed": 40561,
     "status": "ok",
     "timestamp": 1625817170447,
     "user": {
      "displayName": "PUSHAP GANDHI",
      "photoUrl": "https://lh3.googleusercontent.com/a-/AOh14GhtvSq40Q0iR7PAFnCqNljCvZEL0u3Jwy5L59EZTA=s64",
      "userId": "12599792132870778014"
     },
     "user_tz": -330
    },
    "id": "cSfHPK3iQBdD",
    "outputId": "4ff5f218-c66d-433d-8d77-434255e719ec"
   },
   "outputs": [
    {
     "name": "stdout",
     "output_type": "stream",
     "text": [
      "(3460725, 50000)\n"
     ]
    }
   ],
   "source": [
    "test_vec_name = tfidf.transform(df_test.name_processed)\n",
    "print(test_vec_name.shape)\n"
   ]
  },
  {
   "cell_type": "markdown",
   "metadata": {},
   "source": [
    "### 8. processed_item_description"
   ]
  },
  {
   "cell_type": "code",
   "execution_count": 38,
   "metadata": {
    "colab": {
     "base_uri": "https://localhost:8080/"
    },
    "execution": {
     "iopub.execute_input": "2021-07-06T05:02:25.692830Z",
     "iopub.status.busy": "2021-07-06T05:02:25.692542Z",
     "iopub.status.idle": "2021-07-06T05:06:55.883786Z",
     "shell.execute_reply": "2021-07-06T05:06:55.882590Z",
     "shell.execute_reply.started": "2021-07-06T05:02:25.692800Z"
    },
    "executionInfo": {
     "elapsed": 139361,
     "status": "ok",
     "timestamp": 1625817410729,
     "user": {
      "displayName": "PUSHAP GANDHI",
      "photoUrl": "https://lh3.googleusercontent.com/a-/AOh14GhtvSq40Q0iR7PAFnCqNljCvZEL0u3Jwy5L59EZTA=s64",
      "userId": "12599792132870778014"
     },
     "user_tz": -330
    },
    "id": "RL3K_k6DId-C",
    "outputId": "b7a235c1-05bb-403a-a60d-aab4f9c342d6"
   },
   "outputs": [
    {
     "name": "stdout",
     "output_type": "stream",
     "text": [
      "(1334281, 50000)\n",
      "(148254, 50000)\n"
     ]
    }
   ],
   "source": [
    "tfidf_desc = TfidfVectorizer(max_features=50000,ngram_range=(1, 2))\n",
    "tfidf_desc.fit(df_train.processed_item_description)\n",
    "\n",
    "train_vec_desc = tfidf_desc.transform(df_train.processed_item_description  )\n",
    "val_vec_desc   = tfidf_desc.transform(df_val.processed_item_description)\n",
    "\n",
    "\n",
    "print(train_vec_desc.shape)\n",
    "print(val_vec_desc.shape)\n"
   ]
  },
  {
   "cell_type": "code",
   "execution_count": 39,
   "metadata": {
    "colab": {
     "base_uri": "https://localhost:8080/"
    },
    "executionInfo": {
     "elapsed": 130435,
     "status": "ok",
     "timestamp": 1625817541152,
     "user": {
      "displayName": "PUSHAP GANDHI",
      "photoUrl": "https://lh3.googleusercontent.com/a-/AOh14GhtvSq40Q0iR7PAFnCqNljCvZEL0u3Jwy5L59EZTA=s64",
      "userId": "12599792132870778014"
     },
     "user_tz": -330
    },
    "id": "eEJPbR-oQLh6",
    "outputId": "adcaf64a-37e1-4a81-fa23-333c4097eafa"
   },
   "outputs": [
    {
     "name": "stdout",
     "output_type": "stream",
     "text": [
      "(3460725, 50000)\n"
     ]
    }
   ],
   "source": [
    "test_vec_desc   = tfidf_desc.transform(df_test.processed_item_description)\n",
    "print(test_vec_desc.shape)"
   ]
  },
  {
   "cell_type": "markdown",
   "metadata": {},
   "source": [
    "### 9. is_missing"
   ]
  },
  {
   "cell_type": "code",
   "execution_count": 21,
   "metadata": {
    "execution": {
     "iopub.execute_input": "2021-07-06T05:06:55.885619Z",
     "iopub.status.busy": "2021-07-06T05:06:55.885286Z",
     "iopub.status.idle": "2021-07-06T05:06:56.905206Z",
     "shell.execute_reply": "2021-07-06T05:06:56.903582Z",
     "shell.execute_reply.started": "2021-07-06T05:06:55.885580Z"
    },
    "executionInfo": {
     "elapsed": 1086,
     "status": "ok",
     "timestamp": 1625816017160,
     "user": {
      "displayName": "PUSHAP GANDHI",
      "photoUrl": "https://lh3.googleusercontent.com/a-/AOh14GhtvSq40Q0iR7PAFnCqNljCvZEL0u3Jwy5L59EZTA=s64",
      "userId": "12599792132870778014"
     },
     "user_tz": -330
    },
    "id": "sgrRTx-aId-D"
   },
   "outputs": [],
   "source": [
    "df_train[\"is_missing\"]  =  (df_train.brand_name_processed==\"missing\") | (df_train.name_processed ==\"missing\")| (df_train.processed_item_description==\"missing\")\n",
    "df_train[\"is_missing\"]  = df_train[\"is_missing\"].astype(int)"
   ]
  },
  {
   "cell_type": "code",
   "execution_count": 22,
   "metadata": {
    "execution": {
     "iopub.execute_input": "2021-07-06T05:06:56.907613Z",
     "iopub.status.busy": "2021-07-06T05:06:56.907143Z",
     "iopub.status.idle": "2021-07-06T05:06:57.036253Z",
     "shell.execute_reply": "2021-07-06T05:06:57.035116Z",
     "shell.execute_reply.started": "2021-07-06T05:06:56.907563Z"
    },
    "executionInfo": {
     "elapsed": 26,
     "status": "ok",
     "timestamp": 1625816017166,
     "user": {
      "displayName": "PUSHAP GANDHI",
      "photoUrl": "https://lh3.googleusercontent.com/a-/AOh14GhtvSq40Q0iR7PAFnCqNljCvZEL0u3Jwy5L59EZTA=s64",
      "userId": "12599792132870778014"
     },
     "user_tz": -330
    },
    "id": "qSKQR9v_Id-F"
   },
   "outputs": [],
   "source": [
    "df_val[\"is_missing\"]  =  (df_val.brand_name_processed==\"missing\") | (df_val.name_processed ==\"missing\")| (df_val.processed_item_description==\"missing\")\n",
    "df_val[\"is_missing\"]  = df_val[\"is_missing\"].astype(int)"
   ]
  },
  {
   "cell_type": "code",
   "execution_count": 40,
   "metadata": {
    "executionInfo": {
     "elapsed": 553,
     "status": "ok",
     "timestamp": 1625817551587,
     "user": {
      "displayName": "PUSHAP GANDHI",
      "photoUrl": "https://lh3.googleusercontent.com/a-/AOh14GhtvSq40Q0iR7PAFnCqNljCvZEL0u3Jwy5L59EZTA=s64",
      "userId": "12599792132870778014"
     },
     "user_tz": -330
    },
    "id": "IGIsvT8dQ6V_"
   },
   "outputs": [],
   "source": [
    "df_test[\"is_missing\"]  =  (df_test.brand_name_processed==\"missing\") | (df_test.name_processed ==\"missing\")| (df_test.processed_item_description==\"missing\")\n",
    "df_test[\"is_missing\"]  = df_test[\"is_missing\"].astype(int)"
   ]
  },
  {
   "cell_type": "markdown",
   "metadata": {
    "id": "142YNOK3Id-F"
   },
   "source": [
    "## Concatenating"
   ]
  },
  {
   "cell_type": "code",
   "execution_count": 41,
   "metadata": {
    "colab": {
     "base_uri": "https://localhost:8080/"
    },
    "execution": {
     "iopub.execute_input": "2021-07-06T05:06:57.038450Z",
     "iopub.status.busy": "2021-07-06T05:06:57.037952Z",
     "iopub.status.idle": "2021-07-06T05:06:59.926709Z",
     "shell.execute_reply": "2021-07-06T05:06:59.925367Z",
     "shell.execute_reply.started": "2021-07-06T05:06:57.038401Z"
    },
    "executionInfo": {
     "elapsed": 12041,
     "status": "ok",
     "timestamp": 1625817663609,
     "user": {
      "displayName": "PUSHAP GANDHI",
      "photoUrl": "https://lh3.googleusercontent.com/a-/AOh14GhtvSq40Q0iR7PAFnCqNljCvZEL0u3Jwy5L59EZTA=s64",
      "userId": "12599792132870778014"
     },
     "user_tz": -330
    },
    "id": "HktnjGjcId-F",
    "outputId": "6141e3ae-7b44-4054-8de1-5c671dc8a8a8"
   },
   "outputs": [
    {
     "name": "stdout",
     "output_type": "stream",
     "text": [
      "(1334281, 105695)\n",
      "(148254, 105695)\n",
      "(3460725, 105695)\n"
     ]
    }
   ],
   "source": [
    "x_train = hstack((train_vec_item_con,train_vec_shipping,\n",
    "                  train_vec_name,train_vec_brand,train_vec_t1,\n",
    "                   train_vec_t2,\n",
    "                    train_vec_t3,\n",
    "                  df_train.is_missing.values.reshape(-1,1)\n",
    "                   ,train_vec_desc))\n",
    "\n",
    "\n",
    "x_val = hstack((val_vec_item_con,val_vec_shipping\n",
    "                ,val_vec_name ,val_vec_brand ,val_vec_t1 ,\\\n",
    "                  val_vec_t2 ,val_vec_t3 ,\n",
    "                df_val.is_missing.values.reshape(-1,1)\n",
    "                ,val_vec_desc))\n",
    "\n",
    "x_test = hstack((test_vec_item_con,test_vec_shipping\n",
    "                ,test_vec_name ,test_vec_brand ,test_vec_t1 ,\\\n",
    "                  test_vec_t2 ,test_vec_t3 ,\n",
    "                df_test.is_missing.values.reshape(-1,1)\n",
    "                ,test_vec_desc))\n",
    "\n",
    "print(x_train.shape)\n",
    "print(x_val.shape)\n",
    "print(x_test.shape)"
   ]
  },
  {
   "cell_type": "markdown",
   "metadata": {},
   "source": [
    "## Sampling for hyperparameter tuning"
   ]
  },
  {
   "cell_type": "code",
   "execution_count": null,
   "metadata": {
    "execution": {
     "iopub.execute_input": "2021-07-06T05:06:59.930343Z",
     "iopub.status.busy": "2021-07-06T05:06:59.930013Z",
     "iopub.status.idle": "2021-07-06T05:07:03.128346Z",
     "shell.execute_reply": "2021-07-06T05:07:03.126927Z",
     "shell.execute_reply.started": "2021-07-06T05:06:59.930312Z"
    },
    "id": "dKXB6xZoId-H"
   },
   "outputs": [],
   "source": [
    "def sample(x_train,y_train):\n",
    "    np.random.seed(5)\n",
    "    index = np.random.random_integers(0,x_train.shape[0]-1,size=int(0.5*x_train.shape[0]))\n",
    "    \n",
    "    x_train_s = x_train.tocsr()[index]\n",
    "    y_train_s = y_train.values[index]\n",
    "    \n",
    "    return x_train_s,y_train_s\n",
    "\n",
    "x_train_s,y_train_s = sample(x_train,y_train)"
   ]
  },
  {
   "cell_type": "code",
   "execution_count": null,
   "metadata": {
    "execution": {
     "iopub.execute_input": "2021-07-06T05:07:03.131433Z",
     "iopub.status.busy": "2021-07-06T05:07:03.130947Z",
     "iopub.status.idle": "2021-07-06T05:07:03.139030Z",
     "shell.execute_reply": "2021-07-06T05:07:03.137783Z",
     "shell.execute_reply.started": "2021-07-06T05:07:03.131383Z"
    },
    "id": "5i5xKJL9Id-H",
    "outputId": "7ddbeaa1-5701-4a23-ac5e-83c6943c8f2d"
   },
   "outputs": [
    {
     "data": {
      "text/plain": [
       "(667140, 105695)"
      ]
     },
     "execution_count": 49,
     "metadata": {
      "tags": []
     },
     "output_type": "execute_result"
    }
   ],
   "source": [
    "x_train_s.shape"
   ]
  },
  {
   "cell_type": "code",
   "execution_count": null,
   "metadata": {
    "execution": {
     "iopub.execute_input": "2021-07-06T05:07:03.141254Z",
     "iopub.status.busy": "2021-07-06T05:07:03.140811Z",
     "iopub.status.idle": "2021-07-06T05:07:03.153638Z",
     "shell.execute_reply": "2021-07-06T05:07:03.152897Z",
     "shell.execute_reply.started": "2021-07-06T05:07:03.141205Z"
    },
    "id": "A8NRJ0YqId-I",
    "outputId": "8a2d103b-bb76-468b-ce59-aea4fb695bbd"
   },
   "outputs": [
    {
     "data": {
      "text/plain": [
       "(667140,)"
      ]
     },
     "execution_count": 50,
     "metadata": {
      "tags": []
     },
     "output_type": "execute_result"
    }
   ],
   "source": [
    "y_train_s.shape"
   ]
  },
  {
   "cell_type": "markdown",
   "metadata": {},
   "source": [
    "## C. Models\n",
    "\n",
    "### Linear Regression"
   ]
  },
  {
   "cell_type": "code",
   "execution_count": 46,
   "metadata": {
    "colab": {
     "base_uri": "https://localhost:8080/"
    },
    "executionInfo": {
     "elapsed": 555369,
     "status": "ok",
     "timestamp": 1625818540205,
     "user": {
      "displayName": "PUSHAP GANDHI",
      "photoUrl": "https://lh3.googleusercontent.com/a-/AOh14GhtvSq40Q0iR7PAFnCqNljCvZEL0u3Jwy5L59EZTA=s64",
      "userId": "12599792132870778014"
     },
     "user_tz": -330
    },
    "id": "23xHR2tMId-I",
    "outputId": "1ad2404f-f0b6-47bc-9a2a-06fd0958b487"
   },
   "outputs": [
    {
     "data": {
      "text/plain": [
       "LinearRegression(copy_X=True, fit_intercept=True, n_jobs=None, normalize=True)"
      ]
     },
     "execution_count": 46,
     "metadata": {
      "tags": []
     },
     "output_type": "execute_result"
    }
   ],
   "source": [
    "lr = LinearRegression(normalize=True)\n",
    "lr.fit(x_train,y_train)"
   ]
  },
  {
   "cell_type": "code",
   "execution_count": 47,
   "metadata": {
    "executionInfo": {
     "elapsed": 952,
     "status": "ok",
     "timestamp": 1625818564607,
     "user": {
      "displayName": "PUSHAP GANDHI",
      "photoUrl": "https://lh3.googleusercontent.com/a-/AOh14GhtvSq40Q0iR7PAFnCqNljCvZEL0u3Jwy5L59EZTA=s64",
      "userId": "12599792132870778014"
     },
     "user_tz": -330
    },
    "id": "aoKIgtthId-I"
   },
   "outputs": [],
   "source": [
    "# TRAIN PREDICTION\n",
    "train_pred_lr = lr.predict(x_train)\n",
    "# VALIDATION PREDICTION\n",
    "val_pred_lr = lr.predict(x_val)"
   ]
  },
  {
   "cell_type": "code",
   "execution_count": 48,
   "metadata": {
    "colab": {
     "base_uri": "https://localhost:8080/"
    },
    "executionInfo": {
     "elapsed": 11,
     "status": "ok",
     "timestamp": 1625818566452,
     "user": {
      "displayName": "PUSHAP GANDHI",
      "photoUrl": "https://lh3.googleusercontent.com/a-/AOh14GhtvSq40Q0iR7PAFnCqNljCvZEL0u3Jwy5L59EZTA=s64",
      "userId": "12599792132870778014"
     },
     "user_tz": -330
    },
    "id": "BEquR5uPId-J",
    "outputId": "45b50fd7-3756-4aa2-f709-c4cfe08a001f"
   },
   "outputs": [
    {
     "name": "stdout",
     "output_type": "stream",
     "text": [
      "Train Error 0.4240856531220295\n",
      "Validation Error 0.462005027590113\n"
     ]
    }
   ],
   "source": [
    "# TRAIN ERROR\n",
    "train_error = np.sqrt(mean_squared_error(y_train,train_pred_lr))\n",
    "print(\"Train Error\",train_error)\n",
    "# TEST ERROR\n",
    "val_error = np.sqrt(mean_squared_error(y_val,val_pred_lr))\n",
    "print(\"Validation Error\",val_error)"
   ]
  },
  {
   "cell_type": "code",
   "execution_count": 50,
   "metadata": {
    "colab": {
     "base_uri": "https://localhost:8080/",
     "height": 419
    },
    "executionInfo": {
     "elapsed": 13637,
     "status": "ok",
     "timestamp": 1625818597532,
     "user": {
      "displayName": "PUSHAP GANDHI",
      "photoUrl": "https://lh3.googleusercontent.com/a-/AOh14GhtvSq40Q0iR7PAFnCqNljCvZEL0u3Jwy5L59EZTA=s64",
      "userId": "12599792132870778014"
     },
     "user_tz": -330
    },
    "id": "MURFEHowSdnv",
    "outputId": "48b75706-f48c-4e36-dc2a-0d862364aa4a"
   },
   "outputs": [
    {
     "data": {
      "text/html": [
       "<div>\n",
       "<style scoped>\n",
       "    .dataframe tbody tr th:only-of-type {\n",
       "        vertical-align: middle;\n",
       "    }\n",
       "\n",
       "    .dataframe tbody tr th {\n",
       "        vertical-align: top;\n",
       "    }\n",
       "\n",
       "    .dataframe thead th {\n",
       "        text-align: right;\n",
       "    }\n",
       "</style>\n",
       "<table border=\"1\" class=\"dataframe\">\n",
       "  <thead>\n",
       "    <tr style=\"text-align: right;\">\n",
       "      <th></th>\n",
       "      <th>test id</th>\n",
       "      <th>price</th>\n",
       "    </tr>\n",
       "  </thead>\n",
       "  <tbody>\n",
       "    <tr>\n",
       "      <th>0</th>\n",
       "      <td>0</td>\n",
       "      <td>9.421793</td>\n",
       "    </tr>\n",
       "    <tr>\n",
       "      <th>1</th>\n",
       "      <td>1</td>\n",
       "      <td>6.430594</td>\n",
       "    </tr>\n",
       "    <tr>\n",
       "      <th>2</th>\n",
       "      <td>2</td>\n",
       "      <td>43.903771</td>\n",
       "    </tr>\n",
       "    <tr>\n",
       "      <th>3</th>\n",
       "      <td>3</td>\n",
       "      <td>17.423751</td>\n",
       "    </tr>\n",
       "    <tr>\n",
       "      <th>4</th>\n",
       "      <td>4</td>\n",
       "      <td>7.696457</td>\n",
       "    </tr>\n",
       "    <tr>\n",
       "      <th>...</th>\n",
       "      <td>...</td>\n",
       "      <td>...</td>\n",
       "    </tr>\n",
       "    <tr>\n",
       "      <th>3460720</th>\n",
       "      <td>3460720</td>\n",
       "      <td>10.841800</td>\n",
       "    </tr>\n",
       "    <tr>\n",
       "      <th>3460721</th>\n",
       "      <td>3460721</td>\n",
       "      <td>45.800019</td>\n",
       "    </tr>\n",
       "    <tr>\n",
       "      <th>3460722</th>\n",
       "      <td>3460722</td>\n",
       "      <td>18.338031</td>\n",
       "    </tr>\n",
       "    <tr>\n",
       "      <th>3460723</th>\n",
       "      <td>3460723</td>\n",
       "      <td>22.851977</td>\n",
       "    </tr>\n",
       "    <tr>\n",
       "      <th>3460724</th>\n",
       "      <td>3460724</td>\n",
       "      <td>27.515730</td>\n",
       "    </tr>\n",
       "  </tbody>\n",
       "</table>\n",
       "<p>3460725 rows × 2 columns</p>\n",
       "</div>"
      ],
      "text/plain": [
       "         test id      price\n",
       "0              0   9.421793\n",
       "1              1   6.430594\n",
       "2              2  43.903771\n",
       "3              3  17.423751\n",
       "4              4   7.696457\n",
       "...          ...        ...\n",
       "3460720  3460720  10.841800\n",
       "3460721  3460721  45.800019\n",
       "3460722  3460722  18.338031\n",
       "3460723  3460723  22.851977\n",
       "3460724  3460724  27.515730\n",
       "\n",
       "[3460725 rows x 2 columns]"
      ]
     },
     "execution_count": 50,
     "metadata": {
      "tags": []
     },
     "output_type": "execute_result"
    }
   ],
   "source": [
    "# TEST PREDICTION\n",
    "lr_predict = pd.DataFrame()\n",
    "lr_predict[\"test id\"] = df_test.index\n",
    "lr_predict[\"price\"] = log_to_actual(lr.predict(x_test))\n",
    "lr_predict.to_csv(\"/content/drive/MyDrive/Colab Notebooks/cs1/linear_tfidf_predict.csv\")\n",
    "lr_predict"
   ]
  },
  {
   "cell_type": "code",
   "execution_count": 12,
   "metadata": {},
   "outputs": [
    {
     "data": {
      "image/png": "[encoded data removed]",
      "text/plain": [
       "<IPython.core.display.Image object>"
      ]
     },
     "execution_count": 12,
     "metadata": {},
     "output_type": "execute_result"
    }
   ],
   "source": [
    "Image(\"screenshot/linear_tfidf.png\") "
   ]
  },
  {
   "cell_type": "markdown",
   "metadata": {},
   "source": [
    "### Ridge "
   ]
  },
  {
   "cell_type": "code",
   "execution_count": null,
   "metadata": {
    "execution": {
     "iopub.execute_input": "2021-07-06T05:07:03.155093Z",
     "iopub.status.busy": "2021-07-06T05:07:03.154791Z",
     "iopub.status.idle": "2021-07-06T05:26:12.662955Z",
     "shell.execute_reply": "2021-07-06T05:26:12.662006Z",
     "shell.execute_reply.started": "2021-07-06T05:07:03.155061Z"
    },
    "id": "0xk2gxqrId-L",
    "outputId": "dd5ff213-3dff-4fd7-c30b-46058e492ffe"
   },
   "outputs": [
    {
     "name": "stdout",
     "output_type": "stream",
     "text": [
      "validation Loss for parameter 1e-05= 0.49755259177159245\n",
      "validation Loss for parameter 0.0001= 0.4974438413191783\n",
      "validation Loss for parameter 0.001= 0.4975745774625851\n",
      "validation Loss for parameter 0.01= 0.4968724109397735\n",
      "validation Loss for parameter 0.1= 0.4913099674852727\n",
      "validation Loss for parameter 1= 0.4733456524851951\n",
      "validation Loss for parameter 10= 0.4667471732193462\n",
      "validation Loss for parameter 100= 0.49781922411659946\n",
      "validation Loss for parameter 1000= 0.5575574953163212\n",
      "validation Loss for parameter 10000= 0.6316940251561611\n",
      "validation Loss for parameter 100000= 0.6878215711865616\n"
     ]
    },
    {
     "data": {
      "image/png": "[encoded data removed]",
      "text/plain": [
       "<Figure size 432x288 with 1 Axes>"
      ]
     },
     "metadata": {
      "tags": []
     },
     "output_type": "display_data"
    }
   ],
   "source": [
    "param =  [10**x for x in range(-5,6)]\n",
    "train_error_list = [] \n",
    "val_error_list = []\n",
    "for i in param:\n",
    "    l2 = Ridge(alpha=i)\n",
    "    l2.fit(x_train_s,y_train_s)\n",
    "    \n",
    "    train_pred = l2.predict(x_train)\n",
    "    val_pred = l2.predict(x_val)\n",
    "    \n",
    "    train_error = np.sqrt(mean_squared_error(y_train,train_pred))\n",
    "    val_error = np.sqrt(mean_squared_error(y_val,val_pred))\n",
    "    \n",
    "    train_error_list.append(train_error)\n",
    "    val_error_list.append(val_error)\n",
    "    \n",
    "    print(f\"validation Loss for parameter {i}=\",val_error)\n",
    "\n",
    "log_param = np.log10(np.array(param))\n",
    "sns.set_style(\"darkgrid\")\n",
    "sns.lineplot(x=log_param,y=train_error_list,label=\"Train\")\n",
    "sns.scatterplot(x=log_param,y=train_error_list)\n",
    "sns.lineplot(x=log_param,y=val_error_list,label=\"CV\")\n",
    "sns.scatterplot(x=log_param,y=val_error_list)\n",
    "plt.xlabel(\"Parameter\")\n",
    "plt.ylabel(\"Loss\")\n",
    "plt.legend()\n",
    "plt.show()"
   ]
  },
  {
   "cell_type": "code",
   "execution_count": 51,
   "metadata": {
    "colab": {
     "base_uri": "https://localhost:8080/"
    },
    "execution": {
     "iopub.execute_input": "2021-07-06T05:26:28.121574Z",
     "iopub.status.busy": "2021-07-06T05:26:28.120803Z",
     "iopub.status.idle": "2021-07-06T05:28:19.555948Z",
     "shell.execute_reply": "2021-07-06T05:28:19.554821Z",
     "shell.execute_reply.started": "2021-07-06T05:26:28.121531Z"
    },
    "executionInfo": {
     "elapsed": 68526,
     "status": "ok",
     "timestamp": 1625818698869,
     "user": {
      "displayName": "PUSHAP GANDHI",
      "photoUrl": "https://lh3.googleusercontent.com/a-/AOh14GhtvSq40Q0iR7PAFnCqNljCvZEL0u3Jwy5L59EZTA=s64",
      "userId": "12599792132870778014"
     },
     "user_tz": -330
    },
    "id": "a6bLAzH6Id-L",
    "outputId": "eaf915c6-2d47-487c-aaae-b18275175f26"
   },
   "outputs": [
    {
     "data": {
      "text/plain": [
       "Ridge(alpha=10, copy_X=True, fit_intercept=True, max_iter=None, normalize=False,\n",
       "      random_state=None, solver='auto', tol=0.001)"
      ]
     },
     "execution_count": 51,
     "metadata": {
      "tags": []
     },
     "output_type": "execute_result"
    }
   ],
   "source": [
    "# best_alpha = 10\n",
    "\n",
    "l2_best = Ridge(alpha=10)\n",
    "l2_best.fit(x_train,y_train)\n"
   ]
  },
  {
   "cell_type": "code",
   "execution_count": 52,
   "metadata": {
    "executionInfo": {
     "elapsed": 680,
     "status": "ok",
     "timestamp": 1625818732974,
     "user": {
      "displayName": "PUSHAP GANDHI",
      "photoUrl": "https://lh3.googleusercontent.com/a-/AOh14GhtvSq40Q0iR7PAFnCqNljCvZEL0u3Jwy5L59EZTA=s64",
      "userId": "12599792132870778014"
     },
     "user_tz": -330
    },
    "id": "Af046cIRV3wq"
   },
   "outputs": [],
   "source": [
    "# TRAIN PREDICTION\n",
    "train_pred = l2_best.predict(x_train)\n",
    "# VALIDATION PREDICTION\n",
    "val_pred = l2_best.predict(x_val)"
   ]
  },
  {
   "cell_type": "code",
   "execution_count": 53,
   "metadata": {
    "colab": {
     "base_uri": "https://localhost:8080/"
    },
    "execution": {
     "iopub.execute_input": "2021-07-06T05:28:19.558546Z",
     "iopub.status.busy": "2021-07-06T05:28:19.557869Z",
     "iopub.status.idle": "2021-07-06T05:28:19.579603Z",
     "shell.execute_reply": "2021-07-06T05:28:19.578327Z",
     "shell.execute_reply.started": "2021-07-06T05:28:19.558488Z"
    },
    "executionInfo": {
     "elapsed": 11,
     "status": "ok",
     "timestamp": 1625818735348,
     "user": {
      "displayName": "PUSHAP GANDHI",
      "photoUrl": "https://lh3.googleusercontent.com/a-/AOh14GhtvSq40Q0iR7PAFnCqNljCvZEL0u3Jwy5L59EZTA=s64",
      "userId": "12599792132870778014"
     },
     "user_tz": -330
    },
    "id": "PIuHQveIId-L",
    "outputId": "ebd8cb95-9352-443f-d0f5-eee3623eebc9"
   },
   "outputs": [
    {
     "name": "stdout",
     "output_type": "stream",
     "text": [
      "Train Error =  0.4414230414196563\n",
      "Validation Error =  0.45812050428950885\n"
     ]
    }
   ],
   "source": [
    "# TRAIN ERROR\n",
    "train_error = np.sqrt(mean_squared_error(y_train,train_pred))\n",
    "print(\"Train Error = \",train_error)\n",
    "# VALIDATION ERROR\n",
    "val_error = np.sqrt(mean_squared_error(y_val,val_pred))\n",
    "print(\"Validation Error = \",val_error)"
   ]
  },
  {
   "cell_type": "code",
   "execution_count": 54,
   "metadata": {
    "colab": {
     "base_uri": "https://localhost:8080/",
     "height": 419
    },
    "executionInfo": {
     "elapsed": 13858,
     "status": "ok",
     "timestamp": 1625818801994,
     "user": {
      "displayName": "PUSHAP GANDHI",
      "photoUrl": "https://lh3.googleusercontent.com/a-/AOh14GhtvSq40Q0iR7PAFnCqNljCvZEL0u3Jwy5L59EZTA=s64",
      "userId": "12599792132870778014"
     },
     "user_tz": -330
    },
    "id": "HYXQeS6JV_uX",
    "outputId": "6575a4bf-fff2-4bc2-a838-846e3c1df577"
   },
   "outputs": [
    {
     "data": {
      "text/html": [
       "<div>\n",
       "<style scoped>\n",
       "    .dataframe tbody tr th:only-of-type {\n",
       "        vertical-align: middle;\n",
       "    }\n",
       "\n",
       "    .dataframe tbody tr th {\n",
       "        vertical-align: top;\n",
       "    }\n",
       "\n",
       "    .dataframe thead th {\n",
       "        text-align: right;\n",
       "    }\n",
       "</style>\n",
       "<table border=\"1\" class=\"dataframe\">\n",
       "  <thead>\n",
       "    <tr style=\"text-align: right;\">\n",
       "      <th></th>\n",
       "      <th>test id</th>\n",
       "      <th>price</th>\n",
       "    </tr>\n",
       "  </thead>\n",
       "  <tbody>\n",
       "    <tr>\n",
       "      <th>0</th>\n",
       "      <td>0</td>\n",
       "      <td>9.115427</td>\n",
       "    </tr>\n",
       "    <tr>\n",
       "      <th>1</th>\n",
       "      <td>1</td>\n",
       "      <td>9.131144</td>\n",
       "    </tr>\n",
       "    <tr>\n",
       "      <th>2</th>\n",
       "      <td>2</td>\n",
       "      <td>42.475776</td>\n",
       "    </tr>\n",
       "    <tr>\n",
       "      <th>3</th>\n",
       "      <td>3</td>\n",
       "      <td>16.718650</td>\n",
       "    </tr>\n",
       "    <tr>\n",
       "      <th>4</th>\n",
       "      <td>4</td>\n",
       "      <td>7.526651</td>\n",
       "    </tr>\n",
       "    <tr>\n",
       "      <th>...</th>\n",
       "      <td>...</td>\n",
       "      <td>...</td>\n",
       "    </tr>\n",
       "    <tr>\n",
       "      <th>3460720</th>\n",
       "      <td>3460720</td>\n",
       "      <td>9.641794</td>\n",
       "    </tr>\n",
       "    <tr>\n",
       "      <th>3460721</th>\n",
       "      <td>3460721</td>\n",
       "      <td>32.770082</td>\n",
       "    </tr>\n",
       "    <tr>\n",
       "      <th>3460722</th>\n",
       "      <td>3460722</td>\n",
       "      <td>17.666883</td>\n",
       "    </tr>\n",
       "    <tr>\n",
       "      <th>3460723</th>\n",
       "      <td>3460723</td>\n",
       "      <td>21.367717</td>\n",
       "    </tr>\n",
       "    <tr>\n",
       "      <th>3460724</th>\n",
       "      <td>3460724</td>\n",
       "      <td>27.240855</td>\n",
       "    </tr>\n",
       "  </tbody>\n",
       "</table>\n",
       "<p>3460725 rows × 2 columns</p>\n",
       "</div>"
      ],
      "text/plain": [
       "         test id      price\n",
       "0              0   9.115427\n",
       "1              1   9.131144\n",
       "2              2  42.475776\n",
       "3              3  16.718650\n",
       "4              4   7.526651\n",
       "...          ...        ...\n",
       "3460720  3460720   9.641794\n",
       "3460721  3460721  32.770082\n",
       "3460722  3460722  17.666883\n",
       "3460723  3460723  21.367717\n",
       "3460724  3460724  27.240855\n",
       "\n",
       "[3460725 rows x 2 columns]"
      ]
     },
     "execution_count": 54,
     "metadata": {
      "tags": []
     },
     "output_type": "execute_result"
    }
   ],
   "source": [
    "# TEST PREDICTIONS\n",
    "ridge_predict = pd.DataFrame()\n",
    "ridge_predict[\"test id\"] = df_test.index\n",
    "ridge_predict[\"price\"] = log_to_actual(l2_best.predict(x_test))\n",
    "ridge_predict.to_csv(\"/content/drive/MyDrive/Colab Notebooks/cs1/ridge_tfidf_predict.csv\")\n",
    "ridge_predict"
   ]
  },
  {
   "cell_type": "code",
   "execution_count": 14,
   "metadata": {},
   "outputs": [
    {
     "data": {
      "image/png": "[encoded data removed]",
      "text/plain": [
       "<IPython.core.display.Image object>"
      ]
     },
     "execution_count": 14,
     "metadata": {},
     "output_type": "execute_result"
    }
   ],
   "source": [
    "Image(\"screenshot/ridge_tfidf.png\") "
   ]
  },
  {
   "cell_type": "markdown",
   "metadata": {
    "id": "gk9T3i_mkWRG"
   },
   "source": [
    "##  Model Comparison"
   ]
  },
  {
   "cell_type": "code",
   "execution_count": 18,
   "metadata": {
    "id": "e609ZpqCkWRG",
    "outputId": "7bdbec2f-b3ca-439e-8b22-4c22699d8953",
    "scrolled": true
   },
   "outputs": [
    {
     "data": {
      "text/html": [
       "<div>\n",
       "<style scoped>\n",
       "    .dataframe tbody tr th:only-of-type {\n",
       "        vertical-align: middle;\n",
       "    }\n",
       "\n",
       "    .dataframe tbody tr th {\n",
       "        vertical-align: top;\n",
       "    }\n",
       "\n",
       "    .dataframe thead th {\n",
       "        text-align: right;\n",
       "    }\n",
       "</style>\n",
       "<table border=\"1\" class=\"dataframe\">\n",
       "  <thead>\n",
       "    <tr style=\"text-align: right;\">\n",
       "      <th></th>\n",
       "      <th>Model</th>\n",
       "      <th>Feature Type</th>\n",
       "      <th>Best Param</th>\n",
       "      <th>Train Error</th>\n",
       "      <th>Validation Error</th>\n",
       "      <th>Test Error</th>\n",
       "    </tr>\n",
       "  </thead>\n",
       "  <tbody>\n",
       "    <tr>\n",
       "      <th>0</th>\n",
       "      <td>Benchmark</td>\n",
       "      <td>-</td>\n",
       "      <td>-</td>\n",
       "      <td>0.7267</td>\n",
       "      <td>0.7255</td>\n",
       "      <td>0.72753</td>\n",
       "    </tr>\n",
       "    <tr>\n",
       "      <th>1</th>\n",
       "      <td>Lasso</td>\n",
       "      <td>Label Endoing+Word2Vec</td>\n",
       "      <td>1e-05</td>\n",
       "      <td>0.6043</td>\n",
       "      <td>0.6037</td>\n",
       "      <td>0.60518</td>\n",
       "    </tr>\n",
       "    <tr>\n",
       "      <th>2</th>\n",
       "      <td>Ridge</td>\n",
       "      <td>Label Endoing+Word2Vec</td>\n",
       "      <td>10</td>\n",
       "      <td>0.6043</td>\n",
       "      <td>0.6037</td>\n",
       "      <td>0.60518</td>\n",
       "    </tr>\n",
       "    <tr>\n",
       "      <th>3</th>\n",
       "      <td>Decision Tree</td>\n",
       "      <td>Label Endoing+Word2Vec</td>\n",
       "      <td>10</td>\n",
       "      <td>0.6273</td>\n",
       "      <td>0.6353</td>\n",
       "      <td>0.637</td>\n",
       "    </tr>\n",
       "    <tr>\n",
       "      <th>4</th>\n",
       "      <td>Random Forest</td>\n",
       "      <td>Label Endoing+Word2Vec</td>\n",
       "      <td>500</td>\n",
       "      <td>-</td>\n",
       "      <td>-</td>\n",
       "      <td>-</td>\n",
       "    </tr>\n",
       "    <tr>\n",
       "      <th>5</th>\n",
       "      <td>Light GBM</td>\n",
       "      <td>Label Endoing+Word2Vec</td>\n",
       "      <td>1200</td>\n",
       "      <td>0.4784</td>\n",
       "      <td>0.5008</td>\n",
       "      <td>0.5005</td>\n",
       "    </tr>\n",
       "    <tr>\n",
       "      <th>6</th>\n",
       "      <td>linear Regression</td>\n",
       "      <td>One hot endoding + Tfidf</td>\n",
       "      <td>-</td>\n",
       "      <td>0.4241</td>\n",
       "      <td>0.462</td>\n",
       "      <td>0.4621</td>\n",
       "    </tr>\n",
       "    <tr>\n",
       "      <th>7</th>\n",
       "      <td>Ridge</td>\n",
       "      <td>One hot endoding + Tfidf</td>\n",
       "      <td>10</td>\n",
       "      <td>4414</td>\n",
       "      <td>0.4581</td>\n",
       "      <td>0.45831</td>\n",
       "    </tr>\n",
       "  </tbody>\n",
       "</table>\n",
       "</div>"
      ],
      "text/plain": [
       "               Model              Feature Type Best Param Train Error  \\\n",
       "0          Benchmark                         -          -      0.7267   \n",
       "1              Lasso    Label Endoing+Word2Vec      1e-05      0.6043   \n",
       "2              Ridge    Label Endoing+Word2Vec         10      0.6043   \n",
       "3      Decision Tree    Label Endoing+Word2Vec         10      0.6273   \n",
       "4      Random Forest    Label Endoing+Word2Vec        500           -   \n",
       "5          Light GBM    Label Endoing+Word2Vec       1200      0.4784   \n",
       "6  linear Regression  One hot endoding + Tfidf          -      0.4241   \n",
       "7              Ridge  One hot endoding + Tfidf         10        4414   \n",
       "\n",
       "  Validation Error Test Error  \n",
       "0           0.7255    0.72753  \n",
       "1           0.6037    0.60518  \n",
       "2           0.6037    0.60518  \n",
       "3           0.6353      0.637  \n",
       "4                -          -  \n",
       "5           0.5008     0.5005  \n",
       "6            0.462     0.4621  \n",
       "7           0.4581    0.45831  "
      ]
     },
     "execution_count": 18,
     "metadata": {},
     "output_type": "execute_result"
    }
   ],
   "source": [
    "res = pd.DataFrame()\n",
    "res[\"Model\"] = [\"Benchmark\",\"Lasso\",\"Ridge\",\"Decision Tree\",\"Random Forest\",\"Light GBM\",\"linear Regression\",\"Ridge\"]\n",
    "res[\"Feature Type\"] = [\"-\",\"Label Endoing+Word2Vec\",\"Label Endoing+Word2Vec\",\"Label Endoing+Word2Vec\",\"Label Endoing+Word2Vec\",\"Label Endoing+Word2Vec\",\"One hot endoding + Tfidf\", \"One hot endoding + Tfidf\"]\n",
    "res[\"Best Param\"] = [\"-\",1e-5,10,10,500,1200,\"-\",10]\n",
    "res[\"Train Error\"] = [0.7267,0.6043,0.6043,0.6273,\"-\",0.4784,0.4241,4414]\n",
    "res[\"Validation Error\"] = [0.7255,0.6037,0.6037,0.6353,\"-\",0.5008,0.4620,0.4581]\n",
    "res[\"Test Error\"] = [0.72753,0.60518,0.60518,0.6370,\"-\",0.50050,0.46210,0.45831]\n",
    "res"
   ]
  },
  {
   "cell_type": "markdown",
   "metadata": {},
   "source": [
    "#### Observation:\n",
    "* The best model for first cut approach is Ridge Model wiht Tfidf Features \n",
    "* For label encoded and word2vec features complex models like Light GBM performs better than simple linear models like lasso,ride.\n",
    "* But for Tdidf features the features become comparetuvely higher therfore liear models give decent values of performance metric.\n"
   ]
  },
  {
   "cell_type": "code",
   "execution_count": null,
   "metadata": {},
   "outputs": [],
   "source": []
  }
 ],
 "metadata": {
  "colab": {
   "name": "First_Cut_Solution-Word2Vec.ipynb",
   "version": ""
  },
  "kernelspec": {
   "display_name": "Python 3",
   "language": "python",
   "name": "python3"
  },
  "language_info": {
   "codemirror_mode": {
    "name": "ipython",
    "version": 3
   },
   "file_extension": ".py",
   "mimetype": "text/x-python",
   "name": "python",
   "nbconvert_exporter": "python",
   "pygments_lexer": "ipython3",
   "version": "3.7.6"
  }
 },
 "nbformat": 4,
 "nbformat_minor": 1
}
